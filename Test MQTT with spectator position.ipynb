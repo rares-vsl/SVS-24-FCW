{
 "cells": [
  {
   "cell_type": "markdown",
   "id": "ff13047c",
   "metadata": {},
   "source": [
    "# Test MQTT by transmit the position of the spectator"
   ]
  },
  {
   "cell_type": "code",
   "execution_count": 1,
   "id": "4f9e8a65",
   "metadata": {},
   "outputs": [
    {
     "name": "stdout",
     "output_type": "stream",
     "text": [
      "pygame 2.6.1 (SDL 2.28.4, Python 3.7.16)\n",
      "Hello from the pygame community. https://www.pygame.org/contribute.html\n"
     ]
    }
   ],
   "source": [
    "import carla, time, pygame, random, paho.mqtt.client as mqtt"
   ]
  },
  {
   "cell_type": "code",
   "execution_count": 2,
   "id": "31d58f86",
   "metadata": {},
   "outputs": [],
   "source": [
    "client = carla.Client(\"localhost\", 2000)\n",
    "world = client.get_world()"
   ]
  },
  {
   "cell_type": "markdown",
   "id": "41f4bd94",
   "metadata": {},
   "source": [
    "## set MQTT"
   ]
  },
  {
   "cell_type": "code",
   "execution_count": 3,
   "id": "7a6195b4",
   "metadata": {},
   "outputs": [],
   "source": [
    "broker = 'broker.emqx.io'\n",
    "port = 1883\n",
    "topic = \"carla/position\""
   ]
  },
  {
   "cell_type": "markdown",
   "id": "a9352ab4",
   "metadata": {},
   "source": [
    "## function to transimt the position "
   ]
  },
  {
   "cell_type": "code",
   "execution_count": 4,
   "id": "561ff1b3",
   "metadata": {},
   "outputs": [],
   "source": [
    "def publish_position(client):\n",
    "    location = world.get_spectator().get_transform().location\n",
    "    msg = f\"Il veicolo è stato posizionato in: x={location.x}, y={location.y}, z={location.z}\"\n",
    "    result = client.publish(topic, msg)\n",
    "    # result: [0, 1]\n",
    "    status = result[0]\n",
    "    if status == 0:\n",
    "        print(f\"Send `{msg}` to topic `{topic}`\")\n",
    "    else:\n",
    "        print(f\"Failed to send message to topic {topic}\")"
   ]
  },
  {
   "cell_type": "markdown",
   "id": "6e176ed5",
   "metadata": {},
   "source": [
    "## Start the MQTT"
   ]
  },
  {
   "cell_type": "code",
   "execution_count": 5,
   "id": "d3f2be87",
   "metadata": {},
   "outputs": [
    {
     "data": {
      "text/plain": [
       "<MQTTErrorCode.MQTT_ERR_SUCCESS: 0>"
      ]
     },
     "execution_count": 5,
     "metadata": {},
     "output_type": "execute_result"
    }
   ],
   "source": [
    "mqttc = mqtt.Client(mqtt.CallbackAPIVersion.VERSION2)\n",
    "mqttc.connect(broker, port)\n",
    "\n",
    "mqttc.loop_start()"
   ]
  },
  {
   "cell_type": "markdown",
   "id": "007126a4",
   "metadata": {},
   "source": [
    "## Test"
   ]
  },
  {
   "cell_type": "code",
   "execution_count": 6,
   "id": "5cee95fc",
   "metadata": {},
   "outputs": [],
   "source": [
    "screen = pygame.display.set_mode((400, 300))"
   ]
  },
  {
   "cell_type": "code",
   "execution_count": 7,
   "id": "f7349e1e",
   "metadata": {},
   "outputs": [
    {
     "name": "stdout",
     "output_type": "stream",
     "text": [
      "Send `Il veicolo è stato posizionato in: x=66.65670013427734, y=26.89160919189453, z=5.6712188720703125` to topic `carla/position`\n"
     ]
    }
   ],
   "source": [
    "running = True\n",
    "\n",
    "while running:\n",
    "    for event in pygame.event.get():\n",
    "        if event.type == pygame.KEYDOWN:\n",
    "            key = event.key\n",
    "            if key == pygame.QUIT or key == pygame.K_ESCAPE:\n",
    "                running = False\n",
    "            elif key == pygame.K_p:\n",
    "                publish_position(mqttc)\n",
    "pygame.quit()"
   ]
  },
  {
   "cell_type": "code",
   "execution_count": 8,
   "id": "655eda90",
   "metadata": {},
   "outputs": [
    {
     "data": {
      "text/plain": [
       "<MQTTErrorCode.MQTT_ERR_SUCCESS: 0>"
      ]
     },
     "execution_count": 8,
     "metadata": {},
     "output_type": "execute_result"
    }
   ],
   "source": [
    "mqttc.loop_stop()\n",
    "mqttc.disconnect()"
   ]
  }
 ],
 "metadata": {
  "kernelspec": {
   "display_name": "Python 3 (ipykernel)",
   "language": "python",
   "name": "python3"
  },
  "language_info": {
   "codemirror_mode": {
    "name": "ipython",
    "version": 3
   },
   "file_extension": ".py",
   "mimetype": "text/x-python",
   "name": "python",
   "nbconvert_exporter": "python",
   "pygments_lexer": "ipython3",
   "version": "3.7.16"
  }
 },
 "nbformat": 4,
 "nbformat_minor": 5
}
