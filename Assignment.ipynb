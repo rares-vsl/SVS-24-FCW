{
 "cells": [
  {
   "cell_type": "markdown",
   "metadata": {},
   "source": [
    "# **IMPORT LIBRERIE**"
   ]
  },
  {
   "cell_type": "code",
   "execution_count": null,
   "metadata": {},
   "outputs": [],
   "source": [
    "import carla, time, pygame, math, random, cv2\n",
    "import numpy as np\n",
    "\n",
    "from enum import Enum"
   ]
  },
  {
   "cell_type": "markdown",
   "metadata": {},
   "source": [
    "# **CONNESSIONE A CARLA**"
   ]
  },
  {
   "cell_type": "code",
   "execution_count": 2,
   "metadata": {},
   "outputs": [],
   "source": [
    "client = carla.Client('localhost', 2000)\n",
    "client.set_timeout(10.0)"
   ]
  },
  {
   "cell_type": "markdown",
   "metadata": {},
   "source": [
    "# **VARIABILI GLOBALI**"
   ]
  },
  {
   "cell_type": "code",
   "execution_count": 3,
   "metadata": {},
   "outputs": [],
   "source": [
    "# Instanza mondo\n",
    "world = client.get_world()"
   ]
  },
  {
   "cell_type": "code",
   "execution_count": 4,
   "metadata": {},
   "outputs": [],
   "source": [
    "# Enum state del sistema adas\n",
    "class Fcw_state(Enum):\n",
    "    IDLE = 4\n",
    "    WARNING = 3\n",
    "    ACTION = 2\n",
    "    ESCAPE = 1"
   ]
  },
  {
   "cell_type": "code",
   "execution_count": 5,
   "metadata": {},
   "outputs": [],
   "source": [
    "# Variabili di configurazione\n",
    "min_fcw_state = Fcw_state.IDLE\n",
    "vehicle_vertical_dimension = 0.75\n",
    "vehicle_lateral_dimension = 0.9\n",
    "min_ttc = 0.5\n",
    "average_reaction_time = 2.5\n",
    "throttle = 0.7\n",
    "velocity_threshold = 2.77\n",
    "asphalt_friction_coefficient = 0.8\n",
    "asphalt_friction_deceleration = 9.81 * asphalt_friction_coefficient"
   ]
  },
  {
   "cell_type": "markdown",
   "metadata": {},
   "source": [
    "# **METODI PER LA CREAZIONE DI ATTORI**"
   ]
  },
  {
   "cell_type": "code",
   "execution_count": 6,
   "metadata": {},
   "outputs": [],
   "source": [
    "def spawn_vehicle(vehicle_index=10, spawn_index=0, pattern='vehicle.*'):\n",
    "    blueprint_library = world.get_blueprint_library()\n",
    "    vehicle_bp = blueprint_library.filter(pattern)[vehicle_index]\n",
    "    spawn_point = world.get_map().get_spawn_points()[spawn_index]\n",
    "    vehicle = world.spawn_actor(vehicle_bp, spawn_point)\n",
    "    return vehicle"
   ]
  },
  {
   "cell_type": "code",
   "execution_count": 7,
   "metadata": {},
   "outputs": [],
   "source": [
    "def spawn_radar(vehicle):\n",
    "    rad_bp = world.get_blueprint_library().find('sensor.other.radar')\n",
    "    rad_bp.set_attribute('horizontal_fov', str(125))\n",
    "    rad_bp.set_attribute('vertical_fov', str(115))\n",
    "    rad_bp.set_attribute('range', str(285))\n",
    "    rad_bp.set_attribute('points_per_second', str(2000))\n",
    "    rad_location = carla.Location(x=2.25, z=0.9)\n",
    "    rad_rotation = carla.Rotation()\n",
    "    rad_transform = carla.Transform(rad_location,rad_rotation)\n",
    "    return world.spawn_actor(rad_bp,rad_transform,attach_to=vehicle, attachment_type=carla.AttachmentType.Rigid)\n"
   ]
  },
  {
   "cell_type": "code",
   "execution_count": 8,
   "metadata": {},
   "outputs": [],
   "source": [
    "def spawn_walker():\n",
    "    walker_bp = random.choice(world.get_blueprint_library().filter(\"walker.pedestrian.*\"))\n",
    "\n",
    "    start_location = carla.Location(x=70, y=25, z=1)\n",
    "\n",
    "    trans = carla.Transform()\n",
    "    trans.location = start_location\n",
    "\n",
    "    return world.spawn_actor(walker_bp, trans)"
   ]
  },
  {
   "cell_type": "markdown",
   "metadata": {},
   "source": [
    "# **FUNZIONI DI SUPPORTO GENERICHE**"
   ]
  },
  {
   "cell_type": "code",
   "execution_count": 9,
   "metadata": {},
   "outputs": [],
   "source": [
    "# Convertitori\n",
    "def check_lateral_collision(azimuth, depth):\n",
    "    global vehicle_lateral_dimension\n",
    "    return abs(depth * math.sin(azimuth)) < vehicle_lateral_dimension\n",
    "\n",
    "def check_vertical_collision(altitude, depth):\n",
    "    global vehicle_vertical_dimension\n",
    "    return abs(depth * math.sin(altitude)) < vehicle_vertical_dimension \n",
    "\n",
    "def get_projected_velocity(azimuth, altitude, velocity):\n",
    "    return abs(math.cos(azimuth) * math.cos(altitude) * velocity)\n",
    "\n",
    "def get_projected_depth(azimuth, altitude, depth):\n",
    "    return abs(math.cos(azimuth) * math.cos(altitude) * depth)\n",
    "\n",
    "def get_breaking_distance(projected_velocity):\n",
    "    global asphalt_friction_deceleration\n",
    "    return (1/2) * projected_velocity**2 / asphalt_friction_deceleration\n",
    "\n",
    "def get_vehicle_velocity(vehicle):\n",
    "    velocity_vector = vehicle.get_velocity()\n",
    "    velocity = (velocity_vector.x**2 + velocity_vector.y**2 + velocity_vector.z**2)**0.5\n",
    "    if vehicle.get_control().reverse:\n",
    "        velocity = -velocity\n",
    "    return velocity"
   ]
  },
  {
   "cell_type": "code",
   "execution_count": 10,
   "metadata": {},
   "outputs": [],
   "source": [
    "# Comandi guida veicolo\n",
    "def move_forward(vehicle):\n",
    "    global throttle\n",
    "    control = carla.VehicleControl()\n",
    "    control.throttle = throttle\n",
    "    vehicle.apply_control(control)\n",
    "\n",
    "def stop_vehicle(vehicle):\n",
    "    control = carla.VehicleControl()\n",
    "    control.throttle = 0.0\n",
    "    control.brake = 1.0\n",
    "    vehicle.apply_control(control)\n",
    "    while True:\n",
    "        if get_vehicle_velocity(vehicle) < 1:\n",
    "            break"
   ]
  },
  {
   "cell_type": "code",
   "execution_count": 11,
   "metadata": {},
   "outputs": [],
   "source": [
    "# Simulatore sensore umidità dell'asflato\n",
    "def get_asphalt_friction_coefficient():\n",
    "    world = client.get_world()\n",
    "    weather = world.get_weather()\n",
    "    weather.precipitation\n",
    "    weather.precipitation_deposits\n",
    "    weather.wetness\n",
    "    weather.dust_storm\n",
    "    return 0.8"
   ]
  },
  {
   "cell_type": "markdown",
   "metadata": {},
   "source": [
    "# **LOGICA ADAS**"
   ]
  },
  {
   "cell_type": "code",
   "execution_count": 12,
   "metadata": {},
   "outputs": [],
   "source": [
    "def forward_collision_callback(radar_data, vehicle):\n",
    "  global min_fcw_state, counter, min_ttc, velocity_threshold, average_reaction_time\n",
    "  for detection in radar_data:\n",
    "    vehicle_velocity = get_vehicle_velocity(vehicle)\n",
    "    if vehicle_velocity > velocity_threshold:\n",
    "      if detection.velocity < 0 and check_lateral_collision(detection.azimuth, detection.depth) and check_vertical_collision(detection.altitude, detection.depth):\n",
    "        projected_velocity = get_projected_velocity(detection.azimuth, detection.altitude, detection.velocity)   \n",
    "        breaking_distance = (projected_velocity)\n",
    "        projected_depth = get_projected_depth(detection.azimuth, detection.altitude, detection.depth)\n",
    "        reacting_distance = max(0, projected_depth - breaking_distance)\n",
    "        ttc = reacting_distance / projected_velocity\n",
    "        fcw_state = Fcw_state.IDLE\n",
    "        if ttc < min_ttc:\n",
    "          if vehicle_velocity < projected_velocity - 2*velocity_threshold:\n",
    "            fcw_state = Fcw_state.ESCAPE\n",
    "          else:\n",
    "            fcw_state = Fcw_state.ACTION\n",
    "        elif ttc < min_ttc + average_reaction_time:\n",
    "          fcw_state = Fcw_state.WARNING\n",
    "        if fcw_state.value < min_fcw_state.value:\n",
    "          min_fcw_state = fcw_state    \n",
    "    else:\n",
    "      fcw_state = Fcw_state.IDLE\n",
    "        "
   ]
  },
  {
   "cell_type": "markdown",
   "metadata": {},
   "source": [
    "# **SIMULAZIONE**"
   ]
  },
  {
   "cell_type": "code",
   "execution_count": null,
   "metadata": {},
   "outputs": [],
   "source": [
    "try:\n",
    "    vehicle = spawn_vehicle()\n",
    "    radar = spawn_radar(vehicle)\n",
    "    walker = spawn_walker()\n",
    "    #vehicle.set_autopilot(True)\n",
    "    radar.listen(lambda radar_data: forward_collision_callback(radar_data, vehicle))\n",
    "    while True:\n",
    "        if min_fcw_state == Fcw_state.ACTION:\n",
    "            stop_vehicle(vehicle)\n",
    "            print(\"Emergency braking activated!\")  \n",
    "            time.sleep(5)\n",
    "            break\n",
    "        elif min_fcw_state == Fcw_state.WARNING:    \n",
    "            print(\"Emergency warning!\")  \n",
    "        elif min_fcw_state == Fcw_state.ESCAPE: \n",
    "            print(\"EscapeTime!\") \n",
    "        else: \n",
    "            move_forward(vehicle)\n",
    "        asphalt_friction_coefficient = get_asphalt_friction_coefficient()\n",
    "        asphalt_friction_deceleration = 9.81 * asphalt_friction_coefficient\n",
    "        time.sleep(0.05)\n",
    "\n",
    "finally:\n",
    "    vehicle.destroy()\n",
    "    radar.destroy()\n",
    "    walker.destroy()\n",
    "    "
   ]
  }
 ],
 "metadata": {
  "kernelspec": {
   "display_name": "carla-env",
   "language": "python",
   "name": "python3"
  },
  "language_info": {
   "codemirror_mode": {
    "name": "ipython",
    "version": 3
   },
   "file_extension": ".py",
   "mimetype": "text/x-python",
   "name": "python",
   "nbconvert_exporter": "python",
   "pygments_lexer": "ipython3",
   "version": "3.7.12"
  }
 },
 "nbformat": 4,
 "nbformat_minor": 2
}
