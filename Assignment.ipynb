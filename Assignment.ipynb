{
 "cells": [
  {
   "cell_type": "code",
   "execution_count": 1,
   "metadata": {},
   "outputs": [
    {
     "name": "stdout",
     "output_type": "stream",
     "text": [
      "pygame 2.6.1 (SDL 2.28.4, Python 3.7.12)\n",
      "Hello from the pygame community. https://www.pygame.org/contribute.html\n"
     ]
    }
   ],
   "source": [
    "import carla, time, pygame, math, random, cv2\n",
    "import numpy as np"
   ]
  },
  {
   "cell_type": "code",
   "execution_count": 2,
   "metadata": {},
   "outputs": [],
   "source": [
    "client = carla.Client('localhost', 2000)\n",
    "client.set_timeout(10.0)\n",
    "\n",
    "world = client.get_world()\n",
    "spectator = world.get_spectator()"
   ]
  },
  {
   "cell_type": "code",
   "execution_count": 3,
   "metadata": {},
   "outputs": [],
   "source": [
    "def spawn_vehicle(vehicle_index=0, spawn_index=0, pattern='vehicle.*'):\n",
    "    blueprint_library = world.get_blueprint_library()\n",
    "    vehicle_bp = blueprint_library.filter(pattern)[vehicle_index]\n",
    "    spawn_point = world.get_map().get_spawn_points()[spawn_index]\n",
    "    vehicle = world.spawn_actor(vehicle_bp, spawn_point)\n",
    "    return vehicle"
   ]
  },
  {
   "cell_type": "code",
   "execution_count": 4,
   "metadata": {},
   "outputs": [],
   "source": [
    "def move_forward(vehicle):\n",
    "    control = carla.VehicleControl()\n",
    "    control.throttle = throttle\n",
    "    vehicle.apply_control(control)\n",
    "\n",
    "def stop_vehicle(vehicle):\n",
    "    control = carla.VehicleControl()\n",
    "    control.throttle = 0.0\n",
    "    control.brake = 1.0\n",
    "    vehicle.apply_control(control)\n",
    " "
   ]
  },
  {
   "cell_type": "code",
   "execution_count": 5,
   "metadata": {},
   "outputs": [],
   "source": [
    "from enum import Enum\n",
    "\n",
    "class Fcw_state(Enum):\n",
    "    IDLE = 4\n",
    "    WARNING = 3\n",
    "    ACTION = 2\n",
    "    ESCAPE = 1"
   ]
  },
  {
   "cell_type": "code",
   "execution_count": 6,
   "metadata": {},
   "outputs": [],
   "source": [
    "def check_lateral_collision(azimuth, depth):\n",
    "    global vehicle_lateral_dimension\n",
    "    return abs(depth * math.sin(azimuth)) < vehicle_lateral_dimension\n",
    "\n",
    "\n",
    "def check_vertical_collision(altitude, depth):\n",
    "    global vehicle_vertical_dimension\n",
    "    return abs(depth * math.sin(altitude)) < vehicle_vertical_dimension \n",
    "\n",
    "def get_projected_velocity(azimuth, altitude, velocity):\n",
    "    return abs(math.cos(azimuth) * math.cos(altitude) * velocity)\n",
    "\n",
    "def get_projected_depth(azimuth, altitude, depth):\n",
    "    return abs(math.cos(azimuth) * math.cos(altitude) * depth)\n",
    "\n",
    "def get_breaking_distance(projected_velocity):\n",
    "    global asphalt_friction_deceleration\n",
    "    return (1/2) * projected_velocity**2 / asphalt_friction_deceleration\n",
    "\n",
    "def get_vehicle_velocity(vehicle):\n",
    "    velocity_vector = vehicle.get_velocity()\n",
    "    velocity = (velocity_vector.x**2 + velocity_vector.y**2 + velocity_vector.z**2)**0.5\n",
    "    if vehicle.get_control().reverse:\n",
    "        velocity = -velocity\n",
    "    return velocity"
   ]
  },
  {
   "cell_type": "code",
   "execution_count": 7,
   "metadata": {},
   "outputs": [],
   "source": [
    "counter = 0\n",
    "\n",
    "def forward_collision_callback(radar_data, vehicle):\n",
    "        global min_fcw_state, counter, min_ttc, velocity_threshold, average_reaction_time, free_from_obstacle_counter\n",
    "        obastacle_detected = False\n",
    "        for detection in radar_data:\n",
    "            if detection.velocity < -velocity_threshold and check_lateral_collision(detection.azimuth, detection.depth) and check_vertical_collision(detection.altitude, detection.depth):\n",
    "                  projected_velocity = get_projected_velocity(detection.azimuth, detection.altitude, detection.velocity)\n",
    "                  if projected_velocity > velocity_threshold:\n",
    "                    breaking_distance = (projected_velocity)\n",
    "                    projected_depth = get_projected_depth(detection.azimuth, detection.altitude, detection.depth)\n",
    "                    reacting_distance = max(0, projected_depth - breaking_distance)\n",
    "                    ttc = reacting_distance / projected_velocity\n",
    "                    obastacle_detected = True\n",
    "                    fcw_state = Fcw_state.IDLE\n",
    "                    if ttc < min_ttc:\n",
    "                      vehicle_velocity = get_vehicle_velocity(vehicle)\n",
    "                      if vehicle_velocity < projected_velocity - 2*velocity_threshold:\n",
    "                        fcw_state = Fcw_state.ESCAPE\n",
    "                      else:\n",
    "                        fcw_state = Fcw_state.ACTION\n",
    "                    elif ttc < min_ttc + average_reaction_time + 1:\n",
    "                         fcw_state = Fcw_state.WARNING\n",
    "                    if fcw_state.value < min_fcw_state.value:\n",
    "                        min_fcw_state = fcw_state\n",
    "\n",
    "        if not obastacle_detected:\n",
    "            counter += 1\n",
    "            if counter > free_from_obstacle_counter:\n",
    "              counter = 0\n",
    "              min_fcw_state = Fcw_state.IDLE   \n",
    "        else: \n",
    "            counter = 0      "
   ]
  },
  {
   "cell_type": "code",
   "execution_count": 8,
   "metadata": {},
   "outputs": [],
   "source": [
    "def create_radar(vehicle):\n",
    "    rad_bp = world.get_blueprint_library().find('sensor.other.radar')\n",
    "    rad_bp.set_attribute('horizontal_fov', str(20))\n",
    "    rad_bp.set_attribute('vertical_fov', str(20))\n",
    "    rad_bp.set_attribute('range', str(285))\n",
    "    rad_bp.set_attribute('points_per_second', str(2000))\n",
    "    rad_location = carla.Location(x=2.25, z=0.9)\n",
    "    rad_rotation = carla.Rotation()\n",
    "    rad_transform = carla.Transform(rad_location,rad_rotation)\n",
    "    return world.spawn_actor(rad_bp,rad_transform,attach_to=vehicle, attachment_type=carla.AttachmentType.Rigid)\n"
   ]
  },
  {
   "cell_type": "code",
   "execution_count": 9,
   "metadata": {},
   "outputs": [],
   "source": [
    "def get_asphalt_friction_coefficient():\n",
    "    world = client.get_world()\n",
    "    weather = world.get_weather()\n",
    "    weather.precipitation\n",
    "    weather.precipitation_deposits\n",
    "    weather.wetness\n",
    "    weather.dust_storm\n",
    "    return 0.8"
   ]
  },
  {
   "cell_type": "code",
   "execution_count": 22,
   "metadata": {},
   "outputs": [
    {
     "name": "stdout",
     "output_type": "stream",
     "text": [
      "Emergency warning!\n",
      "Emergency warning!\n",
      "Emergency warning!\n",
      "Emergency warning!\n",
      "Emergency warning!\n",
      "Emergency warning!\n",
      "Emergency warning!\n",
      "Emergency warning!\n",
      "Emergency warning!\n",
      "Emergency warning!\n",
      "Emergency warning!\n",
      "Emergency warning!\n",
      "Emergency warning!\n",
      "Emergency warning!\n",
      "Emergency warning!\n",
      "Emergency warning!\n",
      "Emergency warning!\n",
      "Emergency warning!\n",
      "Emergency warning!\n",
      "Emergency warning!\n",
      "Emergency warning!\n",
      "Emergency warning!\n",
      "Emergency warning!\n",
      "Emergency warning!\n",
      "Emergency warning!\n",
      "Emergency warning!\n",
      "Emergency warning!\n",
      "Emergency warning!\n",
      "Emergency warning!\n",
      "Emergency warning!\n",
      "Emergency warning!\n",
      "Emergency braking activated!\n"
     ]
    },
    {
     "ename": "KeyboardInterrupt",
     "evalue": "",
     "output_type": "error",
     "traceback": [
      "\u001b[0;31m---------------------------------------------------------------------------\u001b[0m",
      "\u001b[0;31mKeyboardInterrupt\u001b[0m                         Traceback (most recent call last)",
      "\u001b[0;32m/tmp/ipykernel_3317/3169940229.py\u001b[0m in \u001b[0;36m<module>\u001b[0;34m\u001b[0m\n\u001b[1;32m     19\u001b[0m             \u001b[0mstop_vehicle\u001b[0m\u001b[0;34m(\u001b[0m\u001b[0mvehicle\u001b[0m\u001b[0;34m)\u001b[0m\u001b[0;34m\u001b[0m\u001b[0;34m\u001b[0m\u001b[0m\n\u001b[1;32m     20\u001b[0m             \u001b[0mprint\u001b[0m\u001b[0;34m(\u001b[0m\u001b[0;34m\"Emergency braking activated!\"\u001b[0m\u001b[0;34m)\u001b[0m\u001b[0;34m\u001b[0m\u001b[0;34m\u001b[0m\u001b[0m\n\u001b[0;32m---> 21\u001b[0;31m             \u001b[0mtime\u001b[0m\u001b[0;34m.\u001b[0m\u001b[0msleep\u001b[0m\u001b[0;34m(\u001b[0m\u001b[0;36m10\u001b[0m\u001b[0;34m)\u001b[0m\u001b[0;34m\u001b[0m\u001b[0;34m\u001b[0m\u001b[0m\n\u001b[0m\u001b[1;32m     22\u001b[0m         \u001b[0;32melif\u001b[0m \u001b[0mmin_fcw_state\u001b[0m \u001b[0;34m==\u001b[0m \u001b[0mFcw_state\u001b[0m\u001b[0;34m.\u001b[0m\u001b[0mWARNING\u001b[0m\u001b[0;34m:\u001b[0m\u001b[0;34m\u001b[0m\u001b[0;34m\u001b[0m\u001b[0m\n\u001b[1;32m     23\u001b[0m             \u001b[0mprint\u001b[0m\u001b[0;34m(\u001b[0m\u001b[0;34m\"Emergency warning!\"\u001b[0m\u001b[0;34m)\u001b[0m\u001b[0;34m\u001b[0m\u001b[0;34m\u001b[0m\u001b[0m\n",
      "\u001b[0;31mKeyboardInterrupt\u001b[0m: "
     ]
    }
   ],
   "source": [
    "min_fcw_state = Fcw_state.IDLE\n",
    "vehicle_vertical_dimension = 0.75\n",
    "vehicle_lateral_dimension = 0.9\n",
    "min_ttc = 0.75\n",
    "average_reaction_time = 2.5\n",
    "throttle = 0.7\n",
    "free_from_obstacle_counter = 10\n",
    "velocity_threshold = 2.77\n",
    "asphalt_friction_coefficient = 0.8\n",
    "asphalt_friction_deceleration = 9.81 * asphalt_friction_coefficient\n",
    "\n",
    "try:\n",
    "    vehicle = spawn_vehicle()\n",
    "    radar = create_radar(vehicle)\n",
    "    #vehicle.set_autopilot(True)\n",
    "    radar.listen(lambda radar_data: forward_collision_callback(radar_data, vehicle))\n",
    "    while True:\n",
    "        if min_fcw_state == Fcw_state.ACTION:\n",
    "            stop_vehicle(vehicle)\n",
    "            print(\"Emergency braking activated!\")  \n",
    "            time.sleep(10)\n",
    "        elif min_fcw_state == Fcw_state.WARNING:    \n",
    "            print(\"Emergency warning!\")  \n",
    "        elif min_fcw_state == Fcw_state.ESCAPE: \n",
    "            print(\"EscapeTime!\") \n",
    "        else: \n",
    "            move_forward(vehicle)\n",
    "        asphalt_friction_coefficient = get_asphalt_friction_coefficient()\n",
    "        asphalt_friction_deceleration = 9.81 * asphalt_friction_coefficient\n",
    "        time.sleep(0.05)\n",
    "\n",
    "finally:\n",
    "    vehicle.destroy()\n",
    "    radar.destroy()\n",
    "    "
   ]
  }
 ],
 "metadata": {
  "kernelspec": {
   "display_name": "carla-env",
   "language": "python",
   "name": "python3"
  },
  "language_info": {
   "codemirror_mode": {
    "name": "ipython",
    "version": 3
   },
   "file_extension": ".py",
   "mimetype": "text/x-python",
   "name": "python",
   "nbconvert_exporter": "python",
   "pygments_lexer": "ipython3",
   "version": "3.7.12"
  }
 },
 "nbformat": 4,
 "nbformat_minor": 2
}
