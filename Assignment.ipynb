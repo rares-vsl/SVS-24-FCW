{
 "cells": [
  {
   "cell_type": "markdown",
   "metadata": {},
   "source": [
    "# **IMPORT LIBRERIE**"
   ]
  },
  {
   "cell_type": "code",
   "execution_count": 1,
   "metadata": {},
   "outputs": [
    {
     "name": "stdout",
     "output_type": "stream",
     "text": [
      "pygame 2.6.1 (SDL 2.28.4, Python 3.7.12)\n",
      "Hello from the pygame community. https://www.pygame.org/contribute.html\n"
     ]
    }
   ],
   "source": [
    "import carla, time, pygame, math, random, paho.mqtt.client as mqtt\n",
    "from enum import Enum"
   ]
  },
  {
   "cell_type": "markdown",
   "metadata": {},
   "source": [
    "# **CONNESSIONE A CARLA**"
   ]
  },
  {
   "cell_type": "code",
   "execution_count": 2,
   "metadata": {},
   "outputs": [],
   "source": [
    "client = carla.Client('localhost', 2000)\n",
    "client.set_timeout(10.0)"
   ]
  },
  {
   "cell_type": "markdown",
   "metadata": {},
   "source": [
    "# **CONNESSIONE A MQTT**"
   ]
  },
  {
   "cell_type": "code",
   "execution_count": 3,
   "metadata": {},
   "outputs": [
    {
     "data": {
      "text/plain": [
       "<MQTTErrorCode.MQTT_ERR_SUCCESS: 0>"
      ]
     },
     "execution_count": 3,
     "metadata": {},
     "output_type": "execute_result"
    }
   ],
   "source": [
    "# Definizione variabili\n",
    "broker = 'broker.emqx.io'\n",
    "port = 1883\n",
    "topic = \"carla/fcw_state\"\n",
    "# Connessione\n",
    "mqttc = mqtt.Client(mqtt.CallbackAPIVersion.VERSION2)\n",
    "mqttc.connect(broker, port)"
   ]
  },
  {
   "cell_type": "markdown",
   "metadata": {},
   "source": [
    "# **VARIABILI GLOBALI**"
   ]
  },
  {
   "cell_type": "code",
   "execution_count": 4,
   "metadata": {},
   "outputs": [],
   "source": [
    "# Instanza mondo\n",
    "world = client.get_world()"
   ]
  },
  {
   "cell_type": "code",
   "execution_count": 5,
   "metadata": {},
   "outputs": [],
   "source": [
    "# Enum state del sistema adas\n",
    "class Fcw_state(Enum):\n",
    "    IDLE = 4\n",
    "    WARNING = 3\n",
    "    ACTION = 2\n",
    "    ESCAPE = 1"
   ]
  },
  {
   "cell_type": "code",
   "execution_count": 19,
   "metadata": {},
   "outputs": [],
   "source": [
    "# Variabili di configurazione\n",
    "min_fcw_state = Fcw_state.IDLE\n",
    "vehicle_vertical_dimension = 0.75\n",
    "vehicle_lateral_dimension = 0.9\n",
    "min_ttc = 0.5\n",
    "average_reaction_time = 2.5\n",
    "throttle = 0.7\n",
    "velocity_threshold = 2.77\n",
    "max_steer_angle = 40\n",
    "angle_steer_tollerance = 0.05\n",
    "radar_range = 285"
   ]
  },
  {
   "cell_type": "markdown",
   "metadata": {},
   "source": [
    "# **METODI PER LA CREAZIONE DI ATTORI**"
   ]
  },
  {
   "cell_type": "code",
   "execution_count": 7,
   "metadata": {},
   "outputs": [],
   "source": [
    "def spawn_vehicle(vehicle_index=0, spawn_index=0, pattern='vehicle.*'):\n",
    "    blueprint_library = world.get_blueprint_library()\n",
    "    vehicle_bp = blueprint_library.filter(pattern)[vehicle_index]\n",
    "    spawn_point = world.get_map().get_spawn_points()[spawn_index]\n",
    "    vehicle = world.spawn_actor(vehicle_bp, spawn_point)\n",
    "    return vehicle"
   ]
  },
  {
   "cell_type": "code",
   "execution_count": 8,
   "metadata": {},
   "outputs": [],
   "source": [
    "def spawn_radar(vehicle):\n",
    "    rad_bp = world.get_blueprint_library().find('sensor.other.radar')\n",
    "    rad_bp.set_attribute('horizontal_fov', str(125))\n",
    "    rad_bp.set_attribute('vertical_fov', str(115))\n",
    "    rad_bp.set_attribute('range', str(radar_range))\n",
    "    rad_bp.set_attribute('points_per_second', str(2000))\n",
    "    rad_location = carla.Location(x=2.25, z=0.9)\n",
    "    rad_rotation = carla.Rotation()\n",
    "    rad_transform = carla.Transform(rad_location,rad_rotation)\n",
    "    return world.spawn_actor(rad_bp,rad_transform,attach_to=vehicle, attachment_type=carla.AttachmentType.Rigid)\n"
   ]
  },
  {
   "cell_type": "code",
   "execution_count": 9,
   "metadata": {},
   "outputs": [],
   "source": [
    "def spawn_walker():\n",
    "    walker_bp = random.choice(world.get_blueprint_library().filter(\"walker.pedestrian.*\"))\n",
    "\n",
    "    start_location = carla.Location(x=70, y=25, z=1)\n",
    "\n",
    "    trans = carla.Transform()\n",
    "    trans.location = start_location\n",
    "\n",
    "    return world.spawn_actor(walker_bp, trans)"
   ]
  },
  {
   "cell_type": "markdown",
   "metadata": {},
   "source": [
    "# **FUNZIONI DI SUPPORTO GENERICHE**"
   ]
  },
  {
   "cell_type": "code",
   "execution_count": 10,
   "metadata": {},
   "outputs": [],
   "source": [
    "# Controllo dei segno\n",
    "def equals_sign(a, b):\n",
    "    return (a > 0 and b > 0) or (a < 0 and b < 0)"
   ]
  },
  {
   "cell_type": "code",
   "execution_count": 11,
   "metadata": {},
   "outputs": [],
   "source": [
    "# Convertitori\n",
    "def check_lateral_collision(azimuth, depth, steering_angle):\n",
    "    global vehicle_lateral_dimension\n",
    "    if equals_sign(azimuth, steering_angle):\n",
    "        return True\n",
    "    return abs(depth * math.sin(azimuth)) < vehicle_lateral_dimension\n",
    "\n",
    "def check_vertical_collision(altitude, depth):\n",
    "    global vehicle_vertical_dimension\n",
    "    return abs(depth * math.sin(altitude)) < vehicle_vertical_dimension \n",
    "\n",
    "def get_projected_velocity(azimuth, altitude, velocity, steering_angle):\n",
    "    return abs(math.cos(azimuth - steering_angle) * math.cos(altitude) * velocity)\n",
    "\n",
    "def get_projected_depth(azimuth, altitude, depth, steering_angle):\n",
    "    return abs(math.cos(azimuth - steering_angle) * math.cos(altitude) * depth)\n",
    "\n",
    "def get_breaking_distance(projected_velocity, asphalt_friction_deceleration):\n",
    "    return (1/2) * (projected_velocity**2) / asphalt_friction_deceleration\n",
    "\n",
    "def get_vehicle_velocity(vehicle):\n",
    "    velocity_vector = vehicle.get_velocity()\n",
    "    velocity = (velocity_vector.x**2 + velocity_vector.y**2 + velocity_vector.z**2)**0.5\n",
    "    if vehicle.get_control().reverse:\n",
    "        velocity = -velocity\n",
    "    return velocity\n",
    "\n",
    "def get_max_depth(azimuth, steering_angle):\n",
    "    global vehicle_lateral_dimension\n",
    "    if steering_angle == 0:\n",
    "        return radar_range\n",
    "    if equals_sign(azimuth, steering_angle):\n",
    "        stering_range = abs(vehicle_lateral_dimension / math.tan(steering_angle))\n",
    "    else:\n",
    "        stering_range = abs((vehicle_lateral_dimension / 2) / math.tan(steering_angle))\n",
    "    return min(stering_range, radar_range)\n",
    "    "
   ]
  },
  {
   "cell_type": "code",
   "execution_count": 12,
   "metadata": {},
   "outputs": [],
   "source": [
    "# Comandi guida veicolo\n",
    "def move_forward(vehicle):\n",
    "    global throttle\n",
    "    control = carla.VehicleControl()\n",
    "    control.throttle = throttle\n",
    "    vehicle.apply_control(control)\n",
    "\n",
    "def stop_vehicle(vehicle):\n",
    "    control = carla.VehicleControl()\n",
    "    control.throttle = 0.0\n",
    "    control.brake = 1\n",
    "    vehicle.apply_control(control)"
   ]
  },
  {
   "cell_type": "code",
   "execution_count": 13,
   "metadata": {},
   "outputs": [],
   "source": [
    "# Simulazione sensore umidità dell'asflato\n",
    "def get_asphalt_friction_coefficient():\n",
    "    world = client.get_world()\n",
    "    weather = world.get_weather()\n",
    "    weather.precipitation_deposits\n",
    "    weather.wetness\n",
    "    return 0.8"
   ]
  },
  {
   "cell_type": "code",
   "execution_count": 14,
   "metadata": {},
   "outputs": [],
   "source": [
    "# Invio messaggi Mqtt\n",
    "def publish_message(msg):\n",
    "    global mqttc\n",
    "    status = mqttc.publish(topic, msg)\n",
    "    if status[0] == 0:\n",
    "        print(f\"Send `{msg}` to topic `{topic}`\")\n",
    "    else:\n",
    "        print(f\"Failed to send message to topic {topic}\")"
   ]
  },
  {
   "cell_type": "markdown",
   "metadata": {},
   "source": [
    "# **LOGICA ADAS**"
   ]
  },
  {
   "cell_type": "code",
   "execution_count": 15,
   "metadata": {},
   "outputs": [],
   "source": [
    "# Debug visivo\n",
    "def radar_vidual_debug(detection, radar_data, red, green, blue):\n",
    "    current_rot = radar_data.transform.rotation\n",
    "    azi = math.degrees(detection.azimuth)\n",
    "    alt = math.degrees(detection.altitude)\n",
    "    \n",
    "    fw_vec = carla.Vector3D(x=detection.depth - 0.25)\n",
    "    carla.Transform(\n",
    "        carla.Location(),\n",
    "        carla.Rotation(\n",
    "            pitch=current_rot.pitch + alt,\n",
    "            yaw=current_rot.yaw + azi,\n",
    "            roll=current_rot.roll)).transform(fw_vec)\n",
    "    \n",
    "    world.debug.draw_point(\n",
    "        radar_data.transform.location + fw_vec,\n",
    "        size=0.075,\n",
    "        life_time=0.25,\n",
    "        persistent_lines=False,\n",
    "        color=carla.Color(red, green, blue))"
   ]
  },
  {
   "cell_type": "code",
   "execution_count": 21,
   "metadata": {},
   "outputs": [],
   "source": [
    "# Algoritmo\n",
    "def forward_collision_callback(radar_data, vehicle):\n",
    "  global min_fcw_state, min_ttc, velocity_threshold, average_reaction_time, max_steer_angle, angle_steer_tollerance\n",
    "  asphalt_friction_coefficient = get_asphalt_friction_coefficient()\n",
    "  asphalt_friction_deceleration = 9.81 * asphalt_friction_coefficient\n",
    "  control = vehicle.get_control()\n",
    "  if -angle_steer_tollerance < control.steer < angle_steer_tollerance:\n",
    "    steering_angle = control.steer * max_steer_angle\n",
    "  else:\n",
    "    steering_angle = 0\n",
    "  for detection in radar_data:\n",
    "    vehicle_velocity = get_vehicle_velocity(vehicle)\n",
    "    if vehicle_velocity > velocity_threshold:\n",
    "      if detection.velocity < 0 and check_lateral_collision(detection.azimuth, detection.depth, steering_angle) and check_vertical_collision(detection.altitude, detection.depth):\n",
    "        projected_depth = get_projected_depth(detection.azimuth, detection.altitude, detection.depth, steering_angle)\n",
    "        max_depth = get_max_depth(detection.azimuth, steering_angle)\n",
    "        if projected_depth <= max_depth:\n",
    "          projected_velocity = get_projected_velocity(detection.azimuth, detection.altitude, detection.velocity, steering_angle) \n",
    "          breaking_distance = get_breaking_distance(projected_velocity, asphalt_friction_deceleration)\n",
    "          reacting_distance = max(0, projected_depth - breaking_distance)\n",
    "          ttc = reacting_distance / projected_velocity\n",
    "          fcw_state = Fcw_state.IDLE\n",
    "          if ttc < min_ttc:  \n",
    "            if vehicle_velocity < projected_velocity - velocity_threshold:\n",
    "              fcw_state = Fcw_state.ESCAPE\n",
    "              radar_vidual_debug(detection, radar_data, 0,0,1)\n",
    "            else:\n",
    "              fcw_state = Fcw_state.ACTION\n",
    "              radar_vidual_debug(detection, radar_data, 1,0,0)\n",
    "          elif ttc < min_ttc + average_reaction_time:\n",
    "            fcw_state = Fcw_state.WARNING\n",
    "            radar_vidual_debug(detection, radar_data, 1,1,0)\n",
    "          else:\n",
    "            radar_vidual_debug(detection, radar_data, 0,1,0)\n",
    "          if fcw_state.value < min_fcw_state.value:\n",
    "            min_fcw_state = fcw_state    \n",
    "            publish_message(fcw_state.name)\n",
    "    else:\n",
    "      fcw_state = Fcw_state.IDLE\n",
    "        "
   ]
  },
  {
   "cell_type": "markdown",
   "metadata": {},
   "source": [
    "# **SIMULAZIONE**"
   ]
  },
  {
   "cell_type": "code",
   "execution_count": 17,
   "metadata": {},
   "outputs": [
    {
     "data": {
      "text/plain": [
       "<MQTTErrorCode.MQTT_ERR_SUCCESS: 0>"
      ]
     },
     "execution_count": 17,
     "metadata": {},
     "output_type": "execute_result"
    }
   ],
   "source": [
    "# Start mqtt\n",
    "mqttc.loop_start()"
   ]
  },
  {
   "cell_type": "code",
   "execution_count": 22,
   "metadata": {},
   "outputs": [
    {
     "name": "stdout",
     "output_type": "stream",
     "text": [
      "Send `WARNING` to topic `carla/fcw_state`\n",
      "Send `ACTION` to topic `carla/fcw_state`\n"
     ]
    },
    {
     "ename": "KeyboardInterrupt",
     "evalue": "",
     "output_type": "error",
     "traceback": [
      "\u001b[0;31m---------------------------------------------------------------------------\u001b[0m",
      "\u001b[0;31mKeyboardInterrupt\u001b[0m                         Traceback (most recent call last)",
      "\u001b[0;32m/tmp/ipykernel_4407/2542754661.py\u001b[0m in \u001b[0;36m<module>\u001b[0;34m\u001b[0m\n\u001b[1;32m     12\u001b[0m         \u001b[0;32melse\u001b[0m\u001b[0;34m:\u001b[0m\u001b[0;34m\u001b[0m\u001b[0;34m\u001b[0m\u001b[0m\n\u001b[1;32m     13\u001b[0m             \u001b[0mmove_forward\u001b[0m\u001b[0;34m(\u001b[0m\u001b[0mvehicle\u001b[0m\u001b[0;34m)\u001b[0m\u001b[0;34m\u001b[0m\u001b[0;34m\u001b[0m\u001b[0m\n\u001b[0;32m---> 14\u001b[0;31m         \u001b[0mtime\u001b[0m\u001b[0;34m.\u001b[0m\u001b[0msleep\u001b[0m\u001b[0;34m(\u001b[0m\u001b[0;36m0.05\u001b[0m\u001b[0;34m)\u001b[0m\u001b[0;34m\u001b[0m\u001b[0;34m\u001b[0m\u001b[0m\n\u001b[0m\u001b[1;32m     15\u001b[0m \u001b[0;34m\u001b[0m\u001b[0m\n\u001b[1;32m     16\u001b[0m \u001b[0;32mfinally\u001b[0m\u001b[0;34m:\u001b[0m\u001b[0;34m\u001b[0m\u001b[0;34m\u001b[0m\u001b[0m\n",
      "\u001b[0;31mKeyboardInterrupt\u001b[0m: "
     ]
    }
   ],
   "source": [
    "try:\n",
    "    vehicle = spawn_vehicle()\n",
    "    radar = spawn_radar(vehicle)\n",
    "    #walker = spawn_walker()\n",
    "\n",
    "    radar.listen(lambda radar_data: forward_collision_callback(radar_data, vehicle))\n",
    "\n",
    "    min_fcw_state = Fcw_state.IDLE\n",
    "    while True:\n",
    "        if min_fcw_state == Fcw_state.ACTION:\n",
    "            stop_vehicle(vehicle)\n",
    "        else:\n",
    "            move_forward(vehicle)\n",
    "        time.sleep(0.05)\n",
    "\n",
    "finally:\n",
    "    vehicle.destroy()\n",
    "    radar.destroy()\n",
    "    #walker.destroy()\n",
    "    "
   ]
  },
  {
   "cell_type": "code",
   "execution_count": null,
   "metadata": {},
   "outputs": [],
   "source": [
    "# Stop mqtt\n",
    "mqttc.loop_stop()\n",
    "mqttc.disconnect()"
   ]
  }
 ],
 "metadata": {
  "kernelspec": {
   "display_name": "carla-env",
   "language": "python",
   "name": "python3"
  },
  "language_info": {
   "codemirror_mode": {
    "name": "ipython",
    "version": 3
   },
   "file_extension": ".py",
   "mimetype": "text/x-python",
   "name": "python",
   "nbconvert_exporter": "python",
   "pygments_lexer": "ipython3",
   "version": "3.7.12"
  }
 },
 "nbformat": 4,
 "nbformat_minor": 2
}
