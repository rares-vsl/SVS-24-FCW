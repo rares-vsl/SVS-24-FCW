{
 "cells": [
  {
   "cell_type": "code",
   "execution_count": 32,
   "id": "62f8632c",
   "metadata": {},
   "outputs": [],
   "source": [
    "import carla, time, sys, math\n",
    "sys.path.insert(0,'C:/svs/CARLA_0.9.15/WindowsNoEditor/PythonAPI/carla')\n",
    "from agents.navigation.basic_agent import BasicAgent\n",
    "\n",
    "import numpy as np\n",
    "from enum import Enum"
   ]
  },
  {
   "cell_type": "markdown",
   "id": "b869ba42",
   "metadata": {},
   "source": [
    "# setup"
   ]
  },
  {
   "cell_type": "code",
   "execution_count": 2,
   "id": "7f873e4c",
   "metadata": {},
   "outputs": [],
   "source": [
    "client = carla.Client(\"localhost\", 2000)\n",
    "world = client.get_world()\n",
    "\n",
    "if not world.get_map().name == 'Carla/Maps/Town03':\n",
    "    world = client.load_world('Town03')"
   ]
  },
  {
   "cell_type": "markdown",
   "id": "94e255bb",
   "metadata": {},
   "source": [
    "# Support function"
   ]
  },
  {
   "cell_type": "code",
   "execution_count": 3,
   "id": "faab9af5",
   "metadata": {},
   "outputs": [],
   "source": [
    "def destroy_all_vehicles(world):\n",
    "    # Ottieni tutti gli attori nella mappa\n",
    "    all_actors = world.get_actors()\n",
    "    \n",
    "    # Filtra solo i veicoli\n",
    "    vehicles = all_actors.filter('vehicle.*')\n",
    "    \n",
    "    print(f\"Numero di veicoli trovati: {len(vehicles)}\")\n",
    "    \n",
    "    # Distruggi ciascun veicolo\n",
    "    for vehicle in vehicles:\n",
    "        vehicle.destroy()\n",
    "        print(f\"Veicolo distrutto: {vehicle.id}\")"
   ]
  },
  {
   "cell_type": "code",
   "execution_count": 4,
   "id": "5cb1bc49",
   "metadata": {},
   "outputs": [],
   "source": [
    "def spawn_vehicle(world, location, index, y = 0):\n",
    "    blueprint_library = world.get_blueprint_library()\n",
    "    vehicle_bp = blueprint_library.filter('vehicle.*')[index]\n",
    "    spawn_point = carla.Transform()\n",
    "    spawn_point.location = location\n",
    "    spawn_point.rotation = carla.Rotation(yaw = y)\n",
    "    vehicle = world.spawn_actor(vehicle_bp, spawn_point)\n",
    "    return vehicle"
   ]
  },
  {
   "cell_type": "code",
   "execution_count": 5,
   "id": "0388e56b",
   "metadata": {},
   "outputs": [],
   "source": [
    "def stop_vehicle(vehicle):\n",
    "    control = carla.VehicleControl()\n",
    "    control.brake = 1.0  # Applica il freno massimo\n",
    "    vehicle.apply_control(control)"
   ]
  },
  {
   "cell_type": "markdown",
   "id": "0b3a7a84",
   "metadata": {},
   "source": [
    "# FCW"
   ]
  },
  {
   "cell_type": "code",
   "execution_count": 22,
   "id": "edef8cbf",
   "metadata": {},
   "outputs": [],
   "source": [
    "class Fcw_state(Enum):\n",
    "    IDLE = 4\n",
    "    WARNING = 3\n",
    "    ACTION = 2\n",
    "    ESCAPE = 1"
   ]
  },
  {
   "cell_type": "code",
   "execution_count": 23,
   "id": "7dcdc2f0",
   "metadata": {},
   "outputs": [],
   "source": [
    "min_fcw_state = Fcw_state.IDLE\n",
    "vehicle_vertical_dimension = 0.75\n",
    "vehicle_lateral_dimension = 0.9\n",
    "min_ttc = 0.5\n",
    "average_reaction_time = 2.5\n",
    "throttle = 0.7\n",
    "velocity_threshold = 2.77\n",
    "asphalt_friction_coefficient = 0.8\n",
    "asphalt_friction_deceleration = 9.81 * asphalt_friction_coefficient"
   ]
  },
  {
   "cell_type": "code",
   "execution_count": 24,
   "id": "5d6f6dca",
   "metadata": {},
   "outputs": [],
   "source": [
    "def spawn_radar(vehicle):\n",
    "    rad_bp = world.get_blueprint_library().find('sensor.other.radar')\n",
    "    rad_bp.set_attribute('horizontal_fov', str(125))\n",
    "    rad_bp.set_attribute('vertical_fov', str(115))\n",
    "    rad_bp.set_attribute('range', str(285))\n",
    "    rad_bp.set_attribute('points_per_second', str(2000))\n",
    "    rad_location = carla.Location(x=2.25, z=0.9)\n",
    "    rad_rotation = carla.Rotation()\n",
    "    rad_transform = carla.Transform(rad_location,rad_rotation)\n",
    "    return world.spawn_actor(rad_bp,rad_transform,attach_to=vehicle, attachment_type=carla.AttachmentType.Rigid)"
   ]
  },
  {
   "cell_type": "code",
   "execution_count": 25,
   "id": "52ffb17a",
   "metadata": {},
   "outputs": [],
   "source": [
    "# Convertitori\n",
    "def check_lateral_collision(azimuth, depth):\n",
    "    global vehicle_lateral_dimension\n",
    "    return abs(depth * math.sin(azimuth)) < vehicle_lateral_dimension\n",
    "\n",
    "def check_vertical_collision(altitude, depth):\n",
    "    global vehicle_vertical_dimension\n",
    "    return abs(depth * math.sin(altitude)) < vehicle_vertical_dimension \n",
    "\n",
    "def get_projected_velocity(azimuth, altitude, velocity):\n",
    "    return abs(math.cos(azimuth) * math.cos(altitude) * velocity)\n",
    "\n",
    "def get_projected_depth(azimuth, altitude, depth):\n",
    "    return abs(math.cos(azimuth) * math.cos(altitude) * depth)\n",
    "\n",
    "def get_breaking_distance(projected_velocity):\n",
    "    global asphalt_friction_deceleration\n",
    "    return (1/2) * projected_velocity**2 / asphalt_friction_deceleration\n",
    "\n",
    "def get_vehicle_velocity(vehicle):\n",
    "    velocity_vector = vehicle.get_velocity()\n",
    "    velocity = (velocity_vector.x**2 + velocity_vector.y**2 + velocity_vector.z**2)**0.5\n",
    "    if vehicle.get_control().reverse:\n",
    "        velocity = -velocity\n",
    "    return velocity"
   ]
  },
  {
   "cell_type": "code",
   "execution_count": 26,
   "id": "7d80f759",
   "metadata": {},
   "outputs": [],
   "source": [
    "\n",
    "def stop_vehicle(vehicle):\n",
    "    control = carla.VehicleControl()\n",
    "    control.throttle = 0.0\n",
    "    control.brake = 1.0\n",
    "    vehicle.apply_control(control)\n",
    "\n"
   ]
  },
  {
   "cell_type": "code",
   "execution_count": 27,
   "id": "147adc93",
   "metadata": {},
   "outputs": [],
   "source": [
    "# Simulatore sensore umidità dell'asflato\n",
    "def get_asphalt_friction_coefficient():\n",
    "    world = client.get_world()\n",
    "    weather = world.get_weather()\n",
    "    weather.precipitation\n",
    "    weather.precipitation_deposits\n",
    "    weather.wetness\n",
    "    weather.dust_storm\n",
    "    return 0.8"
   ]
  },
  {
   "cell_type": "code",
   "execution_count": 82,
   "id": "b0dda550",
   "metadata": {},
   "outputs": [],
   "source": [
    "def forward_collision_callback(radar_data, vehicle):\n",
    "  global min_fcw_state, min_ttc, velocity_threshold, average_reaction_time, asphalt_friction_coefficient, asphalt_friction_deceleration\n",
    "  asphalt_friction_coefficient = get_asphalt_friction_coefficient()\n",
    "  asphalt_friction_deceleration = 9.81 * asphalt_friction_coefficient\n",
    "  for detection in radar_data:\n",
    "    vehicle_velocity = get_vehicle_velocity(vehicle)\n",
    "    if vehicle_velocity > velocity_threshold:\n",
    "      if detection.velocity < 0 and check_lateral_collision(detection.azimuth, detection.depth) and check_vertical_collision(detection.altitude, detection.depth):\n",
    "        projected_velocity = get_projected_velocity(detection.azimuth, detection.altitude, detection.velocity)   \n",
    "        breaking_distance = (projected_velocity)\n",
    "        projected_depth = get_projected_depth(detection.azimuth, detection.altitude, detection.depth)\n",
    "        reacting_distance = max(0, projected_depth - breaking_distance)\n",
    "        ttc = reacting_distance / projected_velocity\n",
    "        fcw_state = Fcw_state.IDLE\n",
    "        if ttc < min_ttc:\n",
    "          if vehicle_velocity < projected_velocity - 2*velocity_threshold:\n",
    "            fcw_state = Fcw_state.ESCAPE\n",
    "          else:\n",
    "            fcw_state = Fcw_state.ACTION\n",
    "        elif ttc < min_ttc + average_reaction_time:\n",
    "          fcw_state = Fcw_state.WARNING\n",
    "        if fcw_state.value < min_fcw_state.value:\n",
    "          min_fcw_state = fcw_state\n",
    "    else:\n",
    "      fcw_state = Fcw_state.IDLE"
   ]
  },
  {
   "cell_type": "markdown",
   "id": "ec49c7a0",
   "metadata": {},
   "source": [
    "# Setup vehicles"
   ]
  },
  {
   "cell_type": "markdown",
   "id": "32c16275",
   "metadata": {},
   "source": [
    "## Vehicle on a slope"
   ]
  },
  {
   "cell_type": "code",
   "execution_count": 79,
   "id": "f760343d",
   "metadata": {},
   "outputs": [],
   "source": [
    "obstacle_vehicle = spawn_vehicle(world, carla.Location(x=152.5, y=-33.249748, z=4), 0, -90) \n",
    "stop_vehicle(obstacle_vehicle)"
   ]
  },
  {
   "cell_type": "markdown",
   "id": "4c2a646c",
   "metadata": {},
   "source": [
    "## Close vehicle on a slope"
   ]
  },
  {
   "cell_type": "code",
   "execution_count": 39,
   "id": "9fc27eee",
   "metadata": {},
   "outputs": [],
   "source": [
    " # x=151.715500, y=-19.964308\n",
    "\n",
    "obstacle_vehicle = spawn_vehicle(world, carla.Location(x=151.715500, y=-19.964308, z=3), 0, -90) \n",
    "stop_vehicle(obstacle_vehicle)"
   ]
  },
  {
   "cell_type": "markdown",
   "id": "0d8126ae",
   "metadata": {},
   "source": [
    "## Far away vehicle on a slope"
   ]
  },
  {
   "cell_type": "code",
   "execution_count": 71,
   "id": "03702627",
   "metadata": {},
   "outputs": [],
   "source": [
    "obstacle_vehicle = spawn_vehicle(world, carla.Location(x=153.095108, y=-58.077873, z=7), 0, -90) \n",
    "stop_vehicle(obstacle_vehicle)"
   ]
  },
  {
   "cell_type": "markdown",
   "id": "27b09f40",
   "metadata": {},
   "source": [
    "## Forward vehicle"
   ]
  },
  {
   "cell_type": "code",
   "execution_count": 94,
   "id": "be799211",
   "metadata": {},
   "outputs": [],
   "source": [
    "obstacle_vehicle = spawn_vehicle(world, carla.Location(x=156.463959, y=-5.910003, z=1), 0, 180) \n",
    "stop_vehicle(obstacle_vehicle)"
   ]
  },
  {
   "cell_type": "code",
   "execution_count": 56,
   "id": "0cf07a72",
   "metadata": {},
   "outputs": [
    {
     "data": {
      "text/plain": [
       "True"
      ]
     },
     "execution_count": 56,
     "metadata": {},
     "output_type": "execute_result"
    }
   ],
   "source": [
    "obstacle_vehicle.destroy()"
   ]
  },
  {
   "cell_type": "markdown",
   "id": "161839d9",
   "metadata": {},
   "source": [
    "# Run"
   ]
  },
  {
   "cell_type": "code",
   "execution_count": 97,
   "id": "e262a7a0",
   "metadata": {},
   "outputs": [],
   "source": [
    "vehicle = spawn_vehicle(world, carla.Location(x=178.759705, y=-5.8, z=1), 2, 180)\n",
    "\n",
    "radar = spawn_radar(vehicle)\n",
    "radar.listen(lambda radar_data: forward_collision_callback(radar_data, vehicle))"
   ]
  },
  {
   "cell_type": "code",
   "execution_count": 96,
   "id": "43d61707",
   "metadata": {
    "scrolled": true
   },
   "outputs": [],
   "source": [
    "\n",
    "actor_agent = BasicAgent(vehicle)\n",
    "\n",
    "actor_agent.set_destination(carla.Location(x=153.095108, y=-58.077873, z=7))\n",
    "actor_agent.set_target_speed(60)\n",
    "actor_agent.ignore_vehicles()\n",
    "\n",
    "min_fcw_state = Fcw_state.IDLE\n",
    "\n",
    "try:\n",
    "    while True:\n",
    "        if min_fcw_state != Fcw_state.ACTION:\n",
    "            vehicle.apply_control(actor_agent.run_step())\n",
    "        else:\n",
    "            stop_vehicle(vehicle)\n",
    "            break\n",
    "        world.wait_for_tick()\n",
    "except KeyboardInterrupt:\n",
    "    print(\"end\")"
   ]
  },
  {
   "cell_type": "code",
   "execution_count": 46,
   "id": "66777045",
   "metadata": {},
   "outputs": [
    {
     "name": "stdout",
     "output_type": "stream",
     "text": [
      "Numero di veicoli trovati: 2\n",
      "Veicolo distrutto: 520\n",
      "Veicolo distrutto: 518\n"
     ]
    }
   ],
   "source": [
    "#destroy_all_vehicles(world)"
   ]
  },
  {
   "cell_type": "code",
   "execution_count": 98,
   "id": "4a3a79e7",
   "metadata": {},
   "outputs": [
    {
     "data": {
      "text/plain": [
       "True"
      ]
     },
     "execution_count": 98,
     "metadata": {},
     "output_type": "execute_result"
    }
   ],
   "source": [
    "obstacle_vehicle.destroy()\n",
    "radar.destroy()\n",
    "vehicle.destroy()"
   ]
  },
  {
   "cell_type": "code",
   "execution_count": null,
   "id": "611e91b8",
   "metadata": {},
   "outputs": [],
   "source": []
  }
 ],
 "metadata": {
  "kernelspec": {
   "display_name": "Python 3 (ipykernel)",
   "language": "python",
   "name": "python3"
  },
  "language_info": {
   "codemirror_mode": {
    "name": "ipython",
    "version": 3
   },
   "file_extension": ".py",
   "mimetype": "text/x-python",
   "name": "python",
   "nbconvert_exporter": "python",
   "pygments_lexer": "ipython3",
   "version": "3.7.16"
  }
 },
 "nbformat": 4,
 "nbformat_minor": 5
}
