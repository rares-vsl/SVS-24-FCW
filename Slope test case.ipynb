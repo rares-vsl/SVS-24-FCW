{
 "cells": [
  {
   "cell_type": "code",
   "execution_count": 2,
   "id": "62f8632c",
   "metadata": {},
   "outputs": [],
   "source": [
    "import carla, time, pygame, math, random,sys, paho.mqtt.client as mqtt\n",
    "from enum import Enum\n",
    "\n",
    "from Adas import Forward_collision_warning_mqtt\n",
    "\n",
    "sys.path.insert(0,'C:/svs/CARLA_0.9.15/WindowsNoEditor/PythonAPI/carla')\n",
    "from agents.navigation.basic_agent import BasicAgent"
   ]
  },
  {
   "cell_type": "markdown",
   "id": "b869ba42",
   "metadata": {},
   "source": [
    "# setup"
   ]
  },
  {
   "cell_type": "code",
   "execution_count": 4,
   "id": "7f873e4c",
   "metadata": {},
   "outputs": [],
   "source": [
    "client = carla.Client(\"localhost\", 2000)\n",
    "client.set_timeout(50.0)"
   ]
  },
  {
   "cell_type": "code",
   "execution_count": 5,
   "id": "2890452b",
   "metadata": {},
   "outputs": [],
   "source": [
    "world = client.get_world()\n",
    "if not world.get_map().name == 'Carla/Maps/Town03':\n",
    "    world = client.load_world('Town03')"
   ]
  },
  {
   "cell_type": "markdown",
   "id": "94e255bb",
   "metadata": {},
   "source": [
    "# Support function"
   ]
  },
  {
   "cell_type": "code",
   "execution_count": 6,
   "id": "faab9af5",
   "metadata": {},
   "outputs": [],
   "source": [
    "def destroy_all_vehicles(world):\n",
    "    # Ottieni tutti gli attori nella mappa\n",
    "    all_actors = world.get_actors()\n",
    "    \n",
    "    # Filtra solo i veicoli\n",
    "    vehicles = all_actors.filter('vehicle.*')\n",
    "    \n",
    "    print(f\"Numero di veicoli trovati: {len(vehicles)}\")\n",
    "    \n",
    "    # Distruggi ciascun veicolo\n",
    "    for vehicle in vehicles:\n",
    "        vehicle.destroy()\n",
    "        print(f\"Veicolo distrutto: {vehicle.id}\")"
   ]
  },
  {
   "cell_type": "code",
   "execution_count": 7,
   "id": "5cb1bc49",
   "metadata": {},
   "outputs": [],
   "source": [
    "def spawn_vehicle(world, location, index, y = 0):\n",
    "    blueprint_library = world.get_blueprint_library()\n",
    "    vehicle_bp = blueprint_library.filter('vehicle.*')[index]\n",
    "    spawn_point = carla.Transform()\n",
    "    spawn_point.location = location\n",
    "    spawn_point.rotation = carla.Rotation(yaw = y)\n",
    "    vehicle = world.spawn_actor(vehicle_bp, spawn_point)\n",
    "    return vehicle"
   ]
  },
  {
   "cell_type": "code",
   "execution_count": 91,
   "id": "0388e56b",
   "metadata": {},
   "outputs": [],
   "source": [
    "def stop_vehicle(vehicle):\n",
    "    control = carla.VehicleControl()\n",
    "    control.brake = 1  # Applica il freno massimo\n",
    "    vehicle.apply_control(control)\n",
    "    \n",
    "def actor_stop_vehicle(vehicle, actor):\n",
    "    print(\"STOP\")\n",
    "    control = carla.VehicleControl()\n",
    "    control.throttle = 0.0  # Nessuna accelerazione\n",
    "    control.brake = 1.0     # Massima forza frenante\n",
    "    control.hand_brake = True\n",
    "    \n",
    "    vehicle.apply_control(control)"
   ]
  },
  {
   "cell_type": "code",
   "execution_count": 9,
   "id": "8eeb5cef",
   "metadata": {},
   "outputs": [],
   "source": [
    "# Simulazione sensore umidità dell'asflato\n",
    "def get_asphalt_friction_coefficient():\n",
    "    world = client.get_world()\n",
    "    weather = world.get_weather()\n",
    "    weather.precipitation_deposits\n",
    "    weather.wetness\n",
    "    return 0.8"
   ]
  },
  {
   "cell_type": "markdown",
   "id": "ec49c7a0",
   "metadata": {},
   "source": [
    "# Setup vehicles"
   ]
  },
  {
   "cell_type": "markdown",
   "id": "32c16275",
   "metadata": {},
   "source": [
    "## Vehicle on a slope"
   ]
  },
  {
   "cell_type": "code",
   "execution_count": 10,
   "id": "f760343d",
   "metadata": {},
   "outputs": [],
   "source": [
    "def vehicle_on_a_slope():\n",
    "    obstacle_vehicle = spawn_vehicle(world, carla.Location(x=152.5, y=-33.249748, z=4), 0, -90) \n",
    "    stop_vehicle(obstacle_vehicle)\n",
    "    return obstacle_vehicle"
   ]
  },
  {
   "cell_type": "markdown",
   "id": "4c2a646c",
   "metadata": {},
   "source": [
    "## Close vehicle on a slope"
   ]
  },
  {
   "cell_type": "code",
   "execution_count": 11,
   "id": "9fc27eee",
   "metadata": {},
   "outputs": [],
   "source": [
    "def close_vehicle_on_a_slope():\n",
    "    obstacle_vehicle = spawn_vehicle(world, carla.Location(x=151.715500, y=-19.964308, z=3), 0, -90) \n",
    "    stop_vehicle(obstacle_vehicle)\n",
    "    return obstacle_vehicle"
   ]
  },
  {
   "cell_type": "markdown",
   "id": "0d8126ae",
   "metadata": {},
   "source": [
    "## Far away vehicle on a slope"
   ]
  },
  {
   "cell_type": "code",
   "execution_count": 12,
   "id": "03702627",
   "metadata": {},
   "outputs": [],
   "source": [
    "def far_away_vehicle_on_a_slope():\n",
    "    obstacle_vehicle = spawn_vehicle(world, carla.Location(x=153.095108, y=-58.077873, z=7), 0, -90) \n",
    "    stop_vehicle(obstacle_vehicle)\n",
    "    return obstacle_vehicle"
   ]
  },
  {
   "cell_type": "markdown",
   "id": "27b09f40",
   "metadata": {},
   "source": [
    "## Forward vehicle"
   ]
  },
  {
   "cell_type": "code",
   "execution_count": 68,
   "id": "be799211",
   "metadata": {},
   "outputs": [],
   "source": [
    "def forward_vehicle():\n",
    "    obstacle_vehicle = spawn_vehicle(world, carla.Location(x=136.463959, y=-5.8, z=1), 0, 180) \n",
    "    return obstacle_vehicle"
   ]
  },
  {
   "cell_type": "code",
   "execution_count": 14,
   "id": "d53361ea",
   "metadata": {},
   "outputs": [],
   "source": [
    "def stop_vehicle2(vehicle):\n",
    "    control = carla.VehicleControl()\n",
    "    control.throttle = 0.0  # Assicurati che non ci sia accelerazione\n",
    "    control.steer = 0.0    # Mantieni il volante dritto\n",
    "    control.brake = 1.0\n",
    "    vehicle.apply_control(control)"
   ]
  },
  {
   "cell_type": "code",
   "execution_count": 15,
   "id": "757ac1a6",
   "metadata": {},
   "outputs": [],
   "source": [
    "def stop_simulation():\n",
    "    global run\n",
    "    run = False\n",
    "    print(\"stop\")"
   ]
  },
  {
   "cell_type": "markdown",
   "id": "161839d9",
   "metadata": {},
   "source": [
    "# Run"
   ]
  },
  {
   "cell_type": "code",
   "execution_count": 106,
   "id": "add97b91",
   "metadata": {
    "scrolled": false
   },
   "outputs": [
    {
     "name": "stdout",
     "output_type": "stream",
     "text": [
      "Numero di veicoli trovati: 0\n",
      "Send `WARNING` to topic `carla/fcw_state`\n",
      "Send `ACTION` to topic `carla/fcw_state`\n",
      "stop\n",
      "STOP\n",
      "done\n"
     ]
    },
    {
     "ename": "RuntimeError",
     "evalue": "time-out of 50000ms while waiting for the simulator, make sure the simulator is ready and connected to localhost:2000",
     "output_type": "error",
     "traceback": [
      "\u001b[1;31m---------------------------------------------------------------------------\u001b[0m",
      "\u001b[1;31mRuntimeError\u001b[0m                              Traceback (most recent call last)",
      "\u001b[1;32mE:\\Università\\2023-24 slide\\svs\\Adas.py\u001b[0m in \u001b[0;36m<lambda>\u001b[1;34m(radar_data)\u001b[0m\n\u001b[0;32m     72\u001b[0m \u001b[1;33m\u001b[0m\u001b[0m\n\u001b[0;32m     73\u001b[0m             \u001b[1;31m# Settaggio del listener\u001b[0m\u001b[1;33m\u001b[0m\u001b[1;33m\u001b[0m\u001b[1;33m\u001b[0m\u001b[0m\n\u001b[1;32m---> 74\u001b[1;33m             \u001b[0mself\u001b[0m\u001b[1;33m.\u001b[0m\u001b[0m__radar\u001b[0m\u001b[1;33m.\u001b[0m\u001b[0mlisten\u001b[0m\u001b[1;33m(\u001b[0m\u001b[1;32mlambda\u001b[0m \u001b[0mradar_data\u001b[0m\u001b[1;33m:\u001b[0m \u001b[0mself\u001b[0m\u001b[1;33m.\u001b[0m\u001b[0m__forward_collision_callback\u001b[0m\u001b[1;33m(\u001b[0m\u001b[0mradar_data\u001b[0m\u001b[1;33m)\u001b[0m\u001b[1;33m)\u001b[0m\u001b[1;33m\u001b[0m\u001b[1;33m\u001b[0m\u001b[0m\n\u001b[0m\u001b[0;32m     75\u001b[0m \u001b[1;33m\u001b[0m\u001b[0m\n\u001b[0;32m     76\u001b[0m         \u001b[1;31m# Debug visivo\u001b[0m\u001b[1;33m\u001b[0m\u001b[1;33m\u001b[0m\u001b[1;33m\u001b[0m\u001b[0m\n",
      "\u001b[1;32mE:\\Università\\2023-24 slide\\svs\\Adas.py\u001b[0m in \u001b[0;36m__forward_collision_callback\u001b[1;34m(self, radar_data)\u001b[0m\n\u001b[0;32m     98\u001b[0m         \u001b[1;31m# Algoritmo\u001b[0m\u001b[1;33m\u001b[0m\u001b[1;33m\u001b[0m\u001b[1;33m\u001b[0m\u001b[0m\n\u001b[0;32m     99\u001b[0m         \u001b[1;32mdef\u001b[0m \u001b[0m__forward_collision_callback\u001b[0m\u001b[1;33m(\u001b[0m\u001b[0mself\u001b[0m\u001b[1;33m,\u001b[0m \u001b[0mradar_data\u001b[0m\u001b[1;33m)\u001b[0m\u001b[1;33m:\u001b[0m\u001b[1;33m\u001b[0m\u001b[1;33m\u001b[0m\u001b[0m\n\u001b[1;32m--> 100\u001b[1;33m             \u001b[0masphalt_friction_coefficient\u001b[0m \u001b[1;33m=\u001b[0m \u001b[0mself\u001b[0m\u001b[1;33m.\u001b[0m\u001b[0m__get_asphalt_friction_coefficient\u001b[0m\u001b[1;33m(\u001b[0m\u001b[1;33m)\u001b[0m\u001b[1;33m\u001b[0m\u001b[1;33m\u001b[0m\u001b[0m\n\u001b[0m\u001b[0;32m    101\u001b[0m             \u001b[0masphalt_friction_deceleration\u001b[0m \u001b[1;33m=\u001b[0m \u001b[1;36m9.81\u001b[0m \u001b[1;33m*\u001b[0m \u001b[0masphalt_friction_coefficient\u001b[0m\u001b[1;33m\u001b[0m\u001b[1;33m\u001b[0m\u001b[0m\n\u001b[0;32m    102\u001b[0m             \u001b[0mcontrol\u001b[0m \u001b[1;33m=\u001b[0m \u001b[0mself\u001b[0m\u001b[1;33m.\u001b[0m\u001b[0m__attached_vehicle\u001b[0m\u001b[1;33m.\u001b[0m\u001b[0mget_control\u001b[0m\u001b[1;33m(\u001b[0m\u001b[1;33m)\u001b[0m\u001b[1;33m\u001b[0m\u001b[1;33m\u001b[0m\u001b[0m\n",
      "\u001b[1;32m~\\AppData\\Local\\Temp\\ipykernel_29128\\3087415362.py\u001b[0m in \u001b[0;36m<lambda>\u001b[1;34m()\u001b[0m\n\u001b[0;32m     34\u001b[0m         \u001b[0mmin_ttc\u001b[0m \u001b[1;33m=\u001b[0m \u001b[1;36m0.05\u001b[0m\u001b[1;33m,\u001b[0m\u001b[1;33m\u001b[0m\u001b[1;33m\u001b[0m\u001b[0m\n\u001b[0;32m     35\u001b[0m         \u001b[0mattached_vehicle\u001b[0m \u001b[1;33m=\u001b[0m \u001b[0mvehicle\u001b[0m\u001b[1;33m,\u001b[0m\u001b[1;33m\u001b[0m\u001b[1;33m\u001b[0m\u001b[0m\n\u001b[1;32m---> 36\u001b[1;33m         \u001b[0mget_asphalt_friction_coefficient\u001b[0m \u001b[1;33m=\u001b[0m \u001b[1;32mlambda\u001b[0m \u001b[1;33m:\u001b[0m \u001b[0mget_asphalt_friction_coefficient\u001b[0m\u001b[1;33m(\u001b[0m\u001b[1;33m)\u001b[0m\u001b[1;33m,\u001b[0m\u001b[1;33m\u001b[0m\u001b[1;33m\u001b[0m\u001b[0m\n\u001b[0m\u001b[0;32m     37\u001b[0m         \u001b[0maction_listener\u001b[0m \u001b[1;33m=\u001b[0m \u001b[1;32mlambda\u001b[0m \u001b[1;33m:\u001b[0m \u001b[0mstop_simulation\u001b[0m\u001b[1;33m(\u001b[0m\u001b[1;33m)\u001b[0m\u001b[1;33m\u001b[0m\u001b[1;33m\u001b[0m\u001b[0m\n\u001b[0;32m     38\u001b[0m     )\n",
      "\u001b[1;32m~\\AppData\\Local\\Temp\\ipykernel_29128\\1800241415.py\u001b[0m in \u001b[0;36mget_asphalt_friction_coefficient\u001b[1;34m()\u001b[0m\n\u001b[0;32m      2\u001b[0m \u001b[1;32mdef\u001b[0m \u001b[0mget_asphalt_friction_coefficient\u001b[0m\u001b[1;33m(\u001b[0m\u001b[1;33m)\u001b[0m\u001b[1;33m:\u001b[0m\u001b[1;33m\u001b[0m\u001b[1;33m\u001b[0m\u001b[0m\n\u001b[0;32m      3\u001b[0m     \u001b[0mworld\u001b[0m \u001b[1;33m=\u001b[0m \u001b[0mclient\u001b[0m\u001b[1;33m.\u001b[0m\u001b[0mget_world\u001b[0m\u001b[1;33m(\u001b[0m\u001b[1;33m)\u001b[0m\u001b[1;33m\u001b[0m\u001b[1;33m\u001b[0m\u001b[0m\n\u001b[1;32m----> 4\u001b[1;33m     \u001b[0mweather\u001b[0m \u001b[1;33m=\u001b[0m \u001b[0mworld\u001b[0m\u001b[1;33m.\u001b[0m\u001b[0mget_weather\u001b[0m\u001b[1;33m(\u001b[0m\u001b[1;33m)\u001b[0m\u001b[1;33m\u001b[0m\u001b[1;33m\u001b[0m\u001b[0m\n\u001b[0m\u001b[0;32m      5\u001b[0m     \u001b[0mweather\u001b[0m\u001b[1;33m.\u001b[0m\u001b[0mprecipitation_deposits\u001b[0m\u001b[1;33m\u001b[0m\u001b[1;33m\u001b[0m\u001b[0m\n\u001b[0;32m      6\u001b[0m     \u001b[0mweather\u001b[0m\u001b[1;33m.\u001b[0m\u001b[0mwetness\u001b[0m\u001b[1;33m\u001b[0m\u001b[1;33m\u001b[0m\u001b[0m\n",
      "\u001b[1;31mRuntimeError\u001b[0m: time-out of 50000ms while waiting for the simulator, make sure the simulator is ready and connected to localhost:2000"
     ]
    }
   ],
   "source": [
    "destroy_all_vehicles(world)\n",
    "\n",
    "# vehicle_on_a_slope()\n",
    "\n",
    "# forward_vehicle()\n",
    "\n",
    "\n",
    "walker_bp = random.choice(world.get_blueprint_library().filter(\"walker.pedestrian.*\"))\n",
    "walker_transform = carla.Transform(carla.Location(x=136.463959, y=-5.8, z=1))\n",
    "walker = world.spawn_actor(walker_bp, walker_transform)\n",
    "\n",
    "walker_control = carla.WalkerControl()\n",
    "walker_control.speed = 1.5  # Velocità in m/s (positivo in avanti)\n",
    "walker_control.direction = carla.Vector3D(-1, 0, 0)  # Direzione di movimento (x, y, z)\n",
    "\n",
    "\n",
    "vehicle = spawn_vehicle(world, carla.Location(x=178.759705, y=-5.8, z=1), 2, 180)\n",
    "\n",
    "world.wait_for_tick()\n",
    "actor_agent = BasicAgent(vehicle)\n",
    "\n",
    "actor_agent.set_destination(carla.Location(x=124.759705, y=-5.8, z=1))\n",
    "# actor_agent.set_destination(carla.Location(x=153.095108, y=-58.077873, z=7))\n",
    "actor_agent.set_target_speed(60)\n",
    "actor_agent.ignore_vehicles()\n",
    "\n",
    "\n",
    "try:\n",
    "    run = True\n",
    "    throttle = 0.7\n",
    "\n",
    "    adas = Forward_collision_warning_mqtt(\n",
    "        world = world,\n",
    "        min_ttc = 0.05,\n",
    "        attached_vehicle = vehicle,\n",
    "        get_asphalt_friction_coefficient = lambda : get_asphalt_friction_coefficient(),\n",
    "        action_listener = lambda : stop_simulation()\n",
    "    )\n",
    "\n",
    "    while run:\n",
    "        vehicle.apply_control(actor_agent.run_step())\n",
    "        walker.apply_control(walker_control)\n",
    "        world.wait_for_tick()\n",
    "        \n",
    "\n",
    "#     while True:\n",
    "    actor_stop_vehicle(vehicle, actor_agent)\n",
    "#         world.wait_for_tick()\n",
    "        \n",
    "#     adas.destroy()\n",
    "#     vehicle.destroy()\n",
    "    time.sleep(10)\n",
    "\n",
    "finally:\n",
    "    print(\"done\")\n",
    "    adas.destroy()\n",
    "    vehicle.destroy()"
   ]
  },
  {
   "cell_type": "code",
   "execution_count": 105,
   "id": "663b7cbb",
   "metadata": {},
   "outputs": [
    {
     "name": "stdout",
     "output_type": "stream",
     "text": [
      "Numero di pedoni trovati: 1\n",
      "Pedone distrutto: 232\n"
     ]
    }
   ],
   "source": [
    "# Ottieni tutti gli attori nel mondo\n",
    "all_actors = world.get_actors()\n",
    "\n",
    "# Filtra solo i pedoni\n",
    "pedestrians = all_actors.filter('walker.pedestrian.*')\n",
    "\n",
    "print(f\"Numero di pedoni trovati: {len(pedestrians)}\")\n",
    "\n",
    "# Distruggi ciascun pedone\n",
    "for pedestrian in pedestrians:\n",
    "    pedestrian.destroy()\n",
    "    print(f\"Pedone distrutto: {pedestrian.id}\")\n"
   ]
  },
  {
   "cell_type": "code",
   "execution_count": null,
   "id": "4821fd10",
   "metadata": {},
   "outputs": [],
   "source": []
  },
  {
   "cell_type": "code",
   "execution_count": null,
   "id": "df701621",
   "metadata": {},
   "outputs": [],
   "source": []
  },
  {
   "cell_type": "code",
   "execution_count": null,
   "id": "516f3b77",
   "metadata": {},
   "outputs": [],
   "source": []
  },
  {
   "cell_type": "code",
   "execution_count": null,
   "id": "8c44e229",
   "metadata": {},
   "outputs": [],
   "source": []
  },
  {
   "cell_type": "code",
   "execution_count": null,
   "id": "41e83694",
   "metadata": {},
   "outputs": [],
   "source": []
  },
  {
   "cell_type": "code",
   "execution_count": null,
   "id": "405f0501",
   "metadata": {},
   "outputs": [],
   "source": []
  }
 ],
 "metadata": {
  "kernelspec": {
   "display_name": "Python 3 (ipykernel)",
   "language": "python",
   "name": "python3"
  },
  "language_info": {
   "codemirror_mode": {
    "name": "ipython",
    "version": 3
   },
   "file_extension": ".py",
   "mimetype": "text/x-python",
   "name": "python",
   "nbconvert_exporter": "python",
   "pygments_lexer": "ipython3",
   "version": "3.7.16"
  }
 },
 "nbformat": 4,
 "nbformat_minor": 5
}
