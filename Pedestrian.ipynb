{
 "cells": [
  {
   "cell_type": "code",
   "execution_count": 1,
   "id": "d433f5dd",
   "metadata": {},
   "outputs": [],
   "source": [
    "import carla, time, random"
   ]
  },
  {
   "cell_type": "code",
   "execution_count": 2,
   "id": "814fbe72",
   "metadata": {},
   "outputs": [],
   "source": [
    "client = carla.Client(\"localhost\", 2000)\n",
    "world = client.get_world()"
   ]
  },
  {
   "cell_type": "code",
   "execution_count": 74,
   "id": "947705c2",
   "metadata": {},
   "outputs": [],
   "source": [
    "walker_bp = random.choice(world.get_blueprint_library().filter(\"walker.pedestrian.*\"))\n",
    "controller_bp = world.get_blueprint_library().find('controller.ai.walker')\n",
    "\n",
    "start_location = carla.Location(x=70, y=25, z=1)\n",
    "destination = carla.Location(x=87.338134765625, y=36.89383316040039, z=1)\n",
    "\n",
    "trans = carla.Transform()\n",
    "trans.location = start_location\n",
    "\n",
    "walker_bp.set_attribute('is_invincible', 'false')\n",
    "walker = world.spawn_actor(walker_bp, trans)\n",
    "\n",
    "world.wait_for_tick()\n",
    "controller = world.spawn_actor(controller_bp, carla.Transform(), walker)\n",
    "\n",
    "\n",
    "world.wait_for_tick()\n",
    "\n",
    "controller.start()\n",
    "\n",
    "#controller.go_to_location(destination)"
   ]
  },
  {
   "cell_type": "code",
   "execution_count": 76,
   "id": "639409cc",
   "metadata": {},
   "outputs": [
    {
     "ename": "RuntimeError",
     "evalue": "time-out of 5000ms while waiting for the simulator, make sure the simulator is ready and connected to localhost:2000",
     "output_type": "error",
     "traceback": [
      "\u001b[1;31m---------------------------------------------------------------------------\u001b[0m",
      "\u001b[1;31mRuntimeError\u001b[0m                              Traceback (most recent call last)",
      "\u001b[1;32m~\\AppData\\Local\\Temp\\ipykernel_2568\\1734747470.py\u001b[0m in \u001b[0;36m<module>\u001b[1;34m\u001b[0m\n\u001b[0;32m     11\u001b[0m \u001b[1;32mwhile\u001b[0m \u001b[1;32mTrue\u001b[0m\u001b[1;33m:\u001b[0m\u001b[1;33m\u001b[0m\u001b[1;33m\u001b[0m\u001b[0m\n\u001b[0;32m     12\u001b[0m     \u001b[0mwalker\u001b[0m\u001b[1;33m.\u001b[0m\u001b[0mapply_control\u001b[0m\u001b[1;33m(\u001b[0m\u001b[0mwalker_control\u001b[0m\u001b[1;33m)\u001b[0m\u001b[1;33m\u001b[0m\u001b[1;33m\u001b[0m\u001b[0m\n\u001b[1;32m---> 13\u001b[1;33m     \u001b[0mworld\u001b[0m\u001b[1;33m.\u001b[0m\u001b[0mwait_for_tick\u001b[0m\u001b[1;33m(\u001b[0m\u001b[1;33m)\u001b[0m\u001b[1;33m\u001b[0m\u001b[1;33m\u001b[0m\u001b[0m\n\u001b[0m",
      "\u001b[1;31mRuntimeError\u001b[0m: time-out of 5000ms while waiting for the simulator, make sure the simulator is ready and connected to localhost:2000"
     ]
    }
   ],
   "source": [
    "walker_bp = random.choice(world.get_blueprint_library().filter(\"walker.pedestrian.*\"))\n",
    "walker_transform = carla.Transform(carla.Location(x=70, y=25, z=1))\n",
    "walker = world.spawn_actor(walker_bp, walker_transform)\n",
    "\n",
    "# Definire un controllo manuale del pedone\n",
    "walker_control = carla.WalkerControl()\n",
    "walker_control.speed = 1.5  # Velocità in m/s (positivo in avanti)\n",
    "walker_control.direction = carla.Vector3D(1, 0, 0)  # Direzione di movimento (x, y, z)\n",
    "\n",
    "# Applicare il controllo periodicamente\n",
    "while True:\n",
    "    walker.apply_control(walker_control)\n",
    "    world.wait_for_tick()"
   ]
  },
  {
   "cell_type": "code",
   "execution_count": 75,
   "id": "941daf96",
   "metadata": {},
   "outputs": [
    {
     "data": {
      "text/plain": [
       "True"
      ]
     },
     "execution_count": 75,
     "metadata": {},
     "output_type": "execute_result"
    }
   ],
   "source": [
    "walker.destroy()"
   ]
  },
  {
   "cell_type": "code",
   "execution_count": 68,
   "id": "a5a3a8ec",
   "metadata": {},
   "outputs": [],
   "source": [
    "controller.start()"
   ]
  },
  {
   "cell_type": "code",
   "execution_count": 59,
   "id": "a0a362db",
   "metadata": {},
   "outputs": [],
   "source": [
    "def spawn_walker():\n",
    "    walker_bp = random.choice(world.get_blueprint_library().filter(\"walker.pedestrian.*\"))\n",
    "    controller_bp = world.get_blueprint_library().find('controller.ai.walker')\n",
    "\n",
    "    start_location = carla.Location(x=87.56214904785156, y=21.49372673034668, z=1)\n",
    "    destination = carla.Location(x=87.338134765625, y=36.89383316040039, z=1)\n",
    "\n",
    "    trans = carla.Transform()\n",
    "    trans.location = start_location\n",
    "\n",
    "    walker_bp.set_attribute('is_invincible', 'false')\n",
    "    \n",
    "    walker = world.spawn_actor(walker_bp, trans)\n",
    "    walker_physics_control = walker.get_physics_control()\n",
    "\n",
    "    world.wait_for_tick()\n",
    "    controller = world.spawn_actor(controller_bp, carla.Transform(), walker)\n",
    "\n",
    "\n",
    "    world.wait_for_tick()\n",
    "\n",
    "    controller.start()\n",
    "\n",
    "    controller.go_to_location(destination)\n",
    "    return walker"
   ]
  },
  {
   "cell_type": "code",
   "execution_count": 60,
   "id": "59716f4e",
   "metadata": {},
   "outputs": [
    {
     "ename": "AttributeError",
     "evalue": "'Walker' object has no attribute 'get_physics_control'",
     "output_type": "error",
     "traceback": [
      "\u001b[1;31m---------------------------------------------------------------------------\u001b[0m",
      "\u001b[1;31mAttributeError\u001b[0m                            Traceback (most recent call last)",
      "\u001b[1;32m~\\AppData\\Local\\Temp\\ipykernel_2568\\1443004991.py\u001b[0m in \u001b[0;36m<module>\u001b[1;34m\u001b[0m\n\u001b[0;32m      1\u001b[0m \u001b[1;32mtry\u001b[0m\u001b[1;33m:\u001b[0m\u001b[1;33m\u001b[0m\u001b[1;33m\u001b[0m\u001b[0m\n\u001b[0;32m      2\u001b[0m     \u001b[1;32mwhile\u001b[0m \u001b[1;32mTrue\u001b[0m\u001b[1;33m:\u001b[0m\u001b[1;33m\u001b[0m\u001b[1;33m\u001b[0m\u001b[0m\n\u001b[1;32m----> 3\u001b[1;33m         \u001b[0mwalker\u001b[0m \u001b[1;33m=\u001b[0m \u001b[0mspawn_walker\u001b[0m\u001b[1;33m(\u001b[0m\u001b[1;33m)\u001b[0m\u001b[1;33m\u001b[0m\u001b[1;33m\u001b[0m\u001b[0m\n\u001b[0m\u001b[0;32m      4\u001b[0m         \u001b[0mworld\u001b[0m\u001b[1;33m.\u001b[0m\u001b[0mwait_for_tick\u001b[0m\u001b[1;33m(\u001b[0m\u001b[1;33m)\u001b[0m\u001b[1;33m\u001b[0m\u001b[1;33m\u001b[0m\u001b[0m\n\u001b[0;32m      5\u001b[0m         \u001b[1;32mif\u001b[0m \u001b[0mwalker\u001b[0m\u001b[1;33m.\u001b[0m\u001b[0mget_location\u001b[0m\u001b[1;33m(\u001b[0m\u001b[1;33m)\u001b[0m\u001b[1;33m.\u001b[0m\u001b[0mdistance\u001b[0m\u001b[1;33m(\u001b[0m\u001b[0mdestination\u001b[0m\u001b[1;33m)\u001b[0m \u001b[1;33m<\u001b[0m \u001b[1;36m1.0\u001b[0m\u001b[1;33m:\u001b[0m\u001b[1;33m\u001b[0m\u001b[1;33m\u001b[0m\u001b[0m\n",
      "\u001b[1;32m~\\AppData\\Local\\Temp\\ipykernel_2568\\2892019223.py\u001b[0m in \u001b[0;36mspawn_walker\u001b[1;34m()\u001b[0m\n\u001b[0;32m     12\u001b[0m \u001b[1;33m\u001b[0m\u001b[0m\n\u001b[0;32m     13\u001b[0m     \u001b[0mwalker\u001b[0m \u001b[1;33m=\u001b[0m \u001b[0mworld\u001b[0m\u001b[1;33m.\u001b[0m\u001b[0mspawn_actor\u001b[0m\u001b[1;33m(\u001b[0m\u001b[0mwalker_bp\u001b[0m\u001b[1;33m,\u001b[0m \u001b[0mtrans\u001b[0m\u001b[1;33m)\u001b[0m\u001b[1;33m\u001b[0m\u001b[1;33m\u001b[0m\u001b[0m\n\u001b[1;32m---> 14\u001b[1;33m     \u001b[0mwalker_physics_control\u001b[0m \u001b[1;33m=\u001b[0m \u001b[0mwalker\u001b[0m\u001b[1;33m.\u001b[0m\u001b[0mget_physics_control\u001b[0m\u001b[1;33m(\u001b[0m\u001b[1;33m)\u001b[0m\u001b[1;33m\u001b[0m\u001b[1;33m\u001b[0m\u001b[0m\n\u001b[0m\u001b[0;32m     15\u001b[0m \u001b[1;33m\u001b[0m\u001b[0m\n\u001b[0;32m     16\u001b[0m     \u001b[0mworld\u001b[0m\u001b[1;33m.\u001b[0m\u001b[0mwait_for_tick\u001b[0m\u001b[1;33m(\u001b[0m\u001b[1;33m)\u001b[0m\u001b[1;33m\u001b[0m\u001b[1;33m\u001b[0m\u001b[0m\n",
      "\u001b[1;31mAttributeError\u001b[0m: 'Walker' object has no attribute 'get_physics_control'"
     ]
    }
   ],
   "source": [
    "try:\n",
    "    while True:\n",
    "        walker = spawn_walker()\n",
    "        world.wait_for_tick()\n",
    "        if walker.get_location().distance(destination) < 1.0:\n",
    "            print(\"Pedone ha raggiunto la destinazione!\")\n",
    "\n",
    "            # Dopo aver raggiunto la destinazione, invialo di nuovo al punto di partenza\n",
    "            print(\"Invio il pedone alla posizione di partenza...\")\n",
    "            controller.go_to_location(start_location)\n",
    "            start_location, destination = destination, start_location\n",
    "finally:\n",
    "    walker.destroy()"
   ]
  },
  {
   "cell_type": "code",
   "execution_count": 69,
   "id": "dc1f8474",
   "metadata": {},
   "outputs": [
    {
     "data": {
      "text/plain": [
       "True"
      ]
     },
     "execution_count": 69,
     "metadata": {},
     "output_type": "execute_result"
    }
   ],
   "source": [
    "walker.destroy()"
   ]
  },
  {
   "cell_type": "code",
   "execution_count": null,
   "id": "d8edcd34",
   "metadata": {},
   "outputs": [],
   "source": []
  }
 ],
 "metadata": {
  "kernelspec": {
   "display_name": "Python 3 (ipykernel)",
   "language": "python",
   "name": "python3"
  },
  "language_info": {
   "codemirror_mode": {
    "name": "ipython",
    "version": 3
   },
   "file_extension": ".py",
   "mimetype": "text/x-python",
   "name": "python",
   "nbconvert_exporter": "python",
   "pygments_lexer": "ipython3",
   "version": "3.7.16"
  }
 },
 "nbformat": 4,
 "nbformat_minor": 5
}
