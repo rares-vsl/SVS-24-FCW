{
 "cells": [
  {
   "cell_type": "code",
   "execution_count": 1,
   "id": "d433f5dd",
   "metadata": {},
   "outputs": [],
   "source": [
    "import carla, time, random"
   ]
  },
  {
   "cell_type": "code",
   "execution_count": 2,
   "id": "814fbe72",
   "metadata": {},
   "outputs": [],
   "source": [
    "client = carla.Client(\"localhost\", 2000)\n",
    "world = client.get_world()"
   ]
  },
  {
   "cell_type": "code",
   "execution_count": 3,
   "id": "947705c2",
   "metadata": {},
   "outputs": [],
   "source": [
    "walker_bp = random.choice(world.get_blueprint_library().filter(\"walker.pedestrian.*\"))\n",
    "controller_bp = world.get_blueprint_library().find('controller.ai.walker')\n",
    "\n",
    "start_location = carla.Location(x=87.56214904785156, y=21.49372673034668, z=1)\n",
    "destination = carla.Location(x=87.338134765625, y=36.89383316040039, z=1)\n",
    "\n",
    "trans = carla.Transform()\n",
    "trans.location = start_location\n",
    "\n",
    "walker = world.spawn_actor(walker_bp, trans)\n",
    "\n",
    "world.wait_for_tick()\n",
    "controller = world.spawn_actor(controller_bp, carla.Transform(), walker)\n",
    "\n",
    "world.wait_for_tick()\n",
    "\n",
    "controller.start()\n",
    "\n",
    "controller.go_to_location(destination)"
   ]
  },
  {
   "cell_type": "code",
   "execution_count": null,
   "id": "59716f4e",
   "metadata": {},
   "outputs": [
    {
     "name": "stdout",
     "output_type": "stream",
     "text": [
      "Pedone ha raggiunto la destinazione!\n",
      "Invio il pedone alla posizione di partenza...\n",
      "Pedone ha raggiunto la destinazione!\n",
      "Invio il pedone alla posizione di partenza...\n",
      "Pedone ha raggiunto la destinazione!\n",
      "Invio il pedone alla posizione di partenza...\n",
      "Pedone ha raggiunto la destinazione!\n",
      "Invio il pedone alla posizione di partenza...\n",
      "Pedone ha raggiunto la destinazione!\n",
      "Invio il pedone alla posizione di partenza...\n",
      "Pedone ha raggiunto la destinazione!\n",
      "Invio il pedone alla posizione di partenza...\n",
      "Pedone ha raggiunto la destinazione!\n",
      "Invio il pedone alla posizione di partenza...\n",
      "Pedone ha raggiunto la destinazione!\n",
      "Invio il pedone alla posizione di partenza...\n",
      "Pedone ha raggiunto la destinazione!\n",
      "Invio il pedone alla posizione di partenza...\n",
      "Pedone ha raggiunto la destinazione!\n",
      "Invio il pedone alla posizione di partenza...\n",
      "Pedone ha raggiunto la destinazione!\n",
      "Invio il pedone alla posizione di partenza...\n",
      "Pedone ha raggiunto la destinazione!\n",
      "Invio il pedone alla posizione di partenza...\n",
      "Pedone ha raggiunto la destinazione!\n",
      "Invio il pedone alla posizione di partenza...\n",
      "Pedone ha raggiunto la destinazione!\n",
      "Invio il pedone alla posizione di partenza...\n",
      "Pedone ha raggiunto la destinazione!\n",
      "Invio il pedone alla posizione di partenza...\n",
      "Pedone ha raggiunto la destinazione!\n",
      "Invio il pedone alla posizione di partenza...\n"
     ]
    }
   ],
   "source": [
    "while True:\n",
    "    world.wait_for_tick()\n",
    "    if walker.get_location().distance(destination) < 1.0:\n",
    "        print(\"Pedone ha raggiunto la destinazione!\")\n",
    "\n",
    "        # Dopo aver raggiunto la destinazione, invialo di nuovo al punto di partenza\n",
    "        print(\"Invio il pedone alla posizione di partenza...\")\n",
    "        controller.go_to_location(start_location)\n",
    "        start_location, destination = destination, start_location\n",
    "        \n",
    "    world.tick()"
   ]
  },
  {
   "cell_type": "code",
   "execution_count": 15,
   "id": "dc1f8474",
   "metadata": {},
   "outputs": [
    {
     "data": {
      "text/plain": [
       "True"
      ]
     },
     "execution_count": 15,
     "metadata": {},
     "output_type": "execute_result"
    }
   ],
   "source": [
    "walker.destroy()"
   ]
  }
 ],
 "metadata": {
  "kernelspec": {
   "display_name": "Python 3 (ipykernel)",
   "language": "python",
   "name": "python3"
  },
  "language_info": {
   "codemirror_mode": {
    "name": "ipython",
    "version": 3
   },
   "file_extension": ".py",
   "mimetype": "text/x-python",
   "name": "python",
   "nbconvert_exporter": "python",
   "pygments_lexer": "ipython3",
   "version": "3.7.16"
  }
 },
 "nbformat": 4,
 "nbformat_minor": 5
}
