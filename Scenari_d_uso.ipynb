{
 "cells": [
  {
   "cell_type": "markdown",
   "id": "6501f2aa",
   "metadata": {},
   "source": [
    "# SCENARI D'USO"
   ]
  },
  {
   "cell_type": "code",
   "execution_count": 1,
   "id": "ebb8d4b4",
   "metadata": {},
   "outputs": [],
   "source": [
    "import carla, time, threading, random\n",
    "from agents.navigation.basic_agent import BasicAgent\n",
    "from Adas import Forward_collision_warning_mqtt\n",
    "from SyncSimulation import SyncSimulation"
   ]
  },
  {
   "cell_type": "code",
   "execution_count": 2,
   "id": "a5501fd7",
   "metadata": {},
   "outputs": [],
   "source": [
    "client = carla.Client('localhost', 2000)\n",
    "client.set_timeout(10.0)\n",
    "world = client.get_world()"
   ]
  },
  {
   "cell_type": "markdown",
   "id": "59d4ac90",
   "metadata": {},
   "source": [
    "# FUNZIONI DI SUPPORTO"
   ]
  },
  {
   "cell_type": "markdown",
   "id": "afaa86ab",
   "metadata": {},
   "source": [
    "## Gestione simulazione"
   ]
  },
  {
   "cell_type": "code",
   "execution_count": 4,
   "id": "5466d4fa",
   "metadata": {},
   "outputs": [],
   "source": [
    "# Simulazione sensore umidità dell'asflato\n",
    "def get_asphalt_friction_coefficient():\n",
    "    world = client.get_world()\n",
    "    weather = world.get_weather()\n",
    "    weather.precipitation_deposits\n",
    "    weather.wetness\n",
    "    return 1"
   ]
  },
  {
   "cell_type": "code",
   "execution_count": 42,
   "id": "556f1dfc",
   "metadata": {},
   "outputs": [],
   "source": [
    "def get_waypoint(location):\n",
    "    map = world.get_map()\n",
    "    return map.get_waypoint(location)"
   ]
  },
  {
   "cell_type": "markdown",
   "id": "367fd6ed",
   "metadata": {},
   "source": [
    "## ADAS"
   ]
  },
  {
   "cell_type": "code",
   "execution_count": 9,
   "id": "4f481fca",
   "metadata": {},
   "outputs": [],
   "source": [
    "def attach_adas(sim, world, vehicle, min_ttc = 0.5):\n",
    "    adas = Forward_collision_warning_mqtt(\n",
    "        world = world,\n",
    "        attached_vehicle = vehicle,\n",
    "        min_ttc=min_ttc,\n",
    "        get_asphalt_friction_coefficient = lambda : get_asphalt_friction_coefficient(),\n",
    "        action_listener = lambda : sim.stop_simulation()\n",
    "    )\n",
    "    return adas"
   ]
  },
  {
   "cell_type": "markdown",
   "id": "8c10f746",
   "metadata": {},
   "source": [
    "## Gestione world"
   ]
  },
  {
   "cell_type": "code",
   "execution_count": 10,
   "id": "915899e7",
   "metadata": {},
   "outputs": [],
   "source": [
    "def load_map(world, map_name):\n",
    "    if not world.get_map().name == f\"Carla/Maps/{map_name}\":\n",
    "        world = client.load_world(map_name)"
   ]
  },
  {
   "cell_type": "code",
   "execution_count": 11,
   "id": "d2387e65",
   "metadata": {},
   "outputs": [],
   "source": [
    "def destroy_all_vehicles(world):\n",
    "    all_actors = world.get_actors()\n",
    "    \n",
    "    vehicles = all_actors.filter('vehicle.*')\n",
    "    \n",
    "    print(f\"Numero di veicoli trovati: {len(vehicles)}\")\n",
    "    \n",
    "    for vehicle in vehicles:\n",
    "        vehicle.destroy()\n",
    "        print(f\"Veicolo distrutto: {vehicle.id}\")"
   ]
  },
  {
   "cell_type": "code",
   "execution_count": 12,
   "id": "8628d42e",
   "metadata": {},
   "outputs": [],
   "source": [
    "def destroy_all_pedestrians(world):\n",
    "    all_actors = world.get_actors()\n",
    "    \n",
    "    pedestrians = all_actors.filter('walker.pedestrian.*')\n",
    "    \n",
    "    print(f\"Numero di pedoni trovati: {len(pedestrians)}\")\n",
    "    \n",
    "    for pedestrian in pedestrians:\n",
    "        pedestrian.destroy()\n",
    "        print(f\"Pedone distrutto: {pedestrian.id}\")"
   ]
  },
  {
   "cell_type": "code",
   "execution_count": 13,
   "id": "3e46157b",
   "metadata": {},
   "outputs": [],
   "source": [
    "def disable_traffic_lights():\n",
    "    traffic_lights = world.get_actors().filter('traffic.traffic_light')\n",
    "    for traffic_light in traffic_lights:\n",
    "        traffic_light.set_state(carla.TrafficLightState.Green)  # Imposta su verde\n",
    "        traffic_light.set_green_time(99999)  # Mantiene il verde per un tempo molto lungo\n",
    "        traffic_light.freeze(True)  # Disabilita la logica automatica"
   ]
  },
  {
   "cell_type": "code",
   "execution_count": 14,
   "id": "f5d1dd09",
   "metadata": {},
   "outputs": [],
   "source": [
    "def enable_traffic_lights():\n",
    "\n",
    "    traffic_lights = world.get_actors().filter('traffic.traffic_light')\n",
    "    for traffic_light in traffic_lights:\n",
    "        traffic_light.freeze(False)  # Riattiva il controllo automatico\n",
    "        traffic_light.reset_group()  # Resetta lo stato e il ciclo del semaforo\n",
    "        print(f\"Semaforo {traffic_light.id} ripristinato al comportamento predefinito.\")"
   ]
  },
  {
   "cell_type": "markdown",
   "id": "f7e72756",
   "metadata": {},
   "source": [
    "## Creazione entità"
   ]
  },
  {
   "cell_type": "code",
   "execution_count": 15,
   "id": "87ffec85",
   "metadata": {},
   "outputs": [],
   "source": [
    "def spawn_vehicle(world, location, index, y = 0):\n",
    "    blueprint_library = world.get_blueprint_library()\n",
    "    vehicle_bp = blueprint_library.filter('vehicle.*')[index]\n",
    "    spawn_point = carla.Transform()\n",
    "    spawn_point.location = location\n",
    "    spawn_point.rotation = carla.Rotation(yaw = y)\n",
    "    vehicle = world.try_spawn_actor(vehicle_bp, spawn_point)\n",
    "    return vehicle"
   ]
  },
  {
   "cell_type": "code",
   "execution_count": 16,
   "id": "af993f7c",
   "metadata": {},
   "outputs": [],
   "source": [
    "def actor_vehicle(world, vehicle, desitination, speed = 60):\n",
    "    world.wait_for_tick()\n",
    "    actor_agent = BasicAgent(vehicle)\n",
    "    actor_agent.set_destination(desitination)\n",
    "    actor_agent.set_target_speed(speed)\n",
    "    actor_agent.ignore_vehicles()\n",
    "    world.wait_for_tick()\n",
    "    return actor_agent"
   ]
  },
  {
   "cell_type": "code",
   "execution_count": 17,
   "id": "592ad9e6",
   "metadata": {},
   "outputs": [],
   "source": [
    "def spawn_walker(start_location, yaw = 0):\n",
    "    walker_bp = random.choice(world.get_blueprint_library().filter(\"walker.pedestrian.*\"))\n",
    "    walker_bp.set_attribute('is_invincible', 'false')\n",
    "\n",
    "    trans = carla.Transform()\n",
    "    trans.location = start_location\n",
    "    trans.rotation = carla.Rotation(yaw = yaw)\n",
    "\n",
    "    return world.spawn_actor(walker_bp, trans)"
   ]
  },
  {
   "cell_type": "markdown",
   "id": "3719d1df",
   "metadata": {},
   "source": [
    "## Gestione movimenti"
   ]
  },
  {
   "cell_type": "code",
   "execution_count": 18,
   "id": "23f952dd",
   "metadata": {},
   "outputs": [],
   "source": [
    "def move_forward(vehicle, throttle):\n",
    "    control = carla.VehicleControl()\n",
    "    control.throttle = throttle\n",
    "    vehicle.apply_control(control)"
   ]
  },
  {
   "cell_type": "code",
   "execution_count": 19,
   "id": "8b44dc0d",
   "metadata": {},
   "outputs": [],
   "source": [
    "def move_agent(vehicle, actor_agent):\n",
    "    vehicle.apply_control(actor_agent.run_step())"
   ]
  },
  {
   "cell_type": "code",
   "execution_count": 20,
   "id": "07024ff9",
   "metadata": {},
   "outputs": [],
   "source": [
    "def move_forward_agent(vehicle, actor_agent,x,y):\n",
    "    forward_location = vehicle.get_location() + carla.Location(x=x, y=y, z=0)  # Adjust 'x', 'y' based on vehicle's orientation\n",
    "    actor_agent.set_destination(forward_location)\n",
    "    vehicle.apply_control(actor_agent.run_step())"
   ]
  },
  {
   "cell_type": "code",
   "execution_count": 21,
   "id": "65db0028",
   "metadata": {},
   "outputs": [],
   "source": [
    "def stop_vehicle(vehicle):\n",
    "    control = carla.VehicleControl()\n",
    "    control.throttle = 0.0\n",
    "    control.brake = 1.0\n",
    "    control.hand_brake = True\n",
    "    vehicle.apply_control(control)"
   ]
  },
  {
   "cell_type": "code",
   "execution_count": 22,
   "id": "c3d44491",
   "metadata": {},
   "outputs": [],
   "source": [
    "def move_pedestrian(x=1,y =0,z = 0):\n",
    "    walker_control = carla.WalkerControl()\n",
    "    walker_control.speed = 1.5  # Velocità in m/s (positivo in avanti)\n",
    "    walker_control.direction = carla.Vector3D(x, y, z)\n",
    "    return walker_control"
   ]
  },
  {
   "cell_type": "code",
   "execution_count": 65,
   "id": "34271a62",
   "metadata": {},
   "outputs": [],
   "source": [
    "def stop_pedestrian(walker):\n",
    "    walker_control = carla.WalkerControl()\n",
    "    walker_control.speed = 0  # Velocità in m/s (positivo in avanti)\n",
    "    walker.apply_control(walker_control)"
   ]
  },
  {
   "cell_type": "code",
   "execution_count": 23,
   "id": "fbc0df10",
   "metadata": {},
   "outputs": [],
   "source": [
    "def get_vehicle_velocity(vehicle):\n",
    "    velocity_vector = vehicle.get_velocity()\n",
    "    velocity = (velocity_vector.x**2 + velocity_vector.y**2 + velocity_vector.z**2)**0.5\n",
    "    if vehicle.get_control().reverse:\n",
    "        velocity = -velocity\n",
    "    return velocity"
   ]
  },
  {
   "cell_type": "markdown",
   "id": "46a51172",
   "metadata": {},
   "source": [
    "## Camera"
   ]
  },
  {
   "cell_type": "code",
   "execution_count": 24,
   "id": "b57d8079",
   "metadata": {},
   "outputs": [],
   "source": [
    "def print_spectator_position():\n",
    "    location = world.get_spectator().get_transform().location\n",
    "    rotation = world.get_spectator().get_transform().rotation\n",
    "    print(location)\n",
    "    print(rotation)"
   ]
  },
  {
   "cell_type": "code",
   "execution_count": 25,
   "id": "4bbec7e0",
   "metadata": {},
   "outputs": [],
   "source": [
    "def set_spectator_location(location, rotation):\n",
    "    spectator = world.get_spectator()\n",
    "    spectator.set_transform(carla.Transform(location, rotation))"
   ]
  },
  {
   "cell_type": "code",
   "execution_count": 26,
   "id": "15d4fccd",
   "metadata": {},
   "outputs": [],
   "source": [
    "def run_camera(camera, vehicle, sim):\n",
    "    return threading.Thread(target=camera, args=(vehicle,sim))"
   ]
  },
  {
   "cell_type": "code",
   "execution_count": 27,
   "id": "1514cc00",
   "metadata": {},
   "outputs": [],
   "source": [
    "def view_from_above(vehicle, sim):    \n",
    "    while sim.run:\n",
    "        distance_above = 50.0  # Altezza della telecamera sopra il veicolo\n",
    "        spectator = world.get_spectator()\n",
    "        \n",
    "        vehicle_location = vehicle.get_location()\n",
    "        \n",
    "        \n",
    "        spectator_location = carla.Location(\n",
    "                x=vehicle_location.x,  # Stessa posizione X del veicolo\n",
    "                y=vehicle_location.y,  # Stessa posizione Y del veicolo\n",
    "                z=vehicle_location.z + distance_above  # Posizionata più in alto rispetto al veicolo\n",
    "            )\n",
    "\n",
    "        spectator_rotation = carla.Rotation(\n",
    "            pitch=-90.0,  # Guardare direttamente verso il basso\n",
    "            yaw=0,  # Allineato con la rotazione del veicolo\n",
    "            roll=0.0\n",
    "        )\n",
    "        \n",
    "        spectator.set_transform(carla.Transform(spectator_location, spectator_rotation))\n",
    "    "
   ]
  },
  {
   "cell_type": "code",
   "execution_count": 28,
   "id": "efff4c76",
   "metadata": {},
   "outputs": [],
   "source": [
    "def view_from_behind(vehicle, sim):    \n",
    "    while sim.run:\n",
    "        distance_behind = 14.0  # How far behind the car the spectator will be\n",
    "        height = 5.0  # Height of the camera (how high above the car it will be)\n",
    "        distance_to_the_side = 0\n",
    "        \n",
    "        spectator = world.get_spectator()\n",
    "        \n",
    "        vehicle_location = vehicle.get_location()\n",
    "        vehicle_rotation = vehicle.get_transform().rotation\n",
    "        \n",
    "        spectator_location = carla.Location(\n",
    "                x=vehicle_location.x - distance_behind * vehicle_rotation.get_forward_vector().x + distance_to_the_side * vehicle_rotation.get_right_vector().x,\n",
    "                y=vehicle_location.y - distance_behind * vehicle_rotation.get_forward_vector().y + distance_to_the_side * vehicle_rotation.get_right_vector().y,\n",
    "                z=vehicle_location.z + height  # Keeping the camera above the vehicle\n",
    "            )\n",
    "\n",
    "            # Set the spectator's transform to follow the vehicle\n",
    "    \n",
    "        spectator.set_transform(carla.Transform(spectator_location, vehicle_rotation))\n",
    "    \n",
    "    "
   ]
  },
  {
   "cell_type": "markdown",
   "id": "70557f3a",
   "metadata": {},
   "source": [
    "# Scenari"
   ]
  },
  {
   "cell_type": "markdown",
   "id": "480c1fb9",
   "metadata": {},
   "source": [
    "## Scenario 0: Viaggio senza ostacoli\n",
    "\n",
    "\n",
    "Verificare che in condiziondi normali il veicolo viaggi tranquillamente"
   ]
  },
  {
   "cell_type": "markdown",
   "id": "84809691",
   "metadata": {},
   "source": [
    "### SETUP"
   ]
  },
  {
   "cell_type": "code",
   "execution_count": null,
   "id": "5199e816",
   "metadata": {},
   "outputs": [],
   "source": [
    "load_map(world, \"Town10HD_Opt\")"
   ]
  },
  {
   "cell_type": "code",
   "execution_count": null,
   "id": "4fb697fd",
   "metadata": {},
   "outputs": [],
   "source": [
    "disable_traffic_lights()"
   ]
  },
  {
   "cell_type": "code",
   "execution_count": null,
   "id": "7a857ef5",
   "metadata": {},
   "outputs": [],
   "source": [
    "start = carla.Location(x=-41.477230, y=116.999939, z=0.000000)\n",
    "\n",
    "# percorso da seguire\n",
    "wps = [\n",
    "    carla.Location(x=-41.679836, y=45.000507, z=0),\n",
    "    carla.Location(x=30.000090, y=28.267391, z=0),\n",
    "    carla.Location(x=-41.525066, y=100.000069, z=0)\n",
    "\n",
    "]"
   ]
  },
  {
   "cell_type": "markdown",
   "id": "5b707b83",
   "metadata": {},
   "source": [
    "### run"
   ]
  },
  {
   "cell_type": "code",
   "execution_count": null,
   "id": "9fb06fbf",
   "metadata": {},
   "outputs": [],
   "source": [
    "destroy_all_vehicles(world)\n",
    "simulation = SyncSimulation(world)\n",
    "\n",
    "vehicle = spawn_vehicle(world, start, 0, -90)\n",
    "\n",
    "actor_agent = actor_vehicle(world, vehicle, wps[0], 40)\n",
    "\n",
    "wp_index = 0\n",
    "\n",
    "try:\n",
    "    adas = attach_adas(simulation, world, vehicle)\n",
    "    simulation.run_sync_simulation()\n",
    "    run_camera(view_from_behind, vehicle, simulation).start()\n",
    "    \n",
    "    while simulation.run:\n",
    "        if actor_agent.done():\n",
    "            wp_index = (wp_index +1) % len(wps)\n",
    "            actor_agent.set_destination(wps[wp_index])\n",
    "\n",
    "        move_agent(vehicle, actor_agent)\n",
    "        \n",
    "    stop_vehicle(vehicle)\n",
    "\n",
    "except KeyboardInterrupt:\n",
    "    print(\"simulation stopped\")\n",
    "    stop_vehicle(vehicle)\n",
    "    simulation.stop_simulation()\n",
    "finally:\n",
    "    print(\"done\")\n",
    "    adas.destroy()\n"
   ]
  },
  {
   "cell_type": "markdown",
   "id": "9a5b3fe1",
   "metadata": {},
   "source": [
    "## Scenario 1: Veicolo fermo o parcheggiato sulla carreggiata\n",
    "\n",
    "\n",
    "Presenza di un veicolo parcheggiato direttamente davanti lungo la corsia di marcia."
   ]
  },
  {
   "cell_type": "code",
   "execution_count": null,
   "id": "31c166dc",
   "metadata": {},
   "outputs": [],
   "source": [
    "load_map(world, \"Town10HD_Opt\")"
   ]
  },
  {
   "cell_type": "code",
   "execution_count": null,
   "id": "b8bf87e5",
   "metadata": {},
   "outputs": [],
   "source": [
    "disable_traffic_lights()"
   ]
  },
  {
   "cell_type": "code",
   "execution_count": null,
   "id": "ac25ca2a",
   "metadata": {},
   "outputs": [],
   "source": [
    "far_location = carla.Location(x=-41.5, y=45, z=1)\n",
    "middle_location = carla.Location(x=-41.5, y=70, z=1)\n",
    "close_location = carla.Location(x=-41.5, y=100, z=1)\n"
   ]
  },
  {
   "cell_type": "code",
   "execution_count": null,
   "id": "f25aa104",
   "metadata": {},
   "outputs": [],
   "source": [
    "destroy_all_vehicles(world)\n",
    "\n",
    "simulation = SyncSimulation(world)\n",
    "\n",
    "vehicle = spawn_vehicle(world, carla.Location(x=-41.5, y=117, z=1), 2, -90)\n",
    "actor_agent = actor_vehicle(world, vehicle, far_location, 120)\n",
    "\n",
    "osbstacle_vehicle = spawn_vehicle(world, close_location, 1, -90)\n",
    "\n",
    "\n",
    "try:\n",
    "    adas = attach_adas(simulation, world, vehicle)\n",
    "    simulation.run_sync_simulation()\n",
    "    run_camera(view_from_above, vehicle, simulation).start()\n",
    "\n",
    "    while simulation.run:\n",
    "        move_agent(vehicle, actor_agent)\n",
    "\n",
    "    stop_vehicle(vehicle)\n",
    "except KeyboardInterrupt:\n",
    "    print(\"simulation stopped\")\n",
    "    stop_vehicle(vehicle)\n",
    "    simulation.stop_simulation()\n",
    "finally:\n",
    "    print(\"done\")\n",
    "    adas.destroy()\n",
    "\n"
   ]
  },
  {
   "cell_type": "markdown",
   "id": "4d5aaafa",
   "metadata": {},
   "source": [
    "## Senario 2: Veicolo davanti in movimento con una velocità maggiore"
   ]
  },
  {
   "cell_type": "code",
   "execution_count": null,
   "id": "2f7fe024",
   "metadata": {},
   "outputs": [],
   "source": [
    "load_map(world, \"Town10HD_Opt\")"
   ]
  },
  {
   "cell_type": "code",
   "execution_count": null,
   "id": "871a0319",
   "metadata": {},
   "outputs": [],
   "source": [
    "disable_traffic_lights()"
   ]
  },
  {
   "cell_type": "code",
   "execution_count": 43,
   "id": "e7f2b705",
   "metadata": {},
   "outputs": [
    {
     "name": "stdout",
     "output_type": "stream",
     "text": [
      "Waypoint(Transform(Location(x=-41.647892, y=-42.639099, z=0.000000), Rotation(pitch=360.000000, yaw=270.432312, roll=0.000000)))\n"
     ]
    }
   ],
   "source": [
    "# print_spectator_position()\n",
    "print(get_waypoint(carla.Location(x=-41.453701, y=-42.637630, z=2.603971)))"
   ]
  },
  {
   "cell_type": "code",
   "execution_count": 48,
   "id": "6ef624ee",
   "metadata": {},
   "outputs": [
    {
     "name": "stdout",
     "output_type": "stream",
     "text": [
      "Numero di veicoli trovati: 2\n",
      "Veicolo distrutto: 110\n",
      "Veicolo distrutto: 111\n",
      "simulation stopped\n",
      "done\n"
     ]
    }
   ],
   "source": [
    "destroy_all_vehicles(world)\n",
    "\n",
    "simulation = SyncSimulation(world)\n",
    "\n",
    "destination = carla.Location(x=-41.647892, y=-42.639099, z=0.000000)\n",
    "\n",
    "vehicle_speed = 45\n",
    "obstacle_speed = 50\n",
    "\n",
    "vehicle = spawn_vehicle(world, carla.Location(x=-41.5, y=117, z=1), 1, -90)\n",
    "actor_agent = actor_vehicle(world, vehicle, destination, vehicle_speed)\n",
    "\n",
    "obstacle_vehicle = spawn_vehicle(world, carla.Location(x=-41.5, y=105, z=1), 1, -90)\n",
    "obstacle_actor_agent = actor_vehicle(world, obstacle_vehicle, destination, obstacle_speed)\n",
    "\n",
    "try:\n",
    "    adas = attach_adas(simulation, world, vehicle, 0.4)\n",
    "    simulation.run_sync_simulation()  \n",
    "    run_camera(view_from_above, vehicle, simulation).start()\n",
    "    while simulation.run:\n",
    "        if obstacle_actor_agent.done():\n",
    "            stop_vehicle(obstacle_vehicle)\n",
    "        vehicle.apply_control(actor_agent.run_step())\n",
    "        obstacle_vehicle.apply_control(obstacle_actor_agent.run_step())\n",
    "\n",
    "    \n",
    "    stop_vehicle(vehicle)\n",
    "    simulation.stop_simulation()\n",
    "except KeyboardInterrupt:\n",
    "    print(\"simulation stopped\")\n",
    "    stop_vehicle(obstacle_vehicle)\n",
    "    stop_vehicle(vehicle)\n",
    "    simulation.stop_simulation()\n",
    "finally:\n",
    "    print(\"done\")\n",
    "    adas.destroy()\n"
   ]
  },
  {
   "cell_type": "markdown",
   "id": "a7579eb0",
   "metadata": {},
   "source": [
    "## Senario 3: Veicolo davanti in movimento con una velocità minore"
   ]
  },
  {
   "cell_type": "code",
   "execution_count": null,
   "id": "26e274c1",
   "metadata": {},
   "outputs": [],
   "source": [
    "load_map(world, \"Town10HD_Opt\")"
   ]
  },
  {
   "cell_type": "code",
   "execution_count": null,
   "id": "4e59e6e0",
   "metadata": {},
   "outputs": [],
   "source": [
    "disable_traffic_lights()"
   ]
  },
  {
   "cell_type": "code",
   "execution_count": 56,
   "id": "134b0f75",
   "metadata": {},
   "outputs": [
    {
     "name": "stdout",
     "output_type": "stream",
     "text": [
      "Numero di veicoli trovati: 2\n",
      "Veicolo distrutto: 134\n",
      "Veicolo distrutto: 135\n",
      "Send `WARNING` to topic `carla/fcw_state`\n",
      "Send `ACTION` to topic `carla/fcw_state`\n",
      "simulation stopped\n",
      "done\n"
     ]
    },
    {
     "ename": "RuntimeError",
     "evalue": "trying to operate on a destroyed actor; an actor's function was called, but the actor is already destroyed.",
     "output_type": "error",
     "traceback": [
      "\u001b[1;31m---------------------------------------------------------------------------\u001b[0m",
      "\u001b[1;31mRuntimeError\u001b[0m                              Traceback (most recent call last)",
      "\u001b[1;32m~\\AppData\\Local\\Temp\\ipykernel_11556\\2989787471.py\u001b[0m in \u001b[0;36m<module>\u001b[1;34m\u001b[0m\n\u001b[0;32m     37\u001b[0m \u001b[1;32mfinally\u001b[0m\u001b[1;33m:\u001b[0m\u001b[1;33m\u001b[0m\u001b[1;33m\u001b[0m\u001b[0m\n\u001b[0;32m     38\u001b[0m     \u001b[0mprint\u001b[0m\u001b[1;33m(\u001b[0m\u001b[1;34m\"done\"\u001b[0m\u001b[1;33m)\u001b[0m\u001b[1;33m\u001b[0m\u001b[1;33m\u001b[0m\u001b[0m\n\u001b[1;32m---> 39\u001b[1;33m     \u001b[0madas\u001b[0m\u001b[1;33m.\u001b[0m\u001b[0mdestroy\u001b[0m\u001b[1;33m(\u001b[0m\u001b[1;33m)\u001b[0m\u001b[1;33m\u001b[0m\u001b[1;33m\u001b[0m\u001b[0m\n\u001b[0m",
      "\u001b[1;32me:\\II semestre 2023\\PCD\\SVS-24-FCW\\Adas.py\u001b[0m in \u001b[0;36mdestroy\u001b[1;34m(self)\u001b[0m\n\u001b[0;32m    253\u001b[0m             \u001b[0mself\u001b[0m\u001b[1;33m.\u001b[0m\u001b[0m__mqttc\u001b[0m\u001b[1;33m.\u001b[0m\u001b[0mloop_stop\u001b[0m\u001b[1;33m(\u001b[0m\u001b[1;33m)\u001b[0m\u001b[1;33m\u001b[0m\u001b[1;33m\u001b[0m\u001b[0m\n\u001b[0;32m    254\u001b[0m             \u001b[0mself\u001b[0m\u001b[1;33m.\u001b[0m\u001b[0m__mqttc\u001b[0m\u001b[1;33m.\u001b[0m\u001b[0mdisconnect\u001b[0m\u001b[1;33m(\u001b[0m\u001b[1;33m)\u001b[0m\u001b[1;33m\u001b[0m\u001b[1;33m\u001b[0m\u001b[0m\n\u001b[1;32m--> 255\u001b[1;33m             \u001b[0mself\u001b[0m\u001b[1;33m.\u001b[0m\u001b[0m__radar\u001b[0m\u001b[1;33m.\u001b[0m\u001b[0mdestroy\u001b[0m\u001b[1;33m(\u001b[0m\u001b[1;33m)\u001b[0m\u001b[1;33m\u001b[0m\u001b[1;33m\u001b[0m\u001b[0m\n\u001b[0m",
      "\u001b[1;31mRuntimeError\u001b[0m: trying to operate on a destroyed actor; an actor's function was called, but the actor is already destroyed."
     ]
    }
   ],
   "source": [
    "destroy_all_vehicles(world)\n",
    "\n",
    "simulation = SyncSimulation(world)\n",
    "\n",
    "destination = carla.Location(x=30, y=28.3, z=1)\n",
    "\n",
    "vehicle_speed = 60\n",
    "obstacle_speed = 30\n",
    "\n",
    "vehicle = spawn_vehicle(world, carla.Location(x=-41.5, y=117, z=1), 1, -90)\n",
    "actor_agent = actor_vehicle(world, vehicle, destination, vehicle_speed)\n",
    "\n",
    "obstacle_vehicle = spawn_vehicle(world, carla.Location(x=-41.5, y=100, z=1), 1, -90)\n",
    "obstacle_actor_agent = actor_vehicle(world, obstacle_vehicle, destination, obstacle_speed)\n",
    "\n",
    "try:\n",
    "    adas = attach_adas(simulation, world, vehicle, 0.4)\n",
    "    simulation.run_sync_simulation()  \n",
    "    run_camera(view_from_above, vehicle, simulation).start()\n",
    "    while True:\n",
    "        if obstacle_actor_agent.done():\n",
    "            break\n",
    "        if simulation.run:\n",
    "            vehicle.apply_control(actor_agent.run_step())\n",
    "        else:\n",
    "            stop_vehicle(vehicle)\n",
    "        obstacle_vehicle.apply_control(obstacle_actor_agent.run_step())\n",
    "\n",
    "    \n",
    "    stop_vehicle(obstacle_vehicle)\n",
    "    simulation.stop_simulation()\n",
    "except KeyboardInterrupt:\n",
    "    print(\"simulation stopped\")\n",
    "    stop_vehicle(vehicle)\n",
    "    adas.destroy()\n",
    "    simulation.stop_simulation()\n",
    "finally:\n",
    "    print(\"done\")\n",
    "    adas.destroy()\n"
   ]
  },
  {
   "cell_type": "markdown",
   "id": "e4a04d50",
   "metadata": {},
   "source": [
    "## Scenario 4 : Pedone che attraversa le strisce pedonali\n",
    "\n",
    "\n",
    "Presenza di un pedone che attraversa le strisce pedonali mentre il veicolo di riferimento è a pochi metri da esse"
   ]
  },
  {
   "cell_type": "markdown",
   "id": "c6ca82fd",
   "metadata": {},
   "source": [
    "### SETUP"
   ]
  },
  {
   "cell_type": "code",
   "execution_count": null,
   "id": "7fcb8b87",
   "metadata": {},
   "outputs": [],
   "source": [
    "load_map(world, \"Town10HD_Opt\")"
   ]
  },
  {
   "cell_type": "code",
   "execution_count": null,
   "id": "38a4b8bc",
   "metadata": {},
   "outputs": [],
   "source": [
    "disable_traffic_lights()"
   ]
  },
  {
   "cell_type": "markdown",
   "id": "45bcb326",
   "metadata": {},
   "source": [
    "### SIMULAZIONE SEMPLICE"
   ]
  },
  {
   "cell_type": "code",
   "execution_count": 61,
   "id": "bea915da",
   "metadata": {},
   "outputs": [
    {
     "name": "stdout",
     "output_type": "stream",
     "text": [
      "Numero di veicoli trovati: 1\n",
      "Veicolo distrutto: 146\n",
      "Numero di pedoni trovati: 1\n",
      "Pedone distrutto: 147\n",
      "Send `WARNING` to topic `carla/fcw_state`\n",
      "Send `ACTION` to topic `carla/fcw_state`\n",
      "done\n"
     ]
    }
   ],
   "source": [
    "destroy_all_vehicles(world)\n",
    "destroy_all_pedestrians(world)\n",
    "\n",
    "simulation = SyncSimulation(world)\n",
    "\n",
    "destination = carla.Location(x=-41.5, y=10, z=1)\n",
    "\n",
    "vehicle = spawn_vehicle(world, carla.Location(x=-41.5, y=80, z=1), 1, -90)\n",
    "actor_agent = actor_vehicle(world, vehicle, destination, 120)\n",
    "\n",
    "walker = spawn_walker(carla.Location(x=-41.5, y=37, z=1))\n",
    "\n",
    "\n",
    "try:\n",
    "    adas = attach_adas(simulation, world, vehicle)\n",
    "    simulation.run_sync_simulation()\n",
    "    set_spectator_location(carla.Location(x=-37.506443, y=33.672970, z=1.671275),\n",
    "        carla.Rotation(pitch=-6.648561, yaw=118.152756, roll=-0.000091))\n",
    "\n",
    "    while simulation.run:\n",
    "        vehicle.apply_control(actor_agent.run_step())\n",
    "            \n",
    "    stop_vehicle(vehicle)\n",
    "    \n",
    "except KeyboardInterrupt:\n",
    "    print(\"simulation stopped\")\n",
    "    stop_vehicle(vehicle)\n",
    "    simulation.stop_simulation()\n",
    "finally:\n",
    "    print(\"done\")\n",
    "    adas.destroy()\n",
    "\n"
   ]
  },
  {
   "cell_type": "markdown",
   "id": "dda79a31",
   "metadata": {},
   "source": [
    "### Pedone in movimento"
   ]
  },
  {
   "cell_type": "code",
   "execution_count": 66,
   "id": "0795fe54",
   "metadata": {},
   "outputs": [
    {
     "name": "stdout",
     "output_type": "stream",
     "text": [
      "Numero di veicoli trovati: 1\n",
      "Veicolo distrutto: 157\n",
      "Numero di pedoni trovati: 1\n",
      "Pedone distrutto: 158\n",
      "Send `WARNING` to topic `carla/fcw_state`\n",
      "Send `ACTION` to topic `carla/fcw_state`\n",
      "done\n"
     ]
    }
   ],
   "source": [
    "destroy_all_vehicles(world)\n",
    "destroy_all_pedestrians(world)\n",
    "\n",
    "\n",
    "simulation = SyncSimulation(world)\n",
    "\n",
    "destination = carla.Location(x=-41.5, y=72, z=1)\n",
    "\n",
    "vehicle = spawn_vehicle(world, carla.Location(x=-41.5, y=80, z=1), 1, -90)\n",
    "actor_agent = actor_vehicle(world, vehicle, destination, 35)\n",
    "\n",
    "walker = spawn_walker(carla.Location(x=-35, y=36.6, z=1), 180)\n",
    "controller_w = move_pedestrian(-1,0,0)\n",
    "\n",
    "walker_should_move = False\n",
    "\n",
    "try:\n",
    "    adas = attach_adas(simulation, world, vehicle, 0.4)\n",
    "    simulation.run_sync_simulation()\n",
    "    run_camera(view_from_behind, vehicle, simulation).start()\n",
    "\n",
    "    while simulation.run:\n",
    "        if actor_agent.done():\n",
    "            walker_should_move = True\n",
    "            actor_agent.set_destination(carla.Location(x=-41.5, y=10, z=1))\n",
    "        if walker_should_move:\n",
    "            walker.apply_control(controller_w)\n",
    "        vehicle.apply_control(actor_agent.run_step())\n",
    "        \n",
    "    stop_vehicle(vehicle)\n",
    "    stop_pedestrian(walker)\n",
    "\n",
    "except KeyboardInterrupt:\n",
    "    print(\"simulation stopped\")\n",
    "    stop_vehicle(vehicle)\n",
    "    simulation.stop_simulation()\n",
    "finally:\n",
    "    print(\"done\")\n",
    "    adas.destroy()\n",
    "\n"
   ]
  },
  {
   "cell_type": "markdown",
   "id": "564fa6fa",
   "metadata": {},
   "source": [
    "## Scenario 5: Salita"
   ]
  },
  {
   "cell_type": "code",
   "execution_count": 68,
   "id": "06f7e07d",
   "metadata": {},
   "outputs": [
    {
     "name": "stdout",
     "output_type": "stream",
     "text": [
      "load\n"
     ]
    }
   ],
   "source": [
    "try:\n",
    "    load_map(world, \"Town03\")\n",
    "finally:\n",
    "    print(\"load\")"
   ]
  },
  {
   "cell_type": "code",
   "execution_count": 91,
   "id": "1b081739",
   "metadata": {},
   "outputs": [
    {
     "name": "stdout",
     "output_type": "stream",
     "text": [
      "Waypoint(Transform(Location(x=152.688828, y=-58.084942, z=6.673837), Rotation(pitch=371.125397, yaw=270.996460, roll=0.000000)))\n"
     ]
    }
   ],
   "source": [
    "print(get_waypoint(carla.Location(x=153.095108, y=-58.077873, z=7)))"
   ]
  },
  {
   "cell_type": "code",
   "execution_count": 102,
   "id": "277e7b54",
   "metadata": {},
   "outputs": [
    {
     "name": "stdout",
     "output_type": "stream",
     "text": [
      "Numero di veicoli trovati: 1\n",
      "Veicolo distrutto: 277\n",
      "simulation stopped\n",
      "done\n"
     ]
    }
   ],
   "source": [
    "destroy_all_vehicles(world)\n",
    "simulation = SyncSimulation(world)\n",
    "\n",
    "destination = carla.Location(x=152.688828, y=-58.084942, z=6.673837)\n",
    "\n",
    "vehicle = spawn_vehicle(world, carla.Location(x=178.759857, y=-5.810725, z=1), 1, 180)\n",
    "actor_agent = actor_vehicle(world, vehicle, destination, 40)\n",
    "\n",
    "close_location = carla.Location(x=152.025681, y=-19.958912, z=1)\n",
    "middle_location = carla.Location(x=152.256927, y=-33.253975, z=3)\n",
    "far_location = carla.Location(x=152.688828, y=-58.084942, z=7)\n",
    "\n",
    "obstacle_vehicle = spawn_vehicle(world, far_location, 0, -90) \n",
    "\n",
    "\n",
    "stop_vehicle(obstacle_vehicle)\n",
    "\n",
    "try:\n",
    "    adas = attach_adas(simulation, world, vehicle)\n",
    "    simulation.run_sync_simulation()\n",
    "    run_camera(view_from_above, vehicle, simulation).start()\n",
    "    \n",
    "    while simulation.run:\n",
    "        move_agent(vehicle, actor_agent)\n",
    "        \n",
    "    stop_vehicle(vehicle)\n",
    "\n",
    "except KeyboardInterrupt:\n",
    "    print(\"simulation stopped\")\n",
    "    stop_vehicle(vehicle)\n",
    "    simulation.stop_simulation()\n",
    "finally:\n",
    "    print(\"done\")\n",
    "    adas.destroy()\n"
   ]
  },
  {
   "cell_type": "markdown",
   "id": "3f585c72",
   "metadata": {},
   "source": [
    "## Scenario 6: Salita inversa"
   ]
  },
  {
   "cell_type": "code",
   "execution_count": 97,
   "id": "de64358f",
   "metadata": {},
   "outputs": [
    {
     "name": "stdout",
     "output_type": "stream",
     "text": [
      "load\n"
     ]
    }
   ],
   "source": [
    "try:\n",
    "    load_map(world, \"Town03\")\n",
    "finally:\n",
    "    print(\"load\")"
   ]
  },
  {
   "cell_type": "code",
   "execution_count": 147,
   "id": "f919973a",
   "metadata": {},
   "outputs": [],
   "source": [
    "disable_traffic_lights()"
   ]
  },
  {
   "cell_type": "code",
   "execution_count": 160,
   "id": "3711c870",
   "metadata": {},
   "outputs": [
    {
     "name": "stdout",
     "output_type": "stream",
     "text": [
      "Location(x=149.001038, y=-60.935722, z=7.710964)\n",
      "Rotation(pitch=-38.835350, yaw=87.256798, roll=-0.000031)\n"
     ]
    }
   ],
   "source": [
    "print_spectator_position()"
   ]
  },
  {
   "cell_type": "code",
   "execution_count": 161,
   "id": "423f9c06",
   "metadata": {},
   "outputs": [
    {
     "name": "stdout",
     "output_type": "stream",
     "text": [
      "Waypoint(Transform(Location(x=149.237808, y=-60.931606, z=7.210840), Rotation(pitch=-10.385077, yaw=90.996475, roll=0.000000)))\n"
     ]
    }
   ],
   "source": [
    "print(get_waypoint(carla.Location(x=149.001038, y=-60.935722, z=7.710964)))"
   ]
  },
  {
   "cell_type": "code",
   "execution_count": 178,
   "id": "2f991713",
   "metadata": {},
   "outputs": [
    {
     "name": "stdout",
     "output_type": "stream",
     "text": [
      "Numero di veicoli trovati: 1\n",
      "Veicolo distrutto: 369\n"
     ]
    }
   ],
   "source": [
    "destroy_all_vehicles(world)\n",
    "close_location = carla.Location(x=149.237808, y=-56.931606, z=7)\n",
    "middle_location = carla.Location(x=149.052383, y=-50.271507, z=6)\n",
    "far_location = carla.Location(x=149.052383, y=-20.271507, z=2)\n",
    "\n",
    "obstacle_vehicle = spawn_vehicle(world, far_location, 0, 90)\n",
    "stop_vehicle(obstacle_vehicle)\n"
   ]
  },
  {
   "cell_type": "code",
   "execution_count": 164,
   "id": "b121509f",
   "metadata": {},
   "outputs": [
    {
     "name": "stdout",
     "output_type": "stream",
     "text": [
      "Numero di veicoli trovati: 2\n",
      "Veicolo distrutto: 345\n",
      "Veicolo distrutto: 346\n"
     ]
    }
   ],
   "source": [
    "destroy_all_vehicles(world)\n",
    "vehicle = spawn_vehicle(world, carla.Location(x=149.401398, y=-100.336784, z=9.000000), 1, 90)"
   ]
  },
  {
   "cell_type": "code",
   "execution_count": 179,
   "id": "908b929f",
   "metadata": {},
   "outputs": [
    {
     "name": "stdout",
     "output_type": "stream",
     "text": [
      "Numero di veicoli trovati: 1\n",
      "Veicolo distrutto: 370\n",
      "Send `WARNING` to topic `carla/fcw_state`\n",
      "Send `ACTION` to topic `carla/fcw_state`\n",
      "done\n"
     ]
    }
   ],
   "source": [
    "destroy_all_vehicles(world)\n",
    "simulation = SyncSimulation(world)\n",
    "\n",
    "destination = carla.Location(x=111.904289, y=-6.809386, z=0.119281)\n",
    "\n",
    "\n",
    "vehicle = spawn_vehicle(world, carla.Location(x=149.401398, y=-100.336784, z=9.000000), 1, 90)\n",
    "actor_agent = actor_vehicle(world, vehicle, destination, 40)\n",
    "\n",
    "close_location = carla.Location(x=149.237808, y=-56.931606, z=7)\n",
    "middle_location = carla.Location(x=149.052383, y=-40.271507, z=6)\n",
    "far_location = carla.Location(x=149.052383, y=-20.271507, z=2)\n",
    "\n",
    "obstacle_vehicle = spawn_vehicle(world, far_location, 0, 90) \n",
    "\n",
    "stop_vehicle(obstacle_vehicle)\n",
    "\n",
    "try:\n",
    "    adas = attach_adas(simulation, world, vehicle)\n",
    "    simulation.run_sync_simulation()\n",
    "    run_camera(view_from_above, vehicle, simulation).start()\n",
    "    \n",
    "    while simulation.run:\n",
    "        if actor_agent.done():\n",
    "            simulation.stop_simulation()\n",
    "\n",
    "        move_agent(vehicle, actor_agent)\n",
    "        \n",
    "    stop_vehicle(vehicle)\n",
    "\n",
    "except KeyboardInterrupt:\n",
    "    print(\"simulation stopped\")\n",
    "    stop_vehicle(vehicle)\n",
    "    simulation.stop_simulation()\n",
    "finally:\n",
    "    print(\"done\")\n",
    "    adas.destroy()\n"
   ]
  },
  {
   "cell_type": "markdown",
   "id": "500f417d",
   "metadata": {},
   "source": [
    "## Scenario nuovo: svolta"
   ]
  },
  {
   "cell_type": "code",
   "execution_count": 181,
   "id": "de97bbe2",
   "metadata": {},
   "outputs": [
    {
     "name": "stdout",
     "output_type": "stream",
     "text": [
      "load\n"
     ]
    }
   ],
   "source": [
    "try:\n",
    "    load_map(world, \"Town03\")\n",
    "finally:\n",
    "    print(\"load\")"
   ]
  },
  {
   "cell_type": "code",
   "execution_count": 182,
   "id": "106bda18",
   "metadata": {},
   "outputs": [],
   "source": [
    "disable_traffic_lights()"
   ]
  },
  {
   "cell_type": "code",
   "execution_count": 189,
   "id": "852e0faf",
   "metadata": {},
   "outputs": [
    {
     "name": "stdout",
     "output_type": "stream",
     "text": [
      "Location(x=115.666473, y=-125.411621, z=9.217891)\n",
      "Rotation(pitch=-47.727291, yaw=-3.183167, roll=0.000115)\n"
     ]
    }
   ],
   "source": [
    "print_spectator_position()"
   ]
  },
  {
   "cell_type": "code",
   "execution_count": 190,
   "id": "6a97fe3b",
   "metadata": {},
   "outputs": [
    {
     "name": "stdout",
     "output_type": "stream",
     "text": [
      "Waypoint(Transform(Location(x=115.813835, y=-132.290451, z=8.000000), Rotation(pitch=360.000000, yaw=1.227264, roll=0.000000)))\n"
     ]
    }
   ],
   "source": [
    "print(get_waypoint(carla.Location(x=115.666473, y=-125.411621, z=9.217891)))"
   ]
  },
  {
   "cell_type": "code",
   "execution_count": 192,
   "id": "e744b250",
   "metadata": {},
   "outputs": [
    {
     "name": "stdout",
     "output_type": "stream",
     "text": [
      "Numero di veicoli trovati: 1\n",
      "Veicolo distrutto: 376\n"
     ]
    }
   ],
   "source": [
    "destroy_all_vehicles(world)\n",
    "\n",
    "far_location = carla.Location(x=115.813835, y=-132.290451, z=9.000000)\n",
    "\n",
    "obstacle_vehicle = spawn_vehicle(world, far_location, 0, 0)\n",
    "stop_vehicle(obstacle_vehicle)\n"
   ]
  },
  {
   "cell_type": "code",
   "execution_count": 194,
   "id": "ca7a6b7c",
   "metadata": {},
   "outputs": [],
   "source": [
    "for waypoint in world.get_map().generate_waypoints(2.0):\n",
    "    world.debug.draw_point(\n",
    "        waypoint.transform.location,\n",
    "        size=0.1,\n",
    "        color=carla.Color(255, 0, 0),  # Colore rosso\n",
    "        life_time=10.0  # Persistenza di 10 secondi\n",
    "    )"
   ]
  }
 ],
 "metadata": {
  "kernelspec": {
   "display_name": "Python 3 (ipykernel)",
   "language": "python",
   "name": "python3"
  },
  "language_info": {
   "codemirror_mode": {
    "name": "ipython",
    "version": 3
   },
   "file_extension": ".py",
   "mimetype": "text/x-python",
   "name": "python",
   "nbconvert_exporter": "python",
   "pygments_lexer": "ipython3",
   "version": "3.7.16"
  }
 },
 "nbformat": 4,
 "nbformat_minor": 5
}
