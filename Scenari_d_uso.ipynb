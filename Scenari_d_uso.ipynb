{
 "cells": [
  {
   "cell_type": "markdown",
   "id": "6501f2aa",
   "metadata": {},
   "source": [
    "# SCENARI D'USO"
   ]
  },
  {
   "cell_type": "code",
   "execution_count": 1,
   "id": "ebb8d4b4",
   "metadata": {},
   "outputs": [],
   "source": [
    "import carla, time, sys, threading, math, random, paho.mqtt.client as mqtt\n",
    "from agents.navigation.basic_agent import BasicAgent\n",
    "from enum import Enum\n",
    "from Adas import Forward_collision_warning_mqtt"
   ]
  },
  {
   "cell_type": "code",
   "execution_count": 2,
   "id": "a5501fd7",
   "metadata": {},
   "outputs": [],
   "source": [
    "client = carla.Client('localhost', 2000)\n",
    "client.set_timeout(10.0)\n",
    "world = client.get_world()"
   ]
  },
  {
   "cell_type": "markdown",
   "id": "59d4ac90",
   "metadata": {},
   "source": [
    "# FUNZIONI DI SUPPORTO"
   ]
  },
  {
   "cell_type": "markdown",
   "id": "afaa86ab",
   "metadata": {},
   "source": [
    "## Gestione simulazione"
   ]
  },
  {
   "cell_type": "code",
   "execution_count": 3,
   "id": "5466d4fa",
   "metadata": {},
   "outputs": [],
   "source": [
    "# Simulazione sensore umidità dell'asflato\n",
    "def get_asphalt_friction_coefficient():\n",
    "    world = client.get_world()\n",
    "    weather = world.get_weather()\n",
    "    weather.precipitation_deposits\n",
    "    weather.wetness\n",
    "    return 1"
   ]
  },
  {
   "cell_type": "code",
   "execution_count": 4,
   "id": "5c83ef85",
   "metadata": {},
   "outputs": [],
   "source": [
    "def stop_simulation():\n",
    "    global run\n",
    "    run = False\n",
    "    print(\"stop\")"
   ]
  },
  {
   "cell_type": "code",
   "execution_count": 5,
   "id": "96d1d149",
   "metadata": {},
   "outputs": [],
   "source": [
    "def set_synchronous_mode(synchronous_mode):\n",
    "    settings = world.get_settings()\n",
    "    settings.synchronous_mode = synchronous_mode\n",
    "    world.apply_settings(settings)\n",
    "    world.tick()"
   ]
  },
  {
   "cell_type": "code",
   "execution_count": 6,
   "id": "5052e2e6",
   "metadata": {},
   "outputs": [],
   "source": [
    "def simulation_loop():\n",
    "    print(\"run\")\n",
    "    set_synchronous_mode(True)\n",
    "    while run:\n",
    "        time.sleep(0.05)\n",
    "        world.tick()\n",
    "    print(\"stop\")\n",
    "    set_synchronous_mode(False)\n"
   ]
  },
  {
   "cell_type": "code",
   "execution_count": 7,
   "id": "556f1dfc",
   "metadata": {},
   "outputs": [],
   "source": [
    "def run_sync_simulation():\n",
    "    threading.Thread(target=simulation_loop).start()"
   ]
  },
  {
   "cell_type": "markdown",
   "id": "367fd6ed",
   "metadata": {},
   "source": [
    "## ADAS"
   ]
  },
  {
   "cell_type": "code",
   "execution_count": 8,
   "id": "4f481fca",
   "metadata": {},
   "outputs": [],
   "source": [
    "def attach_adas(world, vehicle, min_ttc = 0.5):\n",
    "    adas = Forward_collision_warning_mqtt(\n",
    "        world = world,\n",
    "        attached_vehicle = vehicle,\n",
    "        min_ttc=min_ttc,\n",
    "        get_asphalt_friction_coefficient = lambda : get_asphalt_friction_coefficient(),\n",
    "        action_listener = lambda : stop_simulation()\n",
    "    )\n",
    "    return adas"
   ]
  },
  {
   "cell_type": "markdown",
   "id": "8c10f746",
   "metadata": {},
   "source": [
    "## Gestione world"
   ]
  },
  {
   "cell_type": "code",
   "execution_count": 9,
   "id": "915899e7",
   "metadata": {},
   "outputs": [],
   "source": [
    "def load_map(world, map_name):\n",
    "    if not world.get_map().name == f\"Carla/Maps/{map_name}\":\n",
    "        world = client.load_world(map_name)"
   ]
  },
  {
   "cell_type": "code",
   "execution_count": 10,
   "id": "d2387e65",
   "metadata": {},
   "outputs": [],
   "source": [
    "def destroy_all_vehicles(world):\n",
    "    all_actors = world.get_actors()\n",
    "    \n",
    "    vehicles = all_actors.filter('vehicle.*')\n",
    "    \n",
    "    print(f\"Numero di veicoli trovati: {len(vehicles)}\")\n",
    "    \n",
    "    for vehicle in vehicles:\n",
    "        vehicle.destroy()\n",
    "        print(f\"Veicolo distrutto: {vehicle.id}\")"
   ]
  },
  {
   "cell_type": "code",
   "execution_count": 11,
   "id": "8628d42e",
   "metadata": {},
   "outputs": [],
   "source": [
    "def destroy_all_pedestrians(world):\n",
    "    all_actors = world.get_actors()\n",
    "    \n",
    "    pedestrians = all_actors.filter('walker.pedestrian.*')\n",
    "    \n",
    "    print(f\"Numero di pedoni trovati: {len(pedestrians)}\")\n",
    "    \n",
    "    for pedestrian in pedestrians:\n",
    "        pedestrian.destroy()\n",
    "        print(f\"Pedone distrutto: {pedestrian.id}\")"
   ]
  },
  {
   "cell_type": "code",
   "execution_count": 12,
   "id": "3e46157b",
   "metadata": {},
   "outputs": [],
   "source": [
    "def disable_traffic_lights():\n",
    "    traffic_lights = world.get_actors().filter('traffic.traffic_light')\n",
    "    for traffic_light in traffic_lights:\n",
    "        traffic_light.set_state(carla.TrafficLightState.Green)  # Imposta su verde\n",
    "        traffic_light.set_green_time(99999)  # Mantiene il verde per un tempo molto lungo\n",
    "        traffic_light.freeze(True)  # Disabilita la logica automatica"
   ]
  },
  {
   "cell_type": "code",
   "execution_count": 13,
   "id": "f5d1dd09",
   "metadata": {},
   "outputs": [],
   "source": [
    "def enable_traffic_lights():\n",
    "\n",
    "    traffic_lights = world.get_actors().filter('traffic.traffic_light')\n",
    "    for traffic_light in traffic_lights:\n",
    "        traffic_light.freeze(False)  # Riattiva il controllo automatico\n",
    "        traffic_light.reset_group()  # Resetta lo stato e il ciclo del semaforo\n",
    "        print(f\"Semaforo {traffic_light.id} ripristinato al comportamento predefinito.\")"
   ]
  },
  {
   "cell_type": "markdown",
   "id": "f7e72756",
   "metadata": {},
   "source": [
    "## Creazione entità"
   ]
  },
  {
   "cell_type": "code",
   "execution_count": 14,
   "id": "87ffec85",
   "metadata": {},
   "outputs": [],
   "source": [
    "def spawn_vehicle(world, location, index, y = 0):\n",
    "    blueprint_library = world.get_blueprint_library()\n",
    "    vehicle_bp = blueprint_library.filter('vehicle.*')[index]\n",
    "\n",
    "    print(vehicle_bp)\n",
    "    spawn_point = carla.Transform()\n",
    "    spawn_point.location = location\n",
    "    spawn_point.rotation = carla.Rotation(yaw = y)\n",
    "    vehicle = world.try_spawn_actor(vehicle_bp, spawn_point)\n",
    "    return vehicle"
   ]
  },
  {
   "cell_type": "code",
   "execution_count": 15,
   "id": "af993f7c",
   "metadata": {},
   "outputs": [],
   "source": [
    "def actor_vehicle(world, vehicle, desitination, speed = 60):\n",
    "    world.wait_for_tick()\n",
    "    actor_agent = BasicAgent(vehicle)\n",
    "    actor_agent.set_destination(desitination)\n",
    "    actor_agent.set_target_speed(speed)\n",
    "    actor_agent.ignore_vehicles()\n",
    "    world.wait_for_tick()\n",
    "    return actor_agent"
   ]
  },
  {
   "cell_type": "code",
   "execution_count": 16,
   "id": "592ad9e6",
   "metadata": {},
   "outputs": [],
   "source": [
    "def spawn_walker(start_location, yaw = 0):\n",
    "    walker_bp = random.choice(world.get_blueprint_library().filter(\"walker.pedestrian.*\"))\n",
    "    walker_bp.set_attribute('is_invincible', 'false')\n",
    "\n",
    "    trans = carla.Transform()\n",
    "    trans.location = start_location\n",
    "    trans.rotation = carla.Rotation(yaw = yaw)\n",
    "\n",
    "    return world.spawn_actor(walker_bp, trans)"
   ]
  },
  {
   "cell_type": "markdown",
   "id": "3719d1df",
   "metadata": {},
   "source": [
    "## Gestione movimenti"
   ]
  },
  {
   "cell_type": "code",
   "execution_count": 17,
   "id": "23f952dd",
   "metadata": {},
   "outputs": [],
   "source": [
    "def move_forward(vehicle, throttle):\n",
    "    control = carla.VehicleControl()\n",
    "    control.throttle = throttle\n",
    "    vehicle.apply_control(control)"
   ]
  },
  {
   "cell_type": "code",
   "execution_count": 18,
   "id": "8b44dc0d",
   "metadata": {},
   "outputs": [],
   "source": [
    "def move_agent(vehicle, actor_agent):\n",
    "    vehicle.apply_control(actor_agent.run_step())"
   ]
  },
  {
   "cell_type": "code",
   "execution_count": 19,
   "id": "07024ff9",
   "metadata": {},
   "outputs": [],
   "source": [
    "def move_forward_agent(vehicle, actor_agent,x,y):\n",
    "    forward_location = vehicle.get_location() + carla.Location(x=x, y=y, z=0)  # Adjust 'x', 'y' based on vehicle's orientation\n",
    "    actor_agent.set_destination(forward_location)\n",
    "    vehicle.apply_control(actor_agent.run_step())"
   ]
  },
  {
   "cell_type": "code",
   "execution_count": 20,
   "id": "65db0028",
   "metadata": {},
   "outputs": [],
   "source": [
    "def stop_vehicle(vehicle):\n",
    "    control = carla.VehicleControl()\n",
    "    control.throttle = 0.0\n",
    "    control.brake = 1.0\n",
    "    control.hand_brake = True\n",
    "    vehicle.apply_control(control)"
   ]
  },
  {
   "cell_type": "code",
   "execution_count": 21,
   "id": "c3d44491",
   "metadata": {},
   "outputs": [],
   "source": [
    "def move_pedestrian(x=1,y =0,z = 0):\n",
    "    walker_control = carla.WalkerControl()\n",
    "    walker_control.speed = 1.5  # Velocità in m/s (positivo in avanti)\n",
    "    walker_control.direction = carla.Vector3D(x, y, z)\n",
    "    return walker_control"
   ]
  },
  {
   "cell_type": "code",
   "execution_count": 22,
   "id": "fbc0df10",
   "metadata": {},
   "outputs": [],
   "source": [
    "def get_vehicle_velocity(vehicle):\n",
    "    velocity_vector = vehicle.get_velocity()\n",
    "    velocity = (velocity_vector.x**2 + velocity_vector.y**2 + velocity_vector.z**2)**0.5\n",
    "    if vehicle.get_control().reverse:\n",
    "        velocity = -velocity\n",
    "    return velocity"
   ]
  },
  {
   "cell_type": "markdown",
   "id": "46a51172",
   "metadata": {},
   "source": [
    "## Camera"
   ]
  },
  {
   "cell_type": "code",
   "execution_count": 23,
   "id": "b57d8079",
   "metadata": {},
   "outputs": [],
   "source": [
    "def print_spectator_position():\n",
    "    location = world.get_spectator().get_transform().location\n",
    "    rotation = world.get_spectator().get_transform().rotation\n",
    "    msg = f\"Il veicolo è stato posizionato in: x={location.x}, y={location.y}, z={location.z}\"\n",
    "    print(msg)\n",
    "    print(location)\n",
    "    print(rotation)"
   ]
  },
  {
   "cell_type": "code",
   "execution_count": 24,
   "id": "4bbec7e0",
   "metadata": {},
   "outputs": [],
   "source": [
    "def set_spectator_location(location, rotation):\n",
    "    spectator = world.get_spectator()\n",
    "    spectator.set_transform(carla.Transform(location, rotation))"
   ]
  },
  {
   "cell_type": "code",
   "execution_count": 25,
   "id": "15d4fccd",
   "metadata": {},
   "outputs": [],
   "source": [
    "def run_camera(camera, vehicle):\n",
    "    return threading.Thread(target=camera, args=(vehicle,))"
   ]
  },
  {
   "cell_type": "code",
   "execution_count": 26,
   "id": "1514cc00",
   "metadata": {},
   "outputs": [],
   "source": [
    "def view_from_above(vehicle):\n",
    "    while run:\n",
    "        distance_above = 50.0  # Altezza della telecamera sopra il veicolo\n",
    "        spectator = world.get_spectator()\n",
    "        \n",
    "        vehicle_location = vehicle.get_location()\n",
    "        \n",
    "        \n",
    "        spectator_location = carla.Location(\n",
    "                x=vehicle_location.x,  # Stessa posizione X del veicolo\n",
    "                y=vehicle_location.y,  # Stessa posizione Y del veicolo\n",
    "                z=vehicle_location.z + distance_above  # Posizionata più in alto rispetto al veicolo\n",
    "            )\n",
    "\n",
    "        spectator_rotation = carla.Rotation(\n",
    "            pitch=-90.0,  # Guardare direttamente verso il basso\n",
    "            yaw=0,  # Allineato con la rotazione del veicolo\n",
    "            roll=0.0\n",
    "        )\n",
    "        \n",
    "        spectator.set_transform(carla.Transform(spectator_location, spectator_rotation))\n",
    "    "
   ]
  },
  {
   "cell_type": "code",
   "execution_count": 27,
   "id": "efff4c76",
   "metadata": {},
   "outputs": [],
   "source": [
    "def view_from_behind(vehicle):\n",
    "    while run:\n",
    "        distance_behind = 14.0  # How far behind the car the spectator will be\n",
    "        height = 5.0  # Height of the camera (how high above the car it will be)\n",
    "        distance_to_the_side = 0\n",
    "        \n",
    "        spectator = world.get_spectator()\n",
    "        \n",
    "        vehicle_location = vehicle.get_location()\n",
    "        vehicle_rotation = vehicle.get_transform().rotation\n",
    "        \n",
    "        spectator_location = carla.Location(\n",
    "                x=vehicle_location.x - distance_behind * vehicle_rotation.get_forward_vector().x + distance_to_the_side * vehicle_rotation.get_right_vector().x,\n",
    "                y=vehicle_location.y - distance_behind * vehicle_rotation.get_forward_vector().y + distance_to_the_side * vehicle_rotation.get_right_vector().y,\n",
    "                z=vehicle_location.z + height  # Keeping the camera above the vehicle\n",
    "            )\n",
    "\n",
    "            # Set the spectator's transform to follow the vehicle\n",
    "    \n",
    "        spectator.set_transform(carla.Transform(spectator_location, vehicle_rotation))\n",
    "    "
   ]
  },
  {
   "cell_type": "markdown",
   "id": "70557f3a",
   "metadata": {},
   "source": [
    "# Scenari"
   ]
  },
  {
   "cell_type": "markdown",
   "id": "480c1fb9",
   "metadata": {},
   "source": [
    "## Scenario 0: Viaggio senza ostacoli\n",
    "\n",
    "\n",
    "Verificare che in condiziondi normali il veicolo viaggi tranquillamente"
   ]
  },
  {
   "cell_type": "markdown",
   "id": "84809691",
   "metadata": {},
   "source": [
    "### SETUP"
   ]
  },
  {
   "cell_type": "code",
   "execution_count": 28,
   "id": "5199e816",
   "metadata": {},
   "outputs": [],
   "source": [
    "load_map(world, \"Town10HD_Opt\")"
   ]
  },
  {
   "cell_type": "code",
   "execution_count": 29,
   "id": "4fb697fd",
   "metadata": {},
   "outputs": [],
   "source": [
    "disable_traffic_lights()"
   ]
  },
  {
   "cell_type": "code",
   "execution_count": 30,
   "id": "7a857ef5",
   "metadata": {},
   "outputs": [],
   "source": [
    "# percorso da seguire\n",
    "wps = [\n",
    "    carla.Location(x=-41.5, y=117, z=1),\n",
    "    carla.Location(x=-41.5, y=45, z=1),\n",
    "    carla.Location(x=30, y=28.3, z=1)\n",
    "]"
   ]
  },
  {
   "cell_type": "markdown",
   "id": "5b707b83",
   "metadata": {},
   "source": [
    "### run"
   ]
  },
  {
   "cell_type": "code",
   "execution_count": 31,
   "id": "9fb06fbf",
   "metadata": {},
   "outputs": [
    {
     "name": "stdout",
     "output_type": "stream",
     "text": [
      "Numero di veicoli trovati: 0\n",
      "ActorBlueprint(id=vehicle.audi.a2,tags=[vehicle, audi, a2])\n",
      "run\n",
      "The target has been reached, searching for another target\n",
      "Send `WARNING` to topic `carla/fcw_state`\n",
      "The target has been reached, searching for another target\n",
      "The target has been reached, searching for another target\n",
      "The target has been reached, searching for another target\n",
      "The target has been reached, searching for another target\n",
      "simulation stopped\n",
      "done\n",
      "stop\n"
     ]
    }
   ],
   "source": [
    "destroy_all_vehicles(world)\n",
    "\n",
    "vehicle = spawn_vehicle(world, wps[0], 0, -90)\n",
    "world.wait_for_tick() # necessario per creare l'agente\n",
    "\n",
    "actor_agent = actor_vehicle(world, vehicle, wps[1], 50)\n",
    "\n",
    "wp = 1\n",
    "\n",
    "\n",
    "try:\n",
    "    run = True\n",
    "\n",
    "    run_sync_simulation()\n",
    "    \n",
    "    adas = attach_adas(world, vehicle, 0.3)\n",
    "    run_camera(view_from_behind, vehicle).start()\n",
    "    \n",
    "    while run:\n",
    "        if actor_agent.done():\n",
    "            print(\"The target has been reached, searching for another target\")\n",
    "            wp = (wp +1) % len(wps)\n",
    "            actor_agent.set_destination(wps[wp])\n",
    "            \n",
    "        vehicle.apply_control(actor_agent.run_step())\n",
    "        \n",
    "    stop_vehicle(vehicle)\n",
    "    \n",
    "    time.sleep(2)\n",
    "except KeyboardInterrupt:\n",
    "    print(\"simulation stopped\")\n",
    "    stop_vehicle(vehicle)\n",
    "    run = False\n",
    "finally:\n",
    "    print(\"done\")\n",
    "    adas.destroy()\n"
   ]
  },
  {
   "cell_type": "markdown",
   "id": "9a5b3fe1",
   "metadata": {},
   "source": [
    "## Scenario 1: Veicolo fermo o parcheggiato sulla carreggiata\n",
    "\n",
    "\n",
    "Presenza di un veicolo parcheggiato direttamente davanti lungo la corsia di marcia."
   ]
  },
  {
   "cell_type": "code",
   "execution_count": 32,
   "id": "31c166dc",
   "metadata": {},
   "outputs": [],
   "source": [
    "load_map(world, \"Town10HD_Opt\")"
   ]
  },
  {
   "cell_type": "code",
   "execution_count": 33,
   "id": "b8bf87e5",
   "metadata": {},
   "outputs": [],
   "source": [
    "disable_traffic_lights()"
   ]
  },
  {
   "cell_type": "code",
   "execution_count": 72,
   "id": "f25aa104",
   "metadata": {},
   "outputs": [
    {
     "name": "stdout",
     "output_type": "stream",
     "text": [
      "Numero di veicoli trovati: 2\n",
      "Veicolo distrutto: 134\n",
      "Veicolo distrutto: 135\n",
      "ActorBlueprint(id=vehicle.audi.tt,tags=[vehicle, audi, tt])\n",
      "ActorBlueprint(id=vehicle.nissan.micra,tags=[vehicle, nissan, micra])\n",
      "run\n",
      "Send `WARNING` to topic `carla/fcw_state`\n",
      "Send `ACTION` to topic `carla/fcw_state`\n",
      "stop\n",
      "stop\n",
      "done\n"
     ]
    }
   ],
   "source": [
    "destroy_all_vehicles(world)\n",
    "\n",
    "vehicle = spawn_vehicle(world, carla.Location(x=-41.5, y=117, z=1), 2, -90)\n",
    "destination = carla.Location(x=-41.5, y=45, z=1)\n",
    "actor_agent = actor_vehicle(world, vehicle, destination, 120)\n",
    "# osbstacle_vehicle = spawn_vehicle(world, carla.Location(x=-41.5, y=100, z=1), 1, -90)\n",
    "# osbstacle_vehicle = spawn_vehicle(world, carla.Location(x=-41.5, y=70, z=1), 1, -90)\n",
    "osbstacle_vehicle = spawn_vehicle(world, destination, 1, -90)\n",
    "\n",
    "try:\n",
    "    run = True\n",
    "    \n",
    "    run_sync_simulation()\n",
    "    adas = attach_adas(world, vehicle, 0.1)\n",
    "\n",
    "    run_camera(view_from_above, vehicle).start()\n",
    "\n",
    "    while run:\n",
    "        vehicle.apply_control(actor_agent.run_step())\n",
    "        move_forward(vehicle, 0.7)\n",
    "    stop_vehicle(vehicle)\n",
    "    \n",
    "    time.sleep(2)\n",
    "except KeyboardInterrupt:\n",
    "    print(\"simulation stopped\")\n",
    "    stop_vehicle(vehicle)\n",
    "    run = False\n",
    "\n",
    "finally:\n",
    "    print(\"done\")\n",
    "    adas.destroy()\n",
    "\n"
   ]
  },
  {
   "cell_type": "markdown",
   "id": "4d5aaafa",
   "metadata": {},
   "source": [
    "## Senario 2: Veicolo davanti in movimento con una velocità maggiore"
   ]
  },
  {
   "cell_type": "code",
   "execution_count": null,
   "id": "2f7fe024",
   "metadata": {},
   "outputs": [],
   "source": [
    "load_map(world, \"Town10HD_Opt\")"
   ]
  },
  {
   "cell_type": "code",
   "execution_count": null,
   "id": "871a0319",
   "metadata": {},
   "outputs": [],
   "source": [
    "disable_traffic_lights()"
   ]
  },
  {
   "cell_type": "code",
   "execution_count": 44,
   "id": "dff19a10",
   "metadata": {},
   "outputs": [],
   "source": [
    "# percorso da seguire\n",
    "wps = [\n",
    "    carla.Location(x=-41.5, y=117, z=1),\n",
    "    carla.Location(x=-41.5, y=45, z=1),\n",
    "    carla.Location(x=30, y=28.3, z=1)\n",
    "]"
   ]
  },
  {
   "cell_type": "code",
   "execution_count": 45,
   "id": "3a44d5e9",
   "metadata": {},
   "outputs": [
    {
     "name": "stdout",
     "output_type": "stream",
     "text": [
      "Numero di veicoli trovati: 3\n",
      "Veicolo distrutto: 62\n",
      "Veicolo distrutto: 61\n",
      "Veicolo distrutto: 60\n"
     ]
    }
   ],
   "source": [
    "destroy_all_vehicles(world)"
   ]
  },
  {
   "cell_type": "code",
   "execution_count": 46,
   "id": "6ef624ee",
   "metadata": {},
   "outputs": [
    {
     "name": "stdout",
     "output_type": "stream",
     "text": [
      "Numero di veicoli trovati: 0\n",
      "ActorBlueprint(id=vehicle.nissan.micra,tags=[vehicle, nissan, micra])\n",
      "ActorBlueprint(id=vehicle.nissan.micra,tags=[vehicle, nissan, micra])\n",
      "run\n",
      "Send `WARNING` to topic `carla/fcw_state`\n",
      "simulation stopped\n",
      "done\n",
      "stop\n"
     ]
    }
   ],
   "source": [
    "destroy_all_vehicles(world)\n",
    "\n",
    "vehicle = spawn_vehicle(world, wps[0], 1, -90)\n",
    "obstacle_vehicle = spawn_vehicle(world, carla.Location(x=-41.5, y=100, z=1), 1, -90)\n",
    "\n",
    "actor_agent = actor_vehicle(world, vehicle, destination, 50)\n",
    "obstacle_actor_agent = actor_vehicle(world, obstacle_vehicle, destination, 60)\n",
    "\n",
    "destination = carla.Location(x=-41.5, y=45, z=1)\n",
    "\n",
    "wp_a = 1\n",
    "wp_b = 1\n",
    "\n",
    "try:\n",
    "    run = True\n",
    "    adas = attach_adas(world, vehicle, 0.4)\n",
    "    run_sync_simulation()    \n",
    "    run_camera(view_from_above, vehicle).start()\n",
    "    while run:\n",
    "        if actor_agent.done():\n",
    "            wp_a = (wp_a +1) % len(wps)\n",
    "            actor_agent.set_destination(wps[wp_a])\n",
    "        if obstacle_actor_agent.done():\n",
    "            wp_b = (wp_b +1) % len(wps)\n",
    "            obstacle_actor_agent.set_destination(wps[wp_b])\n",
    "\n",
    "        vehicle.apply_control(actor_agent.run_step())\n",
    "        obstacle_vehicle.apply_control(obstacle_actor_agent.run_step())\n",
    "    \n",
    "except KeyboardInterrupt:\n",
    "    print(\"simulation stopped\")\n",
    "    stop_vehicle(vehicle)\n",
    "    run = False\n",
    "finally:\n",
    "    print(\"done\")\n",
    "    adas.destroy()\n"
   ]
  },
  {
   "cell_type": "markdown",
   "id": "a7579eb0",
   "metadata": {},
   "source": [
    "## Senario 3: Veicolo davanti in movimento con una velocità minore"
   ]
  },
  {
   "cell_type": "code",
   "execution_count": null,
   "id": "26e274c1",
   "metadata": {},
   "outputs": [],
   "source": [
    "load_map(world, \"Town10HD_Opt\")"
   ]
  },
  {
   "cell_type": "code",
   "execution_count": null,
   "id": "4e59e6e0",
   "metadata": {},
   "outputs": [],
   "source": [
    "disable_traffic_lights()"
   ]
  },
  {
   "cell_type": "code",
   "execution_count": 47,
   "id": "0ee6714c",
   "metadata": {},
   "outputs": [],
   "source": [
    "# percorso da seguire\n",
    "wps = [\n",
    "    carla.Location(x=-41.5, y=117, z=1),\n",
    "    carla.Location(x=-41.5, y=45, z=1),\n",
    "    carla.Location(x=30, y=28.3, z=1)\n",
    "]"
   ]
  },
  {
   "cell_type": "code",
   "execution_count": 51,
   "id": "134b0f75",
   "metadata": {},
   "outputs": [
    {
     "name": "stdout",
     "output_type": "stream",
     "text": [
      "Numero di veicoli trovati: 2\n",
      "Veicolo distrutto: 73\n",
      "Veicolo distrutto: 74\n",
      "ActorBlueprint(id=vehicle.nissan.micra,tags=[vehicle, nissan, micra])\n",
      "ActorBlueprint(id=vehicle.nissan.micra,tags=[vehicle, nissan, micra])\n",
      "run\n",
      "Send `WARNING` to topic `carla/fcw_state`\n",
      "Send `ACTION` to topic `carla/fcw_state`\n",
      "stop\n",
      "done\n",
      "stop\n"
     ]
    }
   ],
   "source": [
    "destroy_all_vehicles(world)\n",
    "\n",
    "vehicle = spawn_vehicle(world, wps[0], 1, -90)\n",
    "obstacle_vehicle = spawn_vehicle(world, carla.Location(x=-41.5, y=100, z=1), 1, -90)\n",
    "\n",
    "actor_agent = actor_vehicle(world, vehicle, destination, 60)\n",
    "obstacle_actor_agent = actor_vehicle(world, obstacle_vehicle, destination, 30)\n",
    "\n",
    "destination = carla.Location(x=-41.5, y=45, z=1)\n",
    "\n",
    "wp_a = 1\n",
    "wp_b = 1\n",
    "\n",
    "try:\n",
    "    run = True\n",
    "    adas = attach_adas(world, vehicle, 0.4)\n",
    "    run_sync_simulation()\n",
    "    run_camera(view_from_above, vehicle).start()\n",
    "\n",
    "    while run:\n",
    "        if actor_agent.done():\n",
    "            wp_a = (wp_a +1) % len(wps)\n",
    "            actor_agent.set_destination(wps[wp_a])\n",
    "        if obstacle_actor_agent.done():\n",
    "            wp_b = (wp_b +1) % len(wps)\n",
    "            obstacle_actor_agent.set_destination(wps[wp_b])\n",
    "\n",
    "        vehicle.apply_control(actor_agent.run_step())\n",
    "        obstacle_vehicle.apply_control(obstacle_actor_agent.run_step())\n",
    "\n",
    "    stop_vehicle(vehicle)\n",
    "    stop_vehicle(obstacle_vehicle)\n",
    "    \n",
    "except KeyboardInterrupt:\n",
    "    print(\"simulation stopped\")\n",
    "    stop_vehicle(vehicle)\n",
    "    run = False\n",
    "finally:\n",
    "    print(\"done\")\n",
    "    adas.destroy()\n"
   ]
  },
  {
   "cell_type": "markdown",
   "id": "e4a04d50",
   "metadata": {},
   "source": [
    "## Scenario 4 : Pedone che attraversa le strisce pedonali\n",
    "\n",
    "\n",
    "Presenza di un pedone che attraversa le strisce pedonali mentre il veicolo di riferimento è a pochi metri da esse"
   ]
  },
  {
   "cell_type": "markdown",
   "id": "c6ca82fd",
   "metadata": {},
   "source": [
    "### SETUP"
   ]
  },
  {
   "cell_type": "code",
   "execution_count": null,
   "id": "7fcb8b87",
   "metadata": {},
   "outputs": [],
   "source": [
    "load_map(world, \"Town10HD_Opt\")"
   ]
  },
  {
   "cell_type": "code",
   "execution_count": 28,
   "id": "38a4b8bc",
   "metadata": {},
   "outputs": [],
   "source": [
    "disable_traffic_lights()"
   ]
  },
  {
   "cell_type": "markdown",
   "id": "45bcb326",
   "metadata": {},
   "source": [
    "### SIMULAZIONE SEMPLICE"
   ]
  },
  {
   "cell_type": "code",
   "execution_count": 31,
   "id": "bea915da",
   "metadata": {},
   "outputs": [
    {
     "name": "stdout",
     "output_type": "stream",
     "text": [
      "Numero di veicoli trovati: 0\n",
      "Numero di pedoni trovati: 1\n",
      "Pedone distrutto: 271\n",
      "ActorBlueprint(id=vehicle.nissan.micra,tags=[vehicle, nissan, micra])\n",
      "run\n",
      "Send `WARNING` to topic `carla/fcw_state`\n",
      "Send `ACTION` to topic `carla/fcw_state`\n",
      "stop\n",
      "done\n",
      "stop\n"
     ]
    }
   ],
   "source": [
    "destroy_all_vehicles(world)\n",
    "destroy_all_pedestrians(world)\n",
    "\n",
    "vehicle = spawn_vehicle(world, carla.Location(x=-41.5, y=80, z=1), 1, -90)\n",
    "world.wait_for_tick()\n",
    "\n",
    "walker = spawn_walker(carla.Location(x=-41.5, y=37, z=1))\n",
    "destination = carla.Location(x=-41.5, y=10, z=1)\n",
    "\n",
    "actor_agent = actor_vehicle(world, vehicle, destination, 120)\n",
    "\n",
    "try:\n",
    "    run = True\n",
    "    \n",
    "    adas = attach_adas(world, vehicle, 0.4)\n",
    "    run_sync_simulation()\n",
    "    \n",
    "    run_camera(view_from_behind, vehicle).start()\n",
    "\n",
    "    while run:\n",
    "        vehicle.apply_control(actor_agent.run_step())\n",
    "            \n",
    "    stop_vehicle(vehicle)\n",
    "    \n",
    "except KeyboardInterrupt:\n",
    "    print(\"simulation stopped\")\n",
    "    stop_vehicle(vehicle)\n",
    "    run = False\n",
    "finally:\n",
    "    print(\"done\")\n",
    "    adas.destroy()\n",
    "\n"
   ]
  },
  {
   "cell_type": "markdown",
   "id": "dda79a31",
   "metadata": {},
   "source": [
    "### Pedone in movimento"
   ]
  },
  {
   "cell_type": "code",
   "execution_count": null,
   "id": "489b4edd",
   "metadata": {},
   "outputs": [],
   "source": []
  },
  {
   "cell_type": "code",
   "execution_count": null,
   "id": "80de752d",
   "metadata": {},
   "outputs": [],
   "source": [
    "destroy_all_pedestrians(world)\n",
    "walker = spawn_walker(carla.Location(x=-35, y=36.6, z=1), 180)"
   ]
  },
  {
   "cell_type": "code",
   "execution_count": 36,
   "id": "0795fe54",
   "metadata": {},
   "outputs": [
    {
     "name": "stdout",
     "output_type": "stream",
     "text": [
      "Numero di veicoli trovati: 1\n",
      "Veicolo distrutto: 285\n",
      "Numero di pedoni trovati: 1\n",
      "Pedone distrutto: 286\n",
      "ActorBlueprint(id=vehicle.nissan.micra,tags=[vehicle, nissan, micra])\n",
      "run\n",
      "Send `WARNING` to topic `carla/fcw_state`\n",
      "Send `ACTION` to topic `carla/fcw_state`\n",
      "stop\n",
      "done\n"
     ]
    },
    {
     "name": "stdout",
     "output_type": "stream",
     "text": [
      "stop\n"
     ]
    }
   ],
   "source": [
    "destroy_all_vehicles(world)\n",
    "destroy_all_pedestrians(world)\n",
    "\n",
    "vehicle = spawn_vehicle(world, carla.Location(x=-41.5, y=80, z=1), 1, -90)\n",
    "world.wait_for_tick()\n",
    "\n",
    "# walker = spawn_walker(carla.Location(x=-51, y=36.6, z=1))\n",
    "walker = spawn_walker(carla.Location(x=-35, y=36.6, z=1), 180)\n",
    "controller_w = move_pedestrian(-1,0,0)\n",
    "\n",
    "destination = carla.Location(x=-41.5, y=72, z=1)\n",
    "\n",
    "actor_agent = actor_vehicle(world, vehicle, destination, 35)\n",
    "\n",
    "move = False\n",
    "\n",
    "try:\n",
    "    run = True\n",
    "    \n",
    "    adas = attach_adas(world, vehicle, 0.4)\n",
    "    run_sync_simulation()\n",
    "    run_camera(view_from_behind, vehicle).start()\n",
    "\n",
    "    while run:\n",
    "        if actor_agent.done():\n",
    "            move = True\n",
    "            actor_agent.set_destination(carla.Location(x=-41.5, y=10, z=1))\n",
    "        if move:\n",
    "            walker.apply_control(controller_w)\n",
    "        vehicle.apply_control(actor_agent.run_step())\n",
    "        \n",
    "    stop_vehicle(vehicle)\n",
    "#     vehicle.destroy()\n",
    "\n",
    "except KeyboardInterrupt:\n",
    "    print(\"simulation stopped\")\n",
    "    stop_vehicle(vehicle)\n",
    "    run = False\n",
    "finally:\n",
    "    print(\"done\")\n",
    "    adas.destroy()\n",
    "\n"
   ]
  },
  {
   "cell_type": "code",
   "execution_count": null,
   "id": "c71610c1",
   "metadata": {},
   "outputs": [],
   "source": [
    "destroy_all_pedestrians(world)\n",
    "walker = spawn_walker(carla.Location(x=-44, y=36.6, z=1))"
   ]
  },
  {
   "cell_type": "code",
   "execution_count": null,
   "id": "8aa0b07b",
   "metadata": {},
   "outputs": [],
   "source": [
    "destroy_all_vehicles(world)\n",
    "vehicle = spawn_vehicle(world, carla.Location(x=-41.5, y=50, z=1), 0, -90)\n"
   ]
  },
  {
   "cell_type": "code",
   "execution_count": null,
   "id": "29457e87",
   "metadata": {},
   "outputs": [],
   "source": [
    "print_spectator_position()"
   ]
  },
  {
   "cell_type": "code",
   "execution_count": null,
   "id": "dddec24c",
   "metadata": {},
   "outputs": [],
   "source": [
    "destroy_all_vehicles(world)\n",
    "destroy_all_pedestrians(world)"
   ]
  },
  {
   "cell_type": "code",
   "execution_count": null,
   "id": "84003c69",
   "metadata": {},
   "outputs": [],
   "source": [
    "vehicle = spawn_vehicle(world, carla.Location(x=-41.5, y=70, z=1), 0, -90)\n",
    "world.wait_for_tick()"
   ]
  },
  {
   "cell_type": "code",
   "execution_count": null,
   "id": "6d5b08a8",
   "metadata": {},
   "outputs": [],
   "source": []
  },
  {
   "cell_type": "markdown",
   "id": "564fa6fa",
   "metadata": {},
   "source": [
    "## Salita"
   ]
  },
  {
   "cell_type": "code",
   "execution_count": 37,
   "id": "06f7e07d",
   "metadata": {},
   "outputs": [
    {
     "ename": "RuntimeError",
     "evalue": "time-out of 10000ms while waiting for the simulator, make sure the simulator is ready and connected to localhost:2000",
     "output_type": "error",
     "traceback": [
      "\u001b[1;31m---------------------------------------------------------------------------\u001b[0m",
      "\u001b[1;31mRuntimeError\u001b[0m                              Traceback (most recent call last)",
      "\u001b[1;32m~\\AppData\\Local\\Temp\\ipykernel_9964\\3631239000.py\u001b[0m in \u001b[0;36m<module>\u001b[1;34m\u001b[0m\n\u001b[1;32m----> 1\u001b[1;33m \u001b[0mload_map\u001b[0m\u001b[1;33m(\u001b[0m\u001b[0mworld\u001b[0m\u001b[1;33m,\u001b[0m \u001b[1;34m\"Town03\"\u001b[0m\u001b[1;33m)\u001b[0m\u001b[1;33m\u001b[0m\u001b[1;33m\u001b[0m\u001b[0m\n\u001b[0m",
      "\u001b[1;32m~\\AppData\\Local\\Temp\\ipykernel_9964\\249390094.py\u001b[0m in \u001b[0;36mload_map\u001b[1;34m(world, map_name)\u001b[0m\n\u001b[0;32m      1\u001b[0m \u001b[1;32mdef\u001b[0m \u001b[0mload_map\u001b[0m\u001b[1;33m(\u001b[0m\u001b[0mworld\u001b[0m\u001b[1;33m,\u001b[0m \u001b[0mmap_name\u001b[0m\u001b[1;33m)\u001b[0m\u001b[1;33m:\u001b[0m\u001b[1;33m\u001b[0m\u001b[1;33m\u001b[0m\u001b[0m\n\u001b[0;32m      2\u001b[0m     \u001b[1;32mif\u001b[0m \u001b[1;32mnot\u001b[0m \u001b[0mworld\u001b[0m\u001b[1;33m.\u001b[0m\u001b[0mget_map\u001b[0m\u001b[1;33m(\u001b[0m\u001b[1;33m)\u001b[0m\u001b[1;33m.\u001b[0m\u001b[0mname\u001b[0m \u001b[1;33m==\u001b[0m \u001b[1;34mf\"Carla/Maps/{map_name}\"\u001b[0m\u001b[1;33m:\u001b[0m\u001b[1;33m\u001b[0m\u001b[1;33m\u001b[0m\u001b[0m\n\u001b[1;32m----> 3\u001b[1;33m         \u001b[0mworld\u001b[0m \u001b[1;33m=\u001b[0m \u001b[0mclient\u001b[0m\u001b[1;33m.\u001b[0m\u001b[0mload_world\u001b[0m\u001b[1;33m(\u001b[0m\u001b[0mmap_name\u001b[0m\u001b[1;33m)\u001b[0m\u001b[1;33m\u001b[0m\u001b[1;33m\u001b[0m\u001b[0m\n\u001b[0m",
      "\u001b[1;31mRuntimeError\u001b[0m: time-out of 10000ms while waiting for the simulator, make sure the simulator is ready and connected to localhost:2000"
     ]
    }
   ],
   "source": [
    "load_map(world, \"Town03\")"
   ]
  },
  {
   "cell_type": "code",
   "execution_count": null,
   "id": "1b081739",
   "metadata": {},
   "outputs": [],
   "source": [
    "destroy_all_vehicles(world)"
   ]
  },
  {
   "cell_type": "code",
   "execution_count": null,
   "id": "18a9f5e0",
   "metadata": {},
   "outputs": [],
   "source": [
    "vehicle = spawn_vehicle(world, carla.Location(x=178.759705, y=-5.8, z=1), 2, 180)\n",
    "osbstacle_vehicle = spawn_vehicle(world, carla.Location(x=152.5, y=-33.249748, z=4), 0, -90) \n",
    "stop_vehicle(osbstacle_vehicle)"
   ]
  },
  {
   "cell_type": "code",
   "execution_count": 46,
   "id": "277e7b54",
   "metadata": {},
   "outputs": [
    {
     "name": "stdout",
     "output_type": "stream",
     "text": [
      "Numero di veicoli trovati: 2\n",
      "Veicolo distrutto: 393\n",
      "Veicolo distrutto: 392\n",
      "ActorBlueprint(id=vehicle.audi.tt,tags=[vehicle, audi, tt])\n",
      "ActorBlueprint(id=vehicle.audi.a2,tags=[vehicle, audi, a2])\n",
      "run\n",
      "Send `ACTION` to topic `carla/fcw_state`\n",
      "stop\n",
      "done\n"
     ]
    },
    {
     "name": "stdout",
     "output_type": "stream",
     "text": [
      "stop\n"
     ]
    }
   ],
   "source": [
    "destroy_all_vehicles(world)\n",
    "\n",
    "vehicle = spawn_vehicle(world, carla.Location(x=178.759705, y=-5.8, z=1), 2, 180)\n",
    "world.wait_for_tick()\n",
    "\n",
    "destination = carla.Location(x=152.5, y=-33.249748, z=4)\n",
    "\n",
    "actor_agent = actor_vehicle(world, vehicle, destination, 120)\n",
    "\n",
    "#Close\n",
    "obstacle_vehicle = spawn_vehicle(world, carla.Location(x=153.095108, y=-58.077873, z=7), 0, -90) \n",
    "   \n",
    "# obstacle_vehicle = spawn_vehicle(world, destination, 0, -90) \n",
    "stop_vehicle(obstacle_vehicle)\n",
    "\n",
    "try:\n",
    "    run = True\n",
    "    adas = attach_adas(world, vehicle, min_ttc=0.4)\n",
    "    run_sync_simulation()\n",
    "    \n",
    "    while run:\n",
    "        vehicle.apply_control(actor_agent.run_step())\n",
    "\n",
    "    stop_vehicle(vehicle)\n",
    "\n",
    "finally:\n",
    "    print(\"done\")\n",
    "    adas.destroy()\n"
   ]
  },
  {
   "cell_type": "code",
   "execution_count": null,
   "id": "11c42fa2",
   "metadata": {},
   "outputs": [],
   "source": []
  },
  {
   "cell_type": "code",
   "execution_count": null,
   "id": "f6e58968",
   "metadata": {},
   "outputs": [],
   "source": []
  }
 ],
 "metadata": {
  "kernelspec": {
   "display_name": "Python 3 (ipykernel)",
   "language": "python",
   "name": "python3"
  },
  "language_info": {
   "codemirror_mode": {
    "name": "ipython",
    "version": 3
   },
   "file_extension": ".py",
   "mimetype": "text/x-python",
   "name": "python",
   "nbconvert_exporter": "python",
   "pygments_lexer": "ipython3",
   "version": "3.7.16"
  }
 },
 "nbformat": 4,
 "nbformat_minor": 5
}
