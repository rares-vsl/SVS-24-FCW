{
 "cells": [
  {
   "cell_type": "markdown",
   "id": "6501f2aa",
   "metadata": {},
   "source": [
    "# SCENARI D'USO"
   ]
  },
  {
   "cell_type": "code",
   "execution_count": 28,
   "id": "ebb8d4b4",
   "metadata": {},
   "outputs": [],
   "source": [
    "import carla, time, sys,math, paho.mqtt.client as mqtt\n",
    "from agents.navigation.basic_agent import BasicAgent\n",
    "from enum import Enum\n",
    "from Adas import Forward_collision_warning_mqtt"
   ]
  },
  {
   "cell_type": "code",
   "execution_count": 29,
   "id": "a5501fd7",
   "metadata": {},
   "outputs": [],
   "source": [
    "client = carla.Client('localhost', 2000)\n",
    "client.set_timeout(10.0)\n",
    "world = client.get_world()"
   ]
  },
  {
   "cell_type": "markdown",
   "id": "59d4ac90",
   "metadata": {},
   "source": [
    "# FUNZIONI DI SUPPORTO"
   ]
  },
  {
   "cell_type": "code",
   "execution_count": 30,
   "id": "915899e7",
   "metadata": {},
   "outputs": [],
   "source": [
    "def load_map(world, map_name):\n",
    "    if not world.get_map().name == f\"Carla/Maps/{map_name}\":\n",
    "        world = client.load_world(map_name)"
   ]
  },
  {
   "cell_type": "code",
   "execution_count": 31,
   "id": "d2387e65",
   "metadata": {},
   "outputs": [],
   "source": [
    "def destroy_all_vehicles(world):\n",
    "    all_actors = world.get_actors()\n",
    "    \n",
    "    vehicles = all_actors.filter('vehicle.*')\n",
    "    \n",
    "    print(f\"Numero di veicoli trovati: {len(vehicles)}\")\n",
    "    \n",
    "    for vehicle in vehicles:\n",
    "        vehicle.destroy()\n",
    "        print(f\"Veicolo distrutto: {vehicle.id}\")"
   ]
  },
  {
   "cell_type": "code",
   "execution_count": 32,
   "id": "8628d42e",
   "metadata": {},
   "outputs": [],
   "source": [
    "def destroy_all_pedestrians(world):\n",
    "    all_actors = world.get_actors()\n",
    "    \n",
    "    pedestrians = all_actors.filter('walker.pedestrian.*')\n",
    "    \n",
    "    print(f\"Numero di pedoni trovati: {len(pedestrians)}\")\n",
    "    \n",
    "    for pedestrian in pedestrians:\n",
    "        pedestrian.destroy()\n",
    "        print(f\"Pedone distrutto: {pedestrian.id}\")"
   ]
  },
  {
   "cell_type": "code",
   "execution_count": 33,
   "id": "87ffec85",
   "metadata": {},
   "outputs": [],
   "source": [
    "def spawn_vehicle(world, location, index, y = 0):\n",
    "    blueprint_library = world.get_blueprint_library()\n",
    "    vehicle_bp = blueprint_library.filter('vehicle.*')[index]\n",
    "    spawn_point = carla.Transform()\n",
    "    spawn_point.location = location\n",
    "    spawn_point.rotation = carla.Rotation(yaw = y)\n",
    "    vehicle = world.spawn_actor(vehicle_bp, spawn_point)\n",
    "    return vehicle"
   ]
  },
  {
   "cell_type": "code",
   "execution_count": 34,
   "id": "af993f7c",
   "metadata": {},
   "outputs": [],
   "source": [
    "def actor_vehicle(world, vehicle, desitination, speed = 60):\n",
    "    world.wait_for_tick()\n",
    "    actor_agent = BasicAgent(vehicle)\n",
    "    actor_agent.set_destination(desitination)\n",
    "    actor_agent.set_target_speed(speed)\n",
    "    actor_agent.ignore_vehicles()\n",
    "    world.wait_for_tick()\n",
    "    return actor_agent"
   ]
  },
  {
   "cell_type": "code",
   "execution_count": 35,
   "id": "23f952dd",
   "metadata": {},
   "outputs": [],
   "source": [
    "def move_forward(vehicle, throttle):\n",
    "    control = carla.VehicleControl()\n",
    "    control.throttle = throttle\n",
    "    vehicle.apply_control(control)"
   ]
  },
  {
   "cell_type": "code",
   "execution_count": 36,
   "id": "8b44dc0d",
   "metadata": {},
   "outputs": [],
   "source": [
    "def move_agent(vehicle, actor_agent):\n",
    "    vehicle.apply_control(actor_agent.run_step())"
   ]
  },
  {
   "cell_type": "code",
   "execution_count": 37,
   "id": "07024ff9",
   "metadata": {},
   "outputs": [],
   "source": [
    "def move_forward_agent(vehicle, actor_agent,x,y):\n",
    "    forward_location = vehicle.get_location() + carla.Location(x=x, y=y, z=0)  # Adjust 'x', 'y' based on vehicle's orientation\n",
    "    actor_agent.set_destination(forward_location)\n",
    "    vehicle.apply_control(actor_agent.run_step())"
   ]
  },
  {
   "cell_type": "code",
   "execution_count": 38,
   "id": "65db0028",
   "metadata": {},
   "outputs": [],
   "source": [
    "def stop_vehicle(vehicle):\n",
    "    control = carla.VehicleControl()\n",
    "    control.brake = 1.0 \n",
    "    vehicle.apply_control(control)"
   ]
  },
  {
   "cell_type": "code",
   "execution_count": 39,
   "id": "2fe5de75",
   "metadata": {},
   "outputs": [],
   "source": [
    "# funzione inutile\n",
    "def stop_vehicle_agent(vehicle):\n",
    "    control = carla.VehicleControl()\n",
    "    control.throttle = 0.0  # Nessuna accelerazione\n",
    "    control.brake = 1.0     # Massima forza frenante\n",
    "    control.hand_brake = True\n",
    "    \n",
    "    vehicle.apply_control(control)"
   ]
  },
  {
   "cell_type": "code",
   "execution_count": 40,
   "id": "86f26e06",
   "metadata": {},
   "outputs": [],
   "source": [
    "def stop_simulation():\n",
    "    global run\n",
    "    run = False\n",
    "    print(\"stop\")"
   ]
  },
  {
   "cell_type": "code",
   "execution_count": 41,
   "id": "053faea3",
   "metadata": {},
   "outputs": [],
   "source": [
    "# Simulazione sensore umidità dell'asflato\n",
    "def get_asphalt_friction_coefficient():\n",
    "    world = client.get_world()\n",
    "    weather = world.get_weather()\n",
    "    weather.precipitation_deposits\n",
    "    weather.wetness\n",
    "    return 0.8"
   ]
  },
  {
   "cell_type": "code",
   "execution_count": 42,
   "id": "da13f29a",
   "metadata": {},
   "outputs": [],
   "source": [
    "def disable_traffic_lights():\n",
    "    traffic_lights = world.get_actors().filter('traffic.traffic_light')\n",
    "    for traffic_light in traffic_lights:\n",
    "        traffic_light.set_state(carla.TrafficLightState.Green)  # Imposta su verde\n",
    "        traffic_light.set_green_time(99999)  # Mantiene il verde per un tempo molto lungo\n",
    "        traffic_light.freeze(True)  # Disabilita la logica automatica\n",
    "        print(f\"Semaforo {traffic_light.id} impostato su verde permanente.\")"
   ]
  },
  {
   "cell_type": "code",
   "execution_count": 43,
   "id": "4a8a2db3",
   "metadata": {},
   "outputs": [],
   "source": [
    "def set_spectator_location(location, rotation):\n",
    "    spectator = world.get_spectator()\n",
    "    spectator.set_transform(carla.Transform(location, rotation))"
   ]
  },
  {
   "cell_type": "code",
   "execution_count": 44,
   "id": "4498fdc4",
   "metadata": {},
   "outputs": [],
   "source": [
    "def draw(world, r, g, b, l):\n",
    "    debug = world.debug\n",
    "\n",
    "    debug.draw_point(\n",
    "        l,\n",
    "        size=0.075,  # Dimensione del punto\n",
    "        life_time=1200,  # Durata del punto\n",
    "        persistent_lines=False,  # Il punto non persiste\n",
    "        color=carla.Color(r, g, b)  # Colore blu\n",
    "    )\n"
   ]
  },
  {
   "cell_type": "markdown",
   "id": "46a51172",
   "metadata": {},
   "source": [
    "## Camera"
   ]
  },
  {
   "cell_type": "code",
   "execution_count": 45,
   "id": "1514cc00",
   "metadata": {},
   "outputs": [],
   "source": [
    "def view_from_above(vehicle):\n",
    "    distance_above = 60.0  # Altezza della telecamera sopra il veicolo\n",
    "    spectator = world.get_spectator()\n",
    "    \n",
    "    vehicle_location = vehicle.get_location()\n",
    "    vehicle_rotation = vehicle.get_transform().rotation\n",
    "    \n",
    "    \n",
    "    spectator_location = carla.Location(\n",
    "            x=vehicle_location.x,  # Stessa posizione X del veicolo\n",
    "            y=vehicle_location.y,  # Stessa posizione Y del veicolo\n",
    "            z=vehicle_location.z + distance_above  # Posizionata più in alto rispetto al veicolo\n",
    "        )\n",
    "\n",
    "    spectator_rotation = carla.Rotation(\n",
    "        pitch=-90.0,  # Guardare direttamente verso il basso\n",
    "        yaw=0,  # Allineato con la rotazione del veicolo\n",
    "        roll=0.0\n",
    "    )\n",
    "    \n",
    "    spectator.set_transform(carla.Transform(spectator_location, spectator_rotation))\n",
    "    "
   ]
  },
  {
   "cell_type": "code",
   "execution_count": 46,
   "id": "efff4c76",
   "metadata": {},
   "outputs": [],
   "source": [
    "def view_from_behind(vehicle):\n",
    "    distance_behind = 14.0  # How far behind the car the spectator will be\n",
    "    height = 5.0  # Height of the camera (how high above the car it will be)\n",
    "    distance_to_the_side = 0\n",
    "    \n",
    "    spectator = world.get_spectator()\n",
    "    \n",
    "    vehicle_location = vehicle.get_location()\n",
    "    vehicle_rotation = vehicle.get_transform().rotation\n",
    "    \n",
    "    spectator_location = carla.Location(\n",
    "            x=vehicle_location.x - distance_behind * vehicle_rotation.get_forward_vector().x + distance_to_the_side * vehicle_rotation.get_right_vector().x,\n",
    "            y=vehicle_location.y - distance_behind * vehicle_rotation.get_forward_vector().y + distance_to_the_side * vehicle_rotation.get_right_vector().y,\n",
    "            z=vehicle_location.z + height  # Keeping the camera above the vehicle\n",
    "        )\n",
    "\n",
    "        # Set the spectator's transform to follow the vehicle\n",
    "   \n",
    "    spectator.set_transform(carla.Transform(spectator_location, vehicle_rotation))\n",
    "    "
   ]
  },
  {
   "cell_type": "markdown",
   "id": "036b034e",
   "metadata": {},
   "source": [
    "## ADAS"
   ]
  },
  {
   "cell_type": "code",
   "execution_count": 47,
   "id": "d8096b3b",
   "metadata": {},
   "outputs": [],
   "source": [
    "def attach_adas(world, vehicle):\n",
    "    adas = Forward_collision_warning_mqtt(\n",
    "        world = world,\n",
    "        min_ttc = 0.9,\n",
    "        attached_vehicle = vehicle,\n",
    "        get_asphalt_friction_coefficient = lambda : get_asphalt_friction_coefficient(),\n",
    "        action_listener = lambda : stop_simulation()\n",
    "    )\n",
    "    return adas"
   ]
  },
  {
   "cell_type": "markdown",
   "id": "480c1fb9",
   "metadata": {},
   "source": [
    "## Scenario 0: Viaggio senza ostacoli\n",
    "\n",
    "\n",
    "Verificare che in condiziondi normali il veicolo viaggi tranquillamente"
   ]
  },
  {
   "cell_type": "markdown",
   "id": "84809691",
   "metadata": {},
   "source": [
    "### setup"
   ]
  },
  {
   "cell_type": "code",
   "execution_count": null,
   "id": "c2dc0614",
   "metadata": {},
   "outputs": [],
   "source": [
    "disable_traffic_lights()"
   ]
  },
  {
   "cell_type": "code",
   "execution_count": 49,
   "id": "7a857ef5",
   "metadata": {},
   "outputs": [],
   "source": [
    "wps = [\n",
    "    carla.Location(x=-41.5, y=117, z=1),\n",
    "    carla.Location(x=-41.5, y=45, z=1),\n",
    "    carla.Location(x=30, y=28.3, z=1)\n",
    "]"
   ]
  },
  {
   "cell_type": "markdown",
   "id": "5b707b83",
   "metadata": {},
   "source": [
    "### run"
   ]
  },
  {
   "cell_type": "code",
   "execution_count": null,
   "id": "9fb06fbf",
   "metadata": {},
   "outputs": [],
   "source": [
    "destroy_all_vehicles(world)\n",
    "\n",
    "vehicle = spawn_vehicle(world, wps[0], 0, -90)\n",
    "world.wait_for_tick() # necessario per creare l'agente\n",
    "\n",
    "actor_agent = actor_vehicle(world, vehicle, wps[1], 80)\n",
    "\n",
    "wp = 1\n",
    "\n",
    "\n",
    "try:\n",
    "    run = True\n",
    "    adas = attach_adas(world, vehicle)\n",
    "    \n",
    "    while run:\n",
    "        view_from_behind(vehicle)\n",
    "        \n",
    "        if actor_agent.done():\n",
    "            print(\"The target has been reached, searching for another target\")\n",
    "            wp = (wp +1) % len(wps)\n",
    "            actor_agent.set_destination(wps[wp])\n",
    "            \n",
    "        vehicle.apply_control(actor_agent.run_step())\n",
    "        #         world.wait_for_tick()\n",
    "        time.sleep(0.02) # così lagga un po la cam\n",
    "    stop_vehicle_agent(vehicle)\n",
    "    \n",
    "    time.sleep(2)\n",
    "    \n",
    "finally:\n",
    "    print(\"done\")\n",
    "    adas.destroy()\n"
   ]
  },
  {
   "cell_type": "markdown",
   "id": "9a5b3fe1",
   "metadata": {},
   "source": [
    "## Scenario 1: Veicolo fermo o parcheggiato sulla carreggiata\n",
    "\n",
    "\n",
    "Presenza di un veicolo parcheggiato direttamente davanti lungo la corsia di marcia."
   ]
  },
  {
   "cell_type": "code",
   "execution_count": null,
   "id": "f25aa104",
   "metadata": {},
   "outputs": [],
   "source": [
    "destroy_all_vehicles(world)\n",
    "\n",
    "vehicle = spawn_vehicle(world, carla.Location(x=-41.5, y=117, z=1), 0, -90)\n",
    "world.wait_for_tick()\n",
    "\n",
    "destination = carla.Location(x=-41.5, y=45, z=1)\n",
    "\n",
    "actor_agent = actor_vehicle(world, vehicle, destination, 120)\n",
    "\n",
    "\n",
    "osbstacle_vehicle = spawn_vehicle(world, destination, 1, -90)\n",
    "\n",
    "try:\n",
    "    run = True\n",
    "    adas = attach_adas(world, vehicle)\n",
    "    \n",
    "    while run:\n",
    "#         view_from_above(vehicle)\n",
    "        view_from_behind(vehicle)\n",
    "        vehicle.apply_control(actor_agent.run_step())\n",
    "        world.wait_for_tick()\n",
    "        \n",
    "    print(vehicle.get_location())\n",
    "    draw(world, 0, 0, 255, vehicle.get_location())\n",
    "    stop_vehicle_agent(vehicle)\n",
    "    \n",
    "    time.sleep(2)\n",
    "    draw(world, 0, 0, 255, vehicle.get_location())\n",
    "    \n",
    "finally:\n",
    "    print(\"done\")\n",
    "    adas.destroy()\n",
    "\n"
   ]
  },
  {
   "cell_type": "markdown",
   "id": "cfddc0fa",
   "metadata": {},
   "source": [
    "Plot points"
   ]
  },
  {
   "cell_type": "code",
   "execution_count": 52,
   "id": "0d52b447",
   "metadata": {},
   "outputs": [],
   "source": [
    "def draw(world, r, g, b, l):\n",
    "    debug = world.debug\n",
    "\n",
    "    debug.draw_point(\n",
    "        l,\n",
    "        size=0.075,  # Dimensione del punto\n",
    "        life_time=1200,  # Durata del punto\n",
    "        persistent_lines=False,  # Il punto non persiste\n",
    "        color=carla.Color(r, g, b)  # Colore blu\n",
    "    )\n",
    "\n",
    "\n",
    "r, g, b = 0, 0, 255  # Colore blu\n",
    "\n",
    "draw(world, 0, 0, 255, carla.Location(x=-41.628563, y=63.226833, z=-0.008968))\n",
    "draw(world, 0, 0, 255, carla.Location(x=-41.659218, y=52.215012, z=-0.007616))\n",
    "\n",
    "\n",
    "draw(world, 0, 255, 0, carla.Location(x=-41.595119, y=75.170609, z=-0.011463))\n",
    "draw(world, 0, 255, 0, carla.Location(x=-41.626343, y=63.377842, z=-0.011196))\n",
    "\n",
    "\n",
    "\n"
   ]
  }
 ],
 "metadata": {
  "kernelspec": {
   "display_name": "carla-env",
   "language": "python",
   "name": "python3"
  },
  "language_info": {
   "codemirror_mode": {
    "name": "ipython",
    "version": 3
   },
   "file_extension": ".py",
   "mimetype": "text/x-python",
   "name": "python",
   "nbconvert_exporter": "python",
   "pygments_lexer": "ipython3",
   "version": "3.7.12"
  }
 },
 "nbformat": 4,
 "nbformat_minor": 5
}
