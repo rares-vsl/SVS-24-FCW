{
 "cells": [
  {
   "cell_type": "markdown",
   "id": "6501f2aa",
   "metadata": {},
   "source": [
    "# SCENARI D'USO"
   ]
  },
  {
   "cell_type": "code",
   "execution_count": 1,
   "id": "ebb8d4b4",
   "metadata": {},
   "outputs": [],
   "source": [
    "import carla, time, threading, random\n",
    "from agents.navigation.basic_agent import BasicAgent\n",
    "from Adas import Forward_collision_warning_mqtt\n",
    "from SyncSimulation import SyncSimulation"
   ]
  },
  {
   "cell_type": "code",
   "execution_count": 2,
   "id": "a5501fd7",
   "metadata": {},
   "outputs": [],
   "source": [
    "client = carla.Client('localhost', 2000)\n",
    "client.set_timeout(10.0)\n",
    "world = client.get_world()"
   ]
  },
  {
   "cell_type": "markdown",
   "id": "59d4ac90",
   "metadata": {},
   "source": [
    "# FUNZIONI DI SUPPORTO"
   ]
  },
  {
   "cell_type": "markdown",
   "id": "afaa86ab",
   "metadata": {},
   "source": [
    "## Gestione simulazione"
   ]
  },
  {
   "cell_type": "code",
   "execution_count": 37,
   "id": "5466d4fa",
   "metadata": {},
   "outputs": [],
   "source": [
    "# Simulazione sensore umidità dell'asflato\n",
    "def get_asphalt_friction_coefficient():\n",
    "    world = client.get_world()\n",
    "    weather = world.get_weather()\n",
    "    weather.precipitation_deposits\n",
    "    weather.wetness\n",
    "    return 0.8"
   ]
  },
  {
   "cell_type": "markdown",
   "id": "367fd6ed",
   "metadata": {},
   "source": [
    "## ADAS"
   ]
  },
  {
   "cell_type": "code",
   "execution_count": 66,
   "id": "276de3b4",
   "metadata": {},
   "outputs": [],
   "source": [
    " # per Audi TT\n",
    "target_vehicle_id = 2\n",
    "target_vehicle_ttc = 0"
   ]
  },
  {
   "cell_type": "code",
   "execution_count": 39,
   "id": "4f481fca",
   "metadata": {},
   "outputs": [],
   "source": [
    "def attach_adas(sim, world, vehicle, min_ttc = 0.5):\n",
    "    adas = Forward_collision_warning_mqtt(\n",
    "        world = world,\n",
    "        attached_vehicle = vehicle,\n",
    "        min_ttc=min_ttc,\n",
    "        get_asphalt_friction_coefficient = lambda : get_asphalt_friction_coefficient(),\n",
    "        action_listener = lambda : sim.stop_simulation()\n",
    "    )\n",
    "    return adas"
   ]
  },
  {
   "cell_type": "markdown",
   "id": "8c10f746",
   "metadata": {},
   "source": [
    "## Gestione world"
   ]
  },
  {
   "cell_type": "code",
   "execution_count": 40,
   "id": "915899e7",
   "metadata": {},
   "outputs": [],
   "source": [
    "def load_map(world, map_name):\n",
    "    if not world.get_map().name == f\"Carla/Maps/{map_name}\":\n",
    "        try:\n",
    "            world = client.load_world(map_name)\n",
    "        except RuntimeError:\n",
    "            print(\"\")"
   ]
  },
  {
   "cell_type": "code",
   "execution_count": 41,
   "id": "d2387e65",
   "metadata": {},
   "outputs": [],
   "source": [
    "def destroy_all_vehicles(world):\n",
    "    all_actors = world.get_actors()\n",
    "    \n",
    "    vehicles = all_actors.filter('vehicle.*')\n",
    "    \n",
    "    print(f\"Numero di veicoli trovati: {len(vehicles)}\")\n",
    "    \n",
    "    for vehicle in vehicles:\n",
    "        vehicle.destroy()"
   ]
  },
  {
   "cell_type": "code",
   "execution_count": 42,
   "id": "8628d42e",
   "metadata": {},
   "outputs": [],
   "source": [
    "def destroy_all_pedestrians(world):\n",
    "    all_actors = world.get_actors()\n",
    "    \n",
    "    pedestrians = all_actors.filter('walker.pedestrian.*')\n",
    "    \n",
    "    print(f\"Numero di pedoni trovati: {len(pedestrians)}\")\n",
    "    \n",
    "    for pedestrian in pedestrians:\n",
    "        pedestrian.destroy()"
   ]
  },
  {
   "cell_type": "code",
   "execution_count": 43,
   "id": "3e46157b",
   "metadata": {},
   "outputs": [],
   "source": [
    "def disable_traffic_lights():\n",
    "    traffic_lights = world.get_actors().filter('traffic.traffic_light')\n",
    "    for traffic_light in traffic_lights:\n",
    "        traffic_light.set_state(carla.TrafficLightState.Green)\n",
    "        traffic_light.set_green_time(99999)\n",
    "        traffic_light.freeze(True)"
   ]
  },
  {
   "cell_type": "code",
   "execution_count": 44,
   "id": "f5d1dd09",
   "metadata": {},
   "outputs": [],
   "source": [
    "def enable_traffic_lights():\n",
    "\n",
    "    traffic_lights = world.get_actors().filter('traffic.traffic_light')\n",
    "    for traffic_light in traffic_lights:\n",
    "        traffic_light.freeze(False)\n",
    "        traffic_light.reset_group()\n",
    "        print(f\"Semaforo {traffic_light.id} ripristinato al comportamento predefinito.\")"
   ]
  },
  {
   "cell_type": "markdown",
   "id": "f7e72756",
   "metadata": {},
   "source": [
    "## Creazione entità"
   ]
  },
  {
   "cell_type": "code",
   "execution_count": 45,
   "id": "87ffec85",
   "metadata": {},
   "outputs": [],
   "source": [
    "def spawn_vehicle(world, location, index, y = 0):\n",
    "    blueprint_library = world.get_blueprint_library()\n",
    "    vehicle_bp = blueprint_library.filter('vehicle.*')[index]\n",
    "    spawn_point = carla.Transform()\n",
    "    spawn_point.location = location\n",
    "    spawn_point.rotation = carla.Rotation(yaw = y)\n",
    "    vehicle = world.try_spawn_actor(vehicle_bp, spawn_point)\n",
    "    world.wait_for_tick()\n",
    "    return vehicle"
   ]
  },
  {
   "cell_type": "code",
   "execution_count": 46,
   "id": "af993f7c",
   "metadata": {},
   "outputs": [],
   "source": [
    "def actor_vehicle(world, vehicle, desitination, speed = 60):\n",
    "    actor_agent = BasicAgent(vehicle)\n",
    "    actor_agent.set_destination(desitination)\n",
    "    actor_agent.set_target_speed(speed)\n",
    "    actor_agent.ignore_vehicles()\n",
    "    world.wait_for_tick()\n",
    "    return actor_agent"
   ]
  },
  {
   "cell_type": "code",
   "execution_count": 47,
   "id": "592ad9e6",
   "metadata": {},
   "outputs": [],
   "source": [
    "def spawn_walker(start_location, yaw = 0):\n",
    "    walker_bp = random.choice(world.get_blueprint_library().filter(\"walker.pedestrian.*\"))\n",
    "    walker_bp.set_attribute('is_invincible', 'false')\n",
    "\n",
    "    trans = carla.Transform()\n",
    "    trans.location = start_location\n",
    "    trans.rotation = carla.Rotation(yaw = yaw)\n",
    "\n",
    "    return world.spawn_actor(walker_bp, trans)"
   ]
  },
  {
   "cell_type": "markdown",
   "id": "3719d1df",
   "metadata": {},
   "source": [
    "## Gestione movimenti"
   ]
  },
  {
   "cell_type": "code",
   "execution_count": 48,
   "id": "23f952dd",
   "metadata": {},
   "outputs": [],
   "source": [
    "def move_forward(vehicle, throttle):\n",
    "    control = carla.VehicleControl()\n",
    "    control.throttle = throttle\n",
    "    vehicle.apply_control(control)"
   ]
  },
  {
   "cell_type": "code",
   "execution_count": 49,
   "id": "8b44dc0d",
   "metadata": {},
   "outputs": [],
   "source": [
    "def move_agent(vehicle, actor_agent):\n",
    "    vehicle.apply_control(actor_agent.run_step())"
   ]
  },
  {
   "cell_type": "code",
   "execution_count": 50,
   "id": "07024ff9",
   "metadata": {},
   "outputs": [],
   "source": [
    "def move_forward_agent(vehicle, actor_agent,x,y):\n",
    "    forward_location = vehicle.get_location() + carla.Location(x=x, y=y, z=0)  # Adjust 'x', 'y' based on vehicle's orientation\n",
    "    actor_agent.set_destination(forward_location)\n",
    "    vehicle.apply_control(actor_agent.run_step())"
   ]
  },
  {
   "cell_type": "code",
   "execution_count": 51,
   "id": "65db0028",
   "metadata": {},
   "outputs": [],
   "source": [
    "def stop_vehicle(vehicle):\n",
    "    print(\"stop vehicle\")\n",
    "    control = carla.VehicleControl()\n",
    "    control.throttle = 0.0\n",
    "    control.brake = 1.0\n",
    "    control.hand_brake = True\n",
    "    vehicle.apply_control(control)"
   ]
  },
  {
   "cell_type": "code",
   "execution_count": 52,
   "id": "c3d44491",
   "metadata": {},
   "outputs": [],
   "source": [
    "def pedestrian_control(x=1,y =0,z = 0):\n",
    "    walker_control = carla.WalkerControl()\n",
    "    walker_control.speed = 1.3  # Velocità in m/s (positivo in avanti)\n",
    "    walker_control.direction = carla.Vector3D(x, y, z)\n",
    "    return walker_control"
   ]
  },
  {
   "cell_type": "code",
   "execution_count": 53,
   "id": "bf995e0a",
   "metadata": {},
   "outputs": [],
   "source": [
    "def stop_pedestrian(walker):\n",
    "    walker_control = carla.WalkerControl()\n",
    "    walker_control.speed = 0  # Velocità in m/s (positivo in avanti)\n",
    "    walker.apply_control(walker_control)"
   ]
  },
  {
   "cell_type": "code",
   "execution_count": 54,
   "id": "479042ff",
   "metadata": {},
   "outputs": [],
   "source": [
    "def _move_pedestrian(walker, controller_w, sim, extra_time):\n",
    "    while sim.run:\n",
    "        walker.apply_control(controller_w)\n",
    "        time.sleep(0.5)\n",
    "    time.sleep(extra_time)\n",
    "    stop_pedestrian(walker)\n",
    "\n",
    "def move_pedestrian(walker, controller_w, sim, extra_time):\n",
    "    threading.Thread(target=_move_pedestrian, args=(walker, controller_w, sim, extra_time,)).start()"
   ]
  },
  {
   "cell_type": "markdown",
   "id": "46a51172",
   "metadata": {},
   "source": [
    "## Camera"
   ]
  },
  {
   "cell_type": "code",
   "execution_count": 55,
   "id": "b57d8079",
   "metadata": {},
   "outputs": [],
   "source": [
    "def print_spectator_position():\n",
    "    location = world.get_spectator().get_transform().location\n",
    "    rotation = world.get_spectator().get_transform().rotation\n",
    "    print(location)\n",
    "    print(rotation)"
   ]
  },
  {
   "cell_type": "code",
   "execution_count": 56,
   "id": "4bbec7e0",
   "metadata": {},
   "outputs": [],
   "source": [
    "def set_spectator_location(location, rotation):\n",
    "    spectator = world.get_spectator()\n",
    "    spectator.set_transform(carla.Transform(location, rotation))"
   ]
  },
  {
   "cell_type": "code",
   "execution_count": 57,
   "id": "15d4fccd",
   "metadata": {},
   "outputs": [],
   "source": [
    "def run_camera(camera, vehicle, sim):\n",
    "    return threading.Thread(target=camera, args=(vehicle,sim))"
   ]
  },
  {
   "cell_type": "code",
   "execution_count": 58,
   "id": "1514cc00",
   "metadata": {},
   "outputs": [],
   "source": [
    "def view_from_above(vehicle, sim):    \n",
    "    while sim.run:\n",
    "        distance_above = 40.0 \n",
    "        spectator = world.get_spectator()\n",
    "        \n",
    "        vehicle_location = vehicle.get_location()\n",
    "        \n",
    "        \n",
    "        spectator_location = carla.Location(\n",
    "                x=vehicle_location.x, \n",
    "                y=vehicle_location.y,\n",
    "                z=vehicle_location.z + distance_above\n",
    "                )\n",
    "\n",
    "        spectator_rotation = carla.Rotation(\n",
    "            pitch=-90.0,\n",
    "            yaw=0,\n",
    "            roll=0.0\n",
    "        )\n",
    "        \n",
    "        spectator.set_transform(carla.Transform(spectator_location, spectator_rotation))\n",
    "    "
   ]
  },
  {
   "cell_type": "code",
   "execution_count": 59,
   "id": "efff4c76",
   "metadata": {},
   "outputs": [],
   "source": [
    "def view_from_behind(vehicle, sim):    \n",
    "    while sim.run:\n",
    "        distance_behind = 14.0 \n",
    "        height = 5.0\n",
    "        distance_to_the_side = 0\n",
    "        \n",
    "        spectator = world.get_spectator()\n",
    "        \n",
    "        vehicle_location = vehicle.get_location()\n",
    "        vehicle_rotation = vehicle.get_transform().rotation\n",
    "        \n",
    "        spectator_location = carla.Location(\n",
    "                x=vehicle_location.x - distance_behind * vehicle_rotation.get_forward_vector().x + distance_to_the_side * vehicle_rotation.get_right_vector().x,\n",
    "                y=vehicle_location.y - distance_behind * vehicle_rotation.get_forward_vector().y + distance_to_the_side * vehicle_rotation.get_right_vector().y,\n",
    "                z=vehicle_location.z + height\n",
    "            )\n",
    "    \n",
    "        spectator.set_transform(carla.Transform(spectator_location, vehicle_rotation))\n",
    "    \n",
    "    "
   ]
  },
  {
   "cell_type": "markdown",
   "id": "70557f3a",
   "metadata": {},
   "source": [
    "# SCENARI"
   ]
  },
  {
   "cell_type": "markdown",
   "id": "480c1fb9",
   "metadata": {},
   "source": [
    "## Scenario 0: Viaggio senza ostacoli\n",
    "\n",
    "Il veicolo segue un percorso prestabilito senza presenza di ostacoli. Lo scopo è quello di  verificare che in condiziondi normali il veicolo viaggi tranquillamente."
   ]
  },
  {
   "cell_type": "markdown",
   "id": "84809691",
   "metadata": {},
   "source": [
    "### SETUP"
   ]
  },
  {
   "cell_type": "code",
   "execution_count": 26,
   "id": "5199e816",
   "metadata": {},
   "outputs": [],
   "source": [
    "load_map(world, \"Town10HD_Opt\")"
   ]
  },
  {
   "cell_type": "code",
   "execution_count": 27,
   "id": "4fb697fd",
   "metadata": {},
   "outputs": [],
   "source": [
    "disable_traffic_lights()\n",
    "\n",
    "# percorso da seguire\n",
    "wps = [\n",
    "    carla.Location(x=-41.679836, y=45.000507, z=0),\n",
    "    carla.Location(x=30.000090, y=28.267391, z=0),\n",
    "    carla.Location(x=-41.525066, y=100.000069, z=0)\n",
    "\n",
    "]\n",
    "\n",
    "start = carla.Location(x=-41.477230, y=116.999939, z=1)\n",
    "vehicle_speed = 40\n",
    "destination = wps[0]"
   ]
  },
  {
   "cell_type": "markdown",
   "id": "5b707b83",
   "metadata": {},
   "source": [
    "### RUN"
   ]
  },
  {
   "cell_type": "code",
   "execution_count": null,
   "id": "9fb06fbf",
   "metadata": {},
   "outputs": [],
   "source": [
    "destroy_all_vehicles(world)\n",
    "\n",
    "simulation = SyncSimulation(world)\n",
    "\n",
    "vehicle = spawn_vehicle(world, start, target_vehicle_id, -90)\n",
    "\n",
    "actor_agent = actor_vehicle(world, vehicle, destination, vehicle_speed)\n",
    "\n",
    "wp_index = 0\n",
    "\n",
    "try:\n",
    "    adas = attach_adas(simulation, world, vehicle, target_vehicle_ttc)\n",
    "    simulation.run_sync_simulation()\n",
    "    run_camera(view_from_behind, vehicle, simulation).start()\n",
    "    \n",
    "    while simulation.run:\n",
    "        if actor_agent.done():\n",
    "            wp_index = (wp_index +1) % len(wps)\n",
    "            actor_agent.set_destination(wps[wp_index])\n",
    "\n",
    "        move_agent(vehicle, actor_agent)\n",
    "        \n",
    "    stop_vehicle(vehicle)\n",
    "\n",
    "except KeyboardInterrupt:\n",
    "    print(\"simulation stopped\")\n",
    "    stop_vehicle(vehicle)\n",
    "    simulation.stop_simulation()\n",
    "finally:\n",
    "    print(\"done\")\n",
    "    adas.destroy()\n"
   ]
  },
  {
   "cell_type": "markdown",
   "id": "9a5b3fe1",
   "metadata": {},
   "source": [
    "## Scenario 1: Veicolo fermo o parcheggiato sulla carreggiata\n",
    "\n",
    "\n",
    "Presenza di un veicolo parcheggiato direttamente davanti lungo la corsia di marcia. In questo scenario vi è la presenza di un veicolo posto ad una distanza: vicina, intermedia e lontada dal veicolo"
   ]
  },
  {
   "cell_type": "markdown",
   "id": "ffc25172",
   "metadata": {},
   "source": [
    "### SETUP"
   ]
  },
  {
   "cell_type": "code",
   "execution_count": 29,
   "id": "31c166dc",
   "metadata": {},
   "outputs": [],
   "source": [
    "load_map(world, \"Town10HD_Opt\")"
   ]
  },
  {
   "cell_type": "code",
   "execution_count": 30,
   "id": "b8bf87e5",
   "metadata": {},
   "outputs": [],
   "source": [
    "disable_traffic_lights()\n",
    "\n",
    "close_location = carla.Location(x=-41.5, y=100, z=1)\n",
    "middle_location = carla.Location(x=-41.5, y=70, z=1)\n",
    "far_location = carla.Location(x=-41.5, y=45, z=1)\n",
    "\n",
    "start = carla.Location(x=-41.5, y=117, z=1)\n",
    "vehicle_speed = 60\n",
    "destination = far_location"
   ]
  },
  {
   "cell_type": "markdown",
   "id": "d435d62a",
   "metadata": {},
   "source": [
    "### RUN"
   ]
  },
  {
   "cell_type": "code",
   "execution_count": null,
   "id": "f25aa104",
   "metadata": {},
   "outputs": [],
   "source": [
    "destroy_all_vehicles(world)\n",
    "simulation = SyncSimulation(world)\n",
    "\n",
    "vehicle = spawn_vehicle(world, start, target_vehicle_id, -90)\n",
    "actor_agent = actor_vehicle(world, vehicle, destination, vehicle_speed)\n",
    "\n",
    "obstacle_vehicle = spawn_vehicle(world, middle_location, target_vehicle_id, -90)\n",
    "\n",
    "try:\n",
    "    adas = attach_adas(simulation, world, vehicle, target_vehicle_ttc)\n",
    "    simulation.run_sync_simulation()\n",
    "    run_camera(view_from_above, vehicle, simulation).start()\n",
    "\n",
    "    while simulation.run:\n",
    "        move_agent(vehicle, actor_agent)\n",
    "\n",
    "    stop_vehicle(vehicle)\n",
    "except KeyboardInterrupt:\n",
    "    print(\"simulation stopped\")\n",
    "    stop_vehicle(vehicle)\n",
    "    simulation.stop_simulation()\n",
    "\n",
    "finally:\n",
    "    print(\"done\")\n",
    "    adas.destroy()"
   ]
  },
  {
   "cell_type": "markdown",
   "id": "4d5aaafa",
   "metadata": {},
   "source": [
    "## Senario 2: Veicolo davanti in movimento con una velocità uguale\n",
    "Presenza di un veicolo davanti al veicolo di interesse, con un'accellerazione pari a quella del veicolo di interesse"
   ]
  },
  {
   "cell_type": "markdown",
   "id": "dd367c54",
   "metadata": {},
   "source": [
    "### SETUP"
   ]
  },
  {
   "cell_type": "code",
   "execution_count": 53,
   "id": "2f7fe024",
   "metadata": {},
   "outputs": [],
   "source": [
    "load_map(world, \"Town10HD_Opt\")"
   ]
  },
  {
   "cell_type": "code",
   "execution_count": 66,
   "id": "871a0319",
   "metadata": {},
   "outputs": [],
   "source": [
    "disable_traffic_lights()\n",
    "\n",
    "start_vehicle = carla.Location(x=-41.5, y=115, z=1)\n",
    "start_obstacle = carla.Location(x=-41.5, y=100, z=1)\n",
    "destination = carla.Location(x=-41.647892, y=-42.639099, z=0.000000)\n",
    "\n",
    "vehicle_speed = 40\n",
    "obstacle_speed = 40"
   ]
  },
  {
   "cell_type": "markdown",
   "id": "95cfcf0c",
   "metadata": {},
   "source": [
    "### RUN"
   ]
  },
  {
   "cell_type": "code",
   "execution_count": null,
   "id": "6ef624ee",
   "metadata": {},
   "outputs": [],
   "source": [
    "destroy_all_vehicles(world)\n",
    "\n",
    "simulation = SyncSimulation(world)\n",
    "\n",
    "vehicle = spawn_vehicle(world, start_vehicle, target_vehicle_id, -90)\n",
    "actor_agent = actor_vehicle(world, vehicle, destination, vehicle_speed)\n",
    "\n",
    "obstacle_vehicle = spawn_vehicle(world, start_obstacle, target_vehicle_id, -90)\n",
    "obstacle_actor_agent = actor_vehicle(world, obstacle_vehicle, destination, obstacle_speed)\n",
    "\n",
    "try:\n",
    "    adas = attach_adas(simulation, world, vehicle, target_vehicle_ttc)\n",
    "    simulation.run_sync_simulation()  \n",
    "    run_camera(view_from_above, vehicle, simulation).start()\n",
    "    while simulation.run:\n",
    "        if obstacle_actor_agent.done():\n",
    "            stop_vehicle(obstacle_vehicle)\n",
    "        move_agent(vehicle, actor_agent)\n",
    "        move_agent(obstacle_vehicle, obstacle_actor_agent)\n",
    "    \n",
    "    stop_vehicle(vehicle)\n",
    "    simulation.stop_simulation()\n",
    "except KeyboardInterrupt:\n",
    "    print(\"simulation stopped\")\n",
    "    stop_vehicle(obstacle_vehicle)\n",
    "    stop_vehicle(vehicle)\n",
    "    simulation.stop_simulation()\n",
    "finally:\n",
    "    print(\"done\")\n",
    "    adas.destroy()\n"
   ]
  },
  {
   "cell_type": "markdown",
   "id": "a7579eb0",
   "metadata": {},
   "source": [
    "## Senario 3: Veicolo davanti in movimento con una velocità minore"
   ]
  },
  {
   "cell_type": "markdown",
   "id": "663a439f",
   "metadata": {},
   "source": [
    "### SETUP"
   ]
  },
  {
   "cell_type": "code",
   "execution_count": 32,
   "id": "26e274c1",
   "metadata": {},
   "outputs": [],
   "source": [
    "load_map(world, \"Town10HD_Opt\")"
   ]
  },
  {
   "cell_type": "code",
   "execution_count": 33,
   "id": "4e59e6e0",
   "metadata": {},
   "outputs": [],
   "source": [
    "disable_traffic_lights()\n",
    "\n",
    "start = carla.Location(x=-41.5, y=115, z=1)\n",
    "obstacle_start = carla.Location(x=-41.5, y=95, z=1)\n",
    "destination = carla.Location(x=-41.5, y=40, z=1)\n",
    "\n",
    "vehicle_speed = 50\n",
    "obstacle_speed = 30"
   ]
  },
  {
   "cell_type": "markdown",
   "id": "83af58fe",
   "metadata": {},
   "source": [
    "### RUN"
   ]
  },
  {
   "cell_type": "code",
   "execution_count": null,
   "id": "134b0f75",
   "metadata": {},
   "outputs": [],
   "source": [
    "destroy_all_vehicles(world)\n",
    "\n",
    "simulation = SyncSimulation(world)\n",
    "\n",
    "\n",
    "vehicle = spawn_vehicle(world, start, target_vehicle_id, -90)\n",
    "actor_agent = actor_vehicle(world, vehicle, destination, vehicle_speed)\n",
    "\n",
    "obstacle_vehicle = spawn_vehicle(world, obstacle_start, target_vehicle_id, -90)\n",
    "obstacle_actor_agent = actor_vehicle(world, obstacle_vehicle, destination, obstacle_speed)\n",
    "\n",
    "try:\n",
    "    adas = attach_adas(simulation, world, vehicle, 0.4)\n",
    "    simulation.run_sync_simulation()  \n",
    "    run_camera(view_from_above, vehicle, simulation).start()\n",
    "    while True:\n",
    "        if obstacle_actor_agent.done():\n",
    "            break\n",
    "        if simulation.run:\n",
    "            move_agent(vehicle, actor_agent)\n",
    "        else:\n",
    "            stop_vehicle(vehicle)\n",
    "            \n",
    "        move_agent(obstacle_vehicle, obstacle_actor_agent)\n",
    "    \n",
    "    stop_vehicle(obstacle_vehicle)\n",
    "    simulation.stop_simulation()\n",
    "except KeyboardInterrupt:\n",
    "    print(\"simulation stopped\")\n",
    "    stop_vehicle(vehicle)\n",
    "    adas.destroy()\n",
    "    simulation.stop_simulation()\n",
    "finally:\n",
    "    print(\"done\")\n",
    "    adas.destroy()\n"
   ]
  },
  {
   "cell_type": "markdown",
   "id": "e4a04d50",
   "metadata": {},
   "source": [
    "## Scenario 4 : Pedone che attraversa le strisce pedonali\n",
    "\n",
    "\n",
    "Presenza di un pedone che attraversa le strisce pedonali mentre il veicolo di riferimento è a pochi metri da esse"
   ]
  },
  {
   "cell_type": "markdown",
   "id": "c6ca82fd",
   "metadata": {},
   "source": [
    "### SETUP"
   ]
  },
  {
   "cell_type": "code",
   "execution_count": 36,
   "id": "7fcb8b87",
   "metadata": {},
   "outputs": [],
   "source": [
    "load_map(world, \"Town10HD_Opt\")"
   ]
  },
  {
   "cell_type": "code",
   "execution_count": 37,
   "id": "38a4b8bc",
   "metadata": {},
   "outputs": [],
   "source": [
    "disable_traffic_lights()"
   ]
  },
  {
   "cell_type": "markdown",
   "id": "45bcb326",
   "metadata": {},
   "source": [
    "### Pedone in mezzo alla strada fermo"
   ]
  },
  {
   "cell_type": "code",
   "execution_count": 38,
   "id": "967ea58e",
   "metadata": {},
   "outputs": [],
   "source": [
    "start = carla.Location(x=-41.5, y=80, z=1)\n",
    "vehicle_speed = 120\n",
    "destination = carla.Location(x=-41.5, y=10, z=1)\n",
    "\n",
    "pedestrian_position = carla.Location(x=-41.5, y=37, z=1)"
   ]
  },
  {
   "cell_type": "code",
   "execution_count": null,
   "id": "bea915da",
   "metadata": {},
   "outputs": [],
   "source": [
    "destroy_all_vehicles(world)\n",
    "destroy_all_pedestrians(world)\n",
    "\n",
    "simulation = SyncSimulation(world)\n",
    "\n",
    "vehicle = spawn_vehicle(world, start, target_vehicle_id, -90)\n",
    "actor_agent = actor_vehicle(world, vehicle, destination, vehicle_speed)\n",
    "\n",
    "walker = spawn_walker(pedestrian_position)\n",
    "\n",
    "try:\n",
    "    adas = attach_adas(simulation, world, vehicle, target_vehicle_ttc)\n",
    "    simulation.run_sync_simulation()\n",
    "    set_spectator_location(carla.Location(x=-37.506443, y=33.672970, z=1.671275),\n",
    "        carla.Rotation(pitch=-6.648561, yaw=118.152756, roll=-0.000091))\n",
    "\n",
    "    while simulation.run:\n",
    "        move_agent(vehicle, actor_agent)\n",
    "            \n",
    "    stop_vehicle(vehicle)\n",
    "    \n",
    "except KeyboardInterrupt:\n",
    "    print(\"simulation stopped\")\n",
    "    stop_vehicle(vehicle)\n",
    "    simulation.stop_simulation()\n",
    "finally:\n",
    "    print(\"done\")\n",
    "    adas.destroy()"
   ]
  },
  {
   "cell_type": "markdown",
   "id": "dda79a31",
   "metadata": {},
   "source": [
    "### Pedone in movimento"
   ]
  },
  {
   "cell_type": "code",
   "execution_count": 40,
   "id": "01e37c51",
   "metadata": {},
   "outputs": [],
   "source": [
    "start = carla.Location(x=-41.5, y=80, z=1)\n",
    "vehicle_speed = 40\n",
    "destination = carla.Location(x=-41.5, y=10, z=1)\n",
    "\n",
    "pedestrian_position = carla.Location(x=-35, y=36.6, z=1)"
   ]
  },
  {
   "cell_type": "code",
   "execution_count": null,
   "id": "0795fe54",
   "metadata": {},
   "outputs": [],
   "source": [
    "destroy_all_vehicles(world)\n",
    "destroy_all_pedestrians(world)\n",
    "\n",
    "\n",
    "simulation = SyncSimulation(world)\n",
    "\n",
    "\n",
    "vehicle = spawn_vehicle(world, start, target_vehicle_id, -90)\n",
    "actor_agent = actor_vehicle(world, vehicle, destination, vehicle_speed)\n",
    "\n",
    "walker = spawn_walker(pedestrian_position, 180)\n",
    "controller_w = pedestrian_control(-1,0,0)\n",
    "\n",
    "try:\n",
    "    adas = attach_adas(simulation, world, vehicle, target_vehicle_ttc)\n",
    "    simulation.run_sync_simulation()\n",
    "\n",
    "    set_spectator_location(carla.Location(x=-35.991619, y=30.547363, z=2.301113),\n",
    "        carla.Rotation(pitch=-6.984530, yaw=120.027725, roll=-0.000092))\n",
    "    \n",
    "    move_pedestrian(walker, controller_w, simulation, 2)\n",
    "\n",
    "    while simulation.run:\n",
    "        move_agent(vehicle, actor_agent)\n",
    "        \n",
    "    stop_vehicle(vehicle)\n",
    "\n",
    "except KeyboardInterrupt:\n",
    "    print(\"simulation stopped\")\n",
    "    stop_vehicle(vehicle)\n",
    "    simulation.stop_simulation()\n",
    "finally:\n",
    "    print(\"done\")\n",
    "    adas.destroy()\n",
    "\n"
   ]
  },
  {
   "cell_type": "markdown",
   "id": "564fa6fa",
   "metadata": {},
   "source": [
    "## Scenario 5: Salita"
   ]
  },
  {
   "cell_type": "markdown",
   "id": "fdd4fb54",
   "metadata": {},
   "source": [
    "### SETUP"
   ]
  },
  {
   "cell_type": "code",
   "execution_count": 67,
   "id": "06f7e07d",
   "metadata": {},
   "outputs": [],
   "source": [
    "load_map(world, \"Town03\")"
   ]
  },
  {
   "cell_type": "code",
   "execution_count": 72,
   "id": "2b8c40b1",
   "metadata": {},
   "outputs": [],
   "source": [
    "disable_traffic_lights()\n",
    "\n",
    "start = carla.Location(x=178.759857, y=-5.810725, z=1)\n",
    "vehicle_speed = 40\n",
    "\n",
    "close_location = carla.Location(x=152.025681, y=-21.958912, z=1)\n",
    "middle_location = carla.Location(x=152.256927, y=-33.253975, z=3)\n",
    "far_location = carla.Location(x=152.688828, y=-58.084942, z=7)\n",
    "\n",
    "destination = far_location"
   ]
  },
  {
   "cell_type": "markdown",
   "id": "cdfc59a5",
   "metadata": {},
   "source": [
    "### RUN"
   ]
  },
  {
   "cell_type": "code",
   "execution_count": null,
   "id": "8a2bf87b",
   "metadata": {},
   "outputs": [],
   "source": [
    "destroy_all_vehicles(world)\n",
    "\n",
    "simulation = SyncSimulation(world)\n",
    "\n",
    "vehicle = spawn_vehicle(world, start, target_vehicle_id, 180)\n",
    "actor_agent = actor_vehicle(world, vehicle, destination, vehicle_speed)\n",
    "\n",
    "obstacle_vehicle = spawn_vehicle(world, far_location, target_vehicle_id, -90)\n",
    "stop_vehicle(obstacle_vehicle)\n",
    "\n",
    "try:\n",
    "    adas = attach_adas(simulation, world, vehicle, target_vehicle_ttc)\n",
    "    simulation.run_sync_simulation()\n",
    "    run_camera(view_from_behind, vehicle, simulation).start()\n",
    "\n",
    "    while simulation.run:\n",
    "        move_agent(vehicle, actor_agent)\n",
    "\n",
    "    stop_vehicle(vehicle)\n",
    "    time.sleep(1)\n",
    "    set_spectator_location(carla.Location(x=139.538391, y=-9.965685, z=15.529643),\n",
    "                           carla.Rotation(pitch=-35.153622, yaw=-40.927944, roll=0))\n",
    "except KeyboardInterrupt:\n",
    "    print(\"simulation stopped\")\n",
    "    stop_vehicle(vehicle)\n",
    "    simulation.stop_simulation()\n",
    "finally:\n",
    "    print(\"done\")\n",
    "    adas.destroy()\n",
    "    "
   ]
  },
  {
   "cell_type": "markdown",
   "id": "3f585c72",
   "metadata": {},
   "source": [
    "## Scenario 6: Discesa"
   ]
  },
  {
   "cell_type": "markdown",
   "id": "f74ddfb9",
   "metadata": {},
   "source": [
    "### SETUP"
   ]
  },
  {
   "cell_type": "code",
   "execution_count": 63,
   "id": "05001a9a",
   "metadata": {},
   "outputs": [],
   "source": [
    "load_map(world, \"Town03\")"
   ]
  },
  {
   "cell_type": "code",
   "execution_count": 64,
   "id": "f919973a",
   "metadata": {},
   "outputs": [],
   "source": [
    "disable_traffic_lights()\n",
    "\n",
    "start = carla.Location(x=149.401398, y=-100.336784, z=9)\n",
    "vehicle_speed = 40\n",
    "destination = carla.Location(x=111.904289, y=-6.809386, z=0.119281)\n",
    "\n",
    "close_location = carla.Location(x=149.237808, y=-56.931606, z=7)\n",
    "middle_location = carla.Location(x=149.052383, y=-40.271507, z=6)\n",
    "far_location = carla.Location(x=149.052383, y=-20.271507, z=2)"
   ]
  },
  {
   "cell_type": "markdown",
   "id": "004359a6",
   "metadata": {},
   "source": [
    "### RUN"
   ]
  },
  {
   "cell_type": "code",
   "execution_count": null,
   "id": "908b929f",
   "metadata": {},
   "outputs": [],
   "source": [
    "destroy_all_vehicles(world)\n",
    "simulation = SyncSimulation(world)\n",
    "\n",
    "vehicle = spawn_vehicle(world, start, target_vehicle_id, 90)\n",
    "actor_agent = actor_vehicle(world, vehicle, destination, vehicle_speed)\n",
    "\n",
    "obstacle_vehicle = spawn_vehicle(world, far_location, 0, 90) \n",
    "\n",
    "stop_vehicle(obstacle_vehicle)\n",
    "\n",
    "try:\n",
    "    adas = attach_adas(simulation, world, vehicle, target_vehicle_ttc)\n",
    "    simulation.run_sync_simulation()\n",
    "    run_camera(view_from_behind, vehicle, simulation).start()\n",
    "    \n",
    "    while simulation.run:\n",
    "        if actor_agent.done():\n",
    "            simulation.stop_simulation()\n",
    "\n",
    "        move_agent(vehicle, actor_agent)\n",
    "        \n",
    "    stop_vehicle(vehicle)\n",
    "    time.sleep(1)\n",
    "    set_spectator_location(carla.Location(x=142.891983, y=-48.781475, z=48.636322),\n",
    "        carla.Rotation(pitch=-82.175034, yaw=-2.961209, roll=0.695270))\n",
    "\n",
    "except KeyboardInterrupt:\n",
    "    print(\"simulation stopped\")\n",
    "    stop_vehicle(vehicle)\n",
    "    simulation.stop_simulation()\n",
    "finally:\n",
    "    print(\"done\")\n",
    "    adas.destroy()"
   ]
  }
 ],
 "metadata": {
  "kernelspec": {
   "display_name": "carla-env",
   "language": "python",
   "name": "python3"
  },
  "language_info": {
   "codemirror_mode": {
    "name": "ipython",
    "version": 3
   },
   "file_extension": ".py",
   "mimetype": "text/x-python",
   "name": "python",
   "nbconvert_exporter": "python",
   "pygments_lexer": "ipython3",
   "version": "3.7.12"
  }
 },
 "nbformat": 4,
 "nbformat_minor": 5
}
