{
 "cells": [
  {
   "cell_type": "markdown",
   "metadata": {},
   "source": [
    "# **IMPORT LIBRERIE**"
   ]
  },
  {
   "cell_type": "code",
   "execution_count": 56,
   "metadata": {},
   "outputs": [],
   "source": [
    "import carla, time, random\n",
    "\n",
    "from Adas import Forward_collision_warning_mqtt\n",
    "from Adas_old import Forward_collision_warning_mqtt as Forward_collision_warning_mqtt_old\n",
    "\n",
    "from enum import Enum"
   ]
  },
  {
   "cell_type": "markdown",
   "metadata": {},
   "source": [
    "# **CARLA**"
   ]
  },
  {
   "cell_type": "code",
   "execution_count": 2,
   "metadata": {},
   "outputs": [
    {
     "ename": "KeyboardInterrupt",
     "evalue": "",
     "output_type": "error",
     "traceback": [
      "\u001b[1;31m---------------------------------------------------------------------------\u001b[0m",
      "\u001b[1;31mRuntimeError\u001b[0m                              Traceback (most recent call last)",
      "    \u001b[1;31m[... skipping hidden 1 frame]\u001b[0m\n",
      "\u001b[1;32m~\\AppData\\Local\\Temp\\ipykernel_11568\\2000492263.py\u001b[0m in \u001b[0;36m<module>\u001b[1;34m\u001b[0m\n\u001b[0;32m      9\u001b[0m \u001b[1;32mif\u001b[0m \u001b[1;32mnot\u001b[0m \u001b[0mworld\u001b[0m\u001b[1;33m.\u001b[0m\u001b[0mget_map\u001b[0m\u001b[1;33m(\u001b[0m\u001b[1;33m)\u001b[0m\u001b[1;33m.\u001b[0m\u001b[0mname\u001b[0m \u001b[1;33m==\u001b[0m \u001b[1;34m'Carla/Maps/Town03'\u001b[0m\u001b[1;33m:\u001b[0m\u001b[1;33m\u001b[0m\u001b[1;33m\u001b[0m\u001b[0m\n\u001b[1;32m---> 10\u001b[1;33m     \u001b[0mworld\u001b[0m \u001b[1;33m=\u001b[0m \u001b[0mclient\u001b[0m\u001b[1;33m.\u001b[0m\u001b[0mload_world\u001b[0m\u001b[1;33m(\u001b[0m\u001b[1;34m'Town03'\u001b[0m\u001b[1;33m)\u001b[0m\u001b[1;33m\u001b[0m\u001b[1;33m\u001b[0m\u001b[0m\n\u001b[0m",
      "\u001b[1;31mRuntimeError\u001b[0m: time-out of 10000ms while waiting for the simulator, make sure the simulator is ready and connected to localhost:2000",
      "\nDuring handling of the above exception, another exception occurred:\n",
      "\u001b[1;31mKeyboardInterrupt\u001b[0m                         Traceback (most recent call last)",
      "\u001b[1;31mKeyboardInterrupt\u001b[0m: "
     ]
    }
   ],
   "source": [
    "# Connessione\n",
    "client = carla.Client('localhost', 2000)\n",
    "client.set_timeout(10.0)\n",
    "\n",
    "# Instanza mondo\n",
    "world = client.get_world()\n",
    "\n",
    "# Caricamento mappa\n",
    "if not world.get_map().name == 'Carla/Maps/Town03':\n",
    "    world = client.load_world('Town03')"
   ]
  },
  {
   "cell_type": "markdown",
   "metadata": {},
   "source": [
    "# **METODI PER LA CREAZIONE DI ATTORI**"
   ]
  },
  {
   "cell_type": "code",
   "execution_count": 3,
   "metadata": {},
   "outputs": [],
   "source": [
    "def spawn_vehicle_by_spawnPoint(vehicle_index=0, spawn_index=0, pattern='vehicle.*'):\n",
    "    blueprint_library = world.get_blueprint_library()\n",
    "    vehicle_bp = blueprint_library.filter(pattern)[vehicle_index]\n",
    "    spawn_point = world.get_map().get_spawn_points()[spawn_index]\n",
    "    vehicle = world.spawn_actor(vehicle_bp, spawn_point)\n",
    "    return vehicle"
   ]
  },
  {
   "cell_type": "code",
   "execution_count": 4,
   "metadata": {},
   "outputs": [],
   "source": [
    "def spawn_vehicle_by_location(vehicle_index=0, location=carla.Location(), rotation = carla.Rotation()):\n",
    "    blueprint_library = world.get_blueprint_library()\n",
    "    vehicle_bp = blueprint_library.filter('vehicle.*')[vehicle_index]\n",
    "    spawn_point = carla.Transform()\n",
    "    spawn_point.location = location\n",
    "    spawn_point.rotation = rotation\n",
    "    vehicle = world.spawn_actor(vehicle_bp, spawn_point)\n",
    "    return vehicle"
   ]
  },
  {
   "cell_type": "code",
   "execution_count": 5,
   "metadata": {},
   "outputs": [],
   "source": [
    "def spawn_walker():\n",
    "    walker_bp = random.choice(world.get_blueprint_library().filter(\"walker.pedestrian.*\"))\n",
    "\n",
    "    start_location = carla.Location(x=70, y=25, z=1)\n",
    "\n",
    "    trans = carla.Transform()\n",
    "    trans.location = start_location\n",
    "\n",
    "    return world.spawn_actor(walker_bp, trans)"
   ]
  },
  {
   "cell_type": "markdown",
   "metadata": {},
   "source": [
    "# **FUNZIONI DI SUPPORTO**"
   ]
  },
  {
   "cell_type": "code",
   "execution_count": null,
   "metadata": {},
   "outputs": [],
   "source": [
    "# Comandi guida veicolo\n",
    "def move_forward(vehicle):\n",
    "    global throttle\n",
    "    control = carla.VehicleControl()\n",
    "    control.throttle = throttle\n",
    "    vehicle.apply_control(control)\n",
    "\n",
    "def stop_vehicle(vehicle):\n",
    "    print(\"stop\")\n",
    "#     control = carla.VehicleControl()\n",
    "#     control.throttle = 0.0\n",
    "#     control.brake = 1\n",
    "#     control.hand_brake = True\n",
    "#     vehicle.apply_control(control)"
   ]
  },
  {
   "cell_type": "code",
   "execution_count": 7,
   "metadata": {},
   "outputs": [],
   "source": [
    "# Simulazione sensore umidità dell'asflato\n",
    "def get_asphalt_friction_coefficient():\n",
    "    world = client.get_world()\n",
    "    weather = world.get_weather()\n",
    "    weather.precipitation_deposits\n",
    "    weather.wetness\n",
    "    return 0.8"
   ]
  },
  {
   "cell_type": "code",
   "execution_count": 8,
   "metadata": {},
   "outputs": [],
   "source": [
    "# Uscita dalla simulazione\n",
    "def stop_simulation():\n",
    "    global run\n",
    "    run = False\n",
    "    print(\"stop\")\n",
    "    \n",
    "    "
   ]
  },
  {
   "cell_type": "code",
   "execution_count": 9,
   "metadata": {},
   "outputs": [],
   "source": [
    "def get_vehicle_velocity(vehicle):\n",
    "    velocity_vector = vehicle.get_velocity()\n",
    "    velocity = (velocity_vector.x**2 + velocity_vector.y**2 + velocity_vector.z**2)**0.5\n",
    "    if vehicle.get_control().reverse:\n",
    "        velocity = -velocity\n",
    "    return velocity"
   ]
  },
  {
   "cell_type": "code",
   "execution_count": 16,
   "metadata": {},
   "outputs": [],
   "source": [
    "def destroy_all_vehicles(world):\n",
    "    all_actors = world.get_actors()\n",
    "    \n",
    "    vehicles = all_actors.filter('vehicle.*')\n",
    "    \n",
    "    print(f\"Numero di veicoli trovati: {len(vehicles)}\")\n",
    "    \n",
    "    for vehicle in vehicles:\n",
    "        vehicle.destroy()\n",
    "        print(f\"Veicolo distrutto: {vehicle.id}\")"
   ]
  },
  {
   "cell_type": "code",
   "execution_count": 31,
   "metadata": {},
   "outputs": [
    {
     "name": "stdout",
     "output_type": "stream",
     "text": [
      "Numero di veicoli trovati: 1\n",
      "Veicolo distrutto: 695\n"
     ]
    }
   ],
   "source": [
    "destroy_all_vehicles(world)"
   ]
  },
  {
   "cell_type": "code",
   "execution_count": 29,
   "metadata": {},
   "outputs": [],
   "source": [
    "vehicle = spawn_vehicle_by_location(0, carla.Location(x=100, y=-6.9, z=1), carla.Rotation(yaw = 180))"
   ]
  },
  {
   "cell_type": "markdown",
   "metadata": {},
   "source": [
    "# **SIMULAZIONE**"
   ]
  },
  {
   "cell_type": "code",
   "execution_count": 62,
   "metadata": {},
   "outputs": [
    {
     "name": "stdout",
     "output_type": "stream",
     "text": [
      "Numero di veicoli trovati: 1\n",
      "Veicolo distrutto: 762\n",
      "Send `ACTION` to topic `carla/fcw_state`\n",
      "stop\n",
      "stop\n"
     ]
    }
   ],
   "source": [
    "destroy_all_vehicles(world)\n",
    "\n",
    "spawn_vehicle_by_location(0, carla.Location(x=100, y=-6.9, z=1), carla.Rotation(yaw = 180))\n",
    "\n",
    "try:\n",
    "    vehicle = spawn_vehicle_by_location(2, carla.Location(x=140, y=-5.8, z=1), carla.Rotation(yaw = 180))\n",
    "#     vehicle = spawn_vehicle_by_spawnPoint()\n",
    "    #walker = spawn_walker()\n",
    "\n",
    "    run = True\n",
    "    throttle = 0.7\n",
    "\n",
    "    adas = Forward_collision_warning_mqtt(\n",
    "        world = world,\n",
    "        attached_vehicle = vehicle,\n",
    "        get_asphalt_friction_coefficient = lambda : get_asphalt_friction_coefficient(),\n",
    "        action_listener = lambda : stop_simulation(),\n",
    "        min_ttc=0.5\n",
    "    )\n",
    "\n",
    "#     vehicle.set_autopilot(True)\n",
    "\n",
    "    while run:\n",
    "        move_forward(vehicle)\n",
    "        time.sleep(0.05)\n",
    "    \n",
    "    stop_vehicle(vehicle)\n",
    "    time.sleep(10)\n",
    "\n",
    "finally:\n",
    "    adas.destroy()\n",
    "    vehicle.destroy()\n",
    "    #walker.destroy()\n",
    "    "
   ]
  },
  {
   "cell_type": "code",
   "execution_count": 36,
   "metadata": {},
   "outputs": [],
   "source": [
    "import sys\n",
    "sys.path.insert(0,'C:/svs/CARLA_0.9.15/WindowsNoEditor/PythonAPI/carla')\n",
    "from agents.navigation.basic_agent import BasicAgent"
   ]
  },
  {
   "cell_type": "code",
   "execution_count": 32,
   "metadata": {},
   "outputs": [],
   "source": [
    "def actor_vehicle(world, vehicle, desitination, speed = 60):\n",
    "    world.wait_for_tick()\n",
    "    actor_agent = BasicAgent(vehicle)\n",
    "    actor_agent.set_destination(desitination)\n",
    "    actor_agent.set_target_speed(speed)\n",
    "    actor_agent.ignore_vehicles()\n",
    "    world.wait_for_tick()\n",
    "    return actor_agent"
   ]
  },
  {
   "cell_type": "code",
   "execution_count": 54,
   "metadata": {},
   "outputs": [
    {
     "name": "stdout",
     "output_type": "stream",
     "text": [
      "Numero di veicoli trovati: 1\n",
      "Veicolo distrutto: 741\n",
      "Send `ACTION` to topic `carla/fcw_state`\n",
      "stop\n",
      "AIUTOOOO\n",
      "stop\n"
     ]
    }
   ],
   "source": [
    "destroy_all_vehicles(world)\n",
    "\n",
    "spawn_vehicle_by_location(0, carla.Location(x=100, y=-6.9, z=1), carla.Rotation(yaw = 180))\n",
    "\n",
    "destination = carla.Location(x=100, y=-6.9, z=1)\n",
    "try:\n",
    "    vehicle = spawn_vehicle_by_location(2, carla.Location(x=140, y=-5.8, z=1), carla.Rotation(yaw = 180))\n",
    "    world.wait_for_tick()\n",
    "\n",
    "    actor_agent = actor_vehicle(world, vehicle, destination, 120)\n",
    "    \n",
    "    \n",
    "    run = True\n",
    "    throttle = 0.7\n",
    "\n",
    "    adas = Forward_collision_warning_mqtt(\n",
    "        world = world,\n",
    "        attached_vehicle = vehicle,\n",
    "        get_asphalt_friction_coefficient = lambda : get_asphalt_friction_coefficient(),\n",
    "        action_listener = lambda : stop_simulation(),\n",
    "        min_ttc=0.5\n",
    "    )\n",
    "\n",
    "#     vehicle.set_autopilot(True)\n",
    "\n",
    "    while run:\n",
    "        #move_forward(vehicle)\n",
    "        vehicle.apply_control(actor_agent.run_step())\n",
    "        time.sleep(0.05)\n",
    "    print(\"AIUTOOOO\")\n",
    "    \n",
    "    stop_vehicle(vehicle)\n",
    "#     time.sleep(10)\n",
    "\n",
    "finally:\n",
    "    adas.destroy()\n",
    "    vehicle.destroy()\n",
    "    #walker.destroy()\n",
    "    "
   ]
  },
  {
   "cell_type": "code",
   "execution_count": null,
   "metadata": {},
   "outputs": [],
   "source": []
  }
 ],
 "metadata": {
  "kernelspec": {
   "display_name": "Python 3 (ipykernel)",
   "language": "python",
   "name": "python3"
  },
  "language_info": {
   "codemirror_mode": {
    "name": "ipython",
    "version": 3
   },
   "file_extension": ".py",
   "mimetype": "text/x-python",
   "name": "python",
   "nbconvert_exporter": "python",
   "pygments_lexer": "ipython3",
   "version": "3.7.16"
  }
 },
 "nbformat": 4,
 "nbformat_minor": 2
}
